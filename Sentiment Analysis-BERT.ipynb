{
 "cells": [
  {
   "cell_type": "code",
   "execution_count": null,
   "id": "fb2c1c05",
   "metadata": {
    "colab": {
     "base_uri": "https://localhost:8080/",
     "height": 428
    },
    "id": "fb2c1c05",
    "outputId": "b2585d9c-6ccc-4d2f-c7a5-771b92b95dfa"
   },
   "outputs": [
    {
     "name": "stderr",
     "output_type": "stream",
     "text": [
      "/usr/local/lib/python3.7/dist-packages/statsmodels/tools/_testing.py:19: FutureWarning: pandas.util.testing is deprecated. Use the functions in the public API at pandas.testing instead.\n",
      "  import pandas.util.testing as tm\n"
     ]
    },
    {
     "ename": "ModuleNotFoundError",
     "errorDetails": {
      "actions": [
       {
        "action": "open_url",
        "actionText": "Open Examples",
        "url": "/notebooks/snippets/importing_libraries.ipynb"
       }
      ]
     },
     "evalue": "ignored",
     "output_type": "error",
     "traceback": [
      "\u001b[0;31m---------------------------------------------------------------------------\u001b[0m",
      "\u001b[0;31mModuleNotFoundError\u001b[0m                       Traceback (most recent call last)",
      "\u001b[0;32m<ipython-input-1-57c407b980ee>\u001b[0m in \u001b[0;36m<module>\u001b[0;34m()\u001b[0m\n\u001b[1;32m     18\u001b[0m \u001b[0;32mimport\u001b[0m \u001b[0mre\u001b[0m\u001b[0;34m\u001b[0m\u001b[0;34m\u001b[0m\u001b[0m\n\u001b[1;32m     19\u001b[0m \u001b[0;32mimport\u001b[0m \u001b[0mpandas\u001b[0m \u001b[0;32mas\u001b[0m \u001b[0mpd\u001b[0m\u001b[0;34m\u001b[0m\u001b[0;34m\u001b[0m\u001b[0m\n\u001b[0;32m---> 20\u001b[0;31m \u001b[0;32mfrom\u001b[0m \u001b[0mselenium\u001b[0m \u001b[0;32mimport\u001b[0m \u001b[0mwebdriver\u001b[0m\u001b[0;34m\u001b[0m\u001b[0;34m\u001b[0m\u001b[0m\n\u001b[0m\u001b[1;32m     21\u001b[0m \u001b[0;32mfrom\u001b[0m \u001b[0mselenium\u001b[0m\u001b[0;34m.\u001b[0m\u001b[0mwebdriver\u001b[0m\u001b[0;34m.\u001b[0m\u001b[0mcommon\u001b[0m\u001b[0;34m.\u001b[0m\u001b[0mkeys\u001b[0m \u001b[0;32mimport\u001b[0m \u001b[0mKeys\u001b[0m\u001b[0;34m\u001b[0m\u001b[0;34m\u001b[0m\u001b[0m\n\u001b[1;32m     22\u001b[0m \u001b[0;32mfrom\u001b[0m \u001b[0mselenium\u001b[0m\u001b[0;34m.\u001b[0m\u001b[0mwebdriver\u001b[0m\u001b[0;34m.\u001b[0m\u001b[0mcommon\u001b[0m\u001b[0;34m.\u001b[0m\u001b[0mby\u001b[0m \u001b[0;32mimport\u001b[0m \u001b[0mBy\u001b[0m\u001b[0;34m\u001b[0m\u001b[0;34m\u001b[0m\u001b[0m\n",
      "\u001b[0;31mModuleNotFoundError\u001b[0m: No module named 'selenium'",
      "",
      "\u001b[0;31m---------------------------------------------------------------------------\u001b[0;32m\nNOTE: If your import is failing due to a missing package, you can\nmanually install dependencies using either !pip or !apt.\n\nTo view examples of installing some common dependencies, click the\n\"Open Examples\" button below.\n\u001b[0;31m---------------------------------------------------------------------------\u001b[0m\n"
     ]
    }
   ],
   "source": [
    "# Importing all the libraries\n",
    "import pandas as pd\n",
    "import numpy as np\n",
    "import re\n",
    "from nltk.corpus import stopwords\n",
    "import matplotlib.pyplot as plt\n",
    "%matplotlib inline\n",
    "import seaborn as sns\n",
    "from scipy import stats\n",
    "from scipy.stats import ttest_1samp, wilcoxon\n",
    "from statsmodels.stats.power import ttest_power\n",
    "from sklearn.preprocessing import LabelEncoder\n",
    "import copy\n",
    "\n",
    "\n",
    "\n",
    "import time\n",
    "import re\n",
    "import pandas as pd\n",
    "from selenium import webdriver\n",
    "from selenium.webdriver.common.keys import Keys\n",
    "from selenium.webdriver.common.by import By\n",
    "from selenium.webdriver.support.ui import WebDriverWait\n",
    "from selenium.webdriver.support import expected_conditions as EC\n",
    "from selenium.common.exceptions import ElementClickInterceptedException"
   ]
  },
  {
   "cell_type": "code",
   "execution_count": null,
   "id": "3e2e1485",
   "metadata": {
    "colab": {
     "base_uri": "https://localhost:8080/",
     "height": 206
    },
    "id": "3e2e1485",
    "outputId": "1b50d6c5-06f2-444e-8715-a0710a6ec801"
   },
   "outputs": [
    {
     "data": {
      "text/html": [
       "\n",
       "  <div id=\"df-b164fb21-9762-41ce-82fd-21ce59bc52e4\">\n",
       "    <div class=\"colab-df-container\">\n",
       "      <div>\n",
       "<style scoped>\n",
       "    .dataframe tbody tr th:only-of-type {\n",
       "        vertical-align: middle;\n",
       "    }\n",
       "\n",
       "    .dataframe tbody tr th {\n",
       "        vertical-align: top;\n",
       "    }\n",
       "\n",
       "    .dataframe thead th {\n",
       "        text-align: right;\n",
       "    }\n",
       "</style>\n",
       "<table border=\"1\" class=\"dataframe\">\n",
       "  <thead>\n",
       "    <tr style=\"text-align: right;\">\n",
       "      <th></th>\n",
       "      <th>Unnamed: 0</th>\n",
       "      <th>Customer Review</th>\n",
       "      <th>text</th>\n",
       "      <th>Language</th>\n",
       "      <th>review_clean</th>\n",
       "    </tr>\n",
       "  </thead>\n",
       "  <tbody>\n",
       "    <tr>\n",
       "      <th>0</th>\n",
       "      <td>0</td>\n",
       "      <td>Review 1</td>\n",
       "      <td>travel alot and really enjoyed my stay here th...</td>\n",
       "      <td>en</td>\n",
       "      <td>travel alot really enjoyed stay hotel clean st...</td>\n",
       "    </tr>\n",
       "    <tr>\n",
       "      <th>1</th>\n",
       "      <td>1</td>\n",
       "      <td>Review 2</td>\n",
       "      <td>stayed one night for seminar at the university...</td>\n",
       "      <td>en</td>\n",
       "      <td>stayed one night seminar university clean comf...</td>\n",
       "    </tr>\n",
       "    <tr>\n",
       "      <th>2</th>\n",
       "      <td>2</td>\n",
       "      <td>Review 3</td>\n",
       "      <td>stayed at the the bw downtown on two separate ...</td>\n",
       "      <td>en</td>\n",
       "      <td>stay bw downtown two separate business trip ac...</td>\n",
       "    </tr>\n",
       "    <tr>\n",
       "      <th>3</th>\n",
       "      <td>3</td>\n",
       "      <td>Review 4</td>\n",
       "      <td>this is my first year to go to with group of q...</td>\n",
       "      <td>en</td>\n",
       "      <td>first year go group quilter southeast kansas i...</td>\n",
       "    </tr>\n",
       "    <tr>\n",
       "      <th>4</th>\n",
       "      <td>4</td>\n",
       "      <td>Review 5</td>\n",
       "      <td>travel with several friends we re from small t...</td>\n",
       "      <td>en</td>\n",
       "      <td>travel several friend small town girl weekend ...</td>\n",
       "    </tr>\n",
       "  </tbody>\n",
       "</table>\n",
       "</div>\n",
       "      <button class=\"colab-df-convert\" onclick=\"convertToInteractive('df-b164fb21-9762-41ce-82fd-21ce59bc52e4')\"\n",
       "              title=\"Convert this dataframe to an interactive table.\"\n",
       "              style=\"display:none;\">\n",
       "        \n",
       "  <svg xmlns=\"http://www.w3.org/2000/svg\" height=\"24px\"viewBox=\"0 0 24 24\"\n",
       "       width=\"24px\">\n",
       "    <path d=\"M0 0h24v24H0V0z\" fill=\"none\"/>\n",
       "    <path d=\"M18.56 5.44l.94 2.06.94-2.06 2.06-.94-2.06-.94-.94-2.06-.94 2.06-2.06.94zm-11 1L8.5 8.5l.94-2.06 2.06-.94-2.06-.94L8.5 2.5l-.94 2.06-2.06.94zm10 10l.94 2.06.94-2.06 2.06-.94-2.06-.94-.94-2.06-.94 2.06-2.06.94z\"/><path d=\"M17.41 7.96l-1.37-1.37c-.4-.4-.92-.59-1.43-.59-.52 0-1.04.2-1.43.59L10.3 9.45l-7.72 7.72c-.78.78-.78 2.05 0 2.83L4 21.41c.39.39.9.59 1.41.59.51 0 1.02-.2 1.41-.59l7.78-7.78 2.81-2.81c.8-.78.8-2.07 0-2.86zM5.41 20L4 18.59l7.72-7.72 1.47 1.35L5.41 20z\"/>\n",
       "  </svg>\n",
       "      </button>\n",
       "      \n",
       "  <style>\n",
       "    .colab-df-container {\n",
       "      display:flex;\n",
       "      flex-wrap:wrap;\n",
       "      gap: 12px;\n",
       "    }\n",
       "\n",
       "    .colab-df-convert {\n",
       "      background-color: #E8F0FE;\n",
       "      border: none;\n",
       "      border-radius: 50%;\n",
       "      cursor: pointer;\n",
       "      display: none;\n",
       "      fill: #1967D2;\n",
       "      height: 32px;\n",
       "      padding: 0 0 0 0;\n",
       "      width: 32px;\n",
       "    }\n",
       "\n",
       "    .colab-df-convert:hover {\n",
       "      background-color: #E2EBFA;\n",
       "      box-shadow: 0px 1px 2px rgba(60, 64, 67, 0.3), 0px 1px 3px 1px rgba(60, 64, 67, 0.15);\n",
       "      fill: #174EA6;\n",
       "    }\n",
       "\n",
       "    [theme=dark] .colab-df-convert {\n",
       "      background-color: #3B4455;\n",
       "      fill: #D2E3FC;\n",
       "    }\n",
       "\n",
       "    [theme=dark] .colab-df-convert:hover {\n",
       "      background-color: #434B5C;\n",
       "      box-shadow: 0px 1px 3px 1px rgba(0, 0, 0, 0.15);\n",
       "      filter: drop-shadow(0px 1px 2px rgba(0, 0, 0, 0.3));\n",
       "      fill: #FFFFFF;\n",
       "    }\n",
       "  </style>\n",
       "\n",
       "      <script>\n",
       "        const buttonEl =\n",
       "          document.querySelector('#df-b164fb21-9762-41ce-82fd-21ce59bc52e4 button.colab-df-convert');\n",
       "        buttonEl.style.display =\n",
       "          google.colab.kernel.accessAllowed ? 'block' : 'none';\n",
       "\n",
       "        async function convertToInteractive(key) {\n",
       "          const element = document.querySelector('#df-b164fb21-9762-41ce-82fd-21ce59bc52e4');\n",
       "          const dataTable =\n",
       "            await google.colab.kernel.invokeFunction('convertToInteractive',\n",
       "                                                     [key], {});\n",
       "          if (!dataTable) return;\n",
       "\n",
       "          const docLinkHtml = 'Like what you see? Visit the ' +\n",
       "            '<a target=\"_blank\" href=https://colab.research.google.com/notebooks/data_table.ipynb>data table notebook</a>'\n",
       "            + ' to learn more about interactive tables.';\n",
       "          element.innerHTML = '';\n",
       "          dataTable['output_type'] = 'display_data';\n",
       "          await google.colab.output.renderOutput(dataTable, element);\n",
       "          const docLink = document.createElement('div');\n",
       "          docLink.innerHTML = docLinkHtml;\n",
       "          element.appendChild(docLink);\n",
       "        }\n",
       "      </script>\n",
       "    </div>\n",
       "  </div>\n",
       "  "
      ],
      "text/plain": [
       "   Unnamed: 0 Customer Review  \\\n",
       "0           0        Review 1   \n",
       "1           1        Review 2   \n",
       "2           2        Review 3   \n",
       "3           3        Review 4   \n",
       "4           4        Review 5   \n",
       "\n",
       "                                                text Language  \\\n",
       "0  travel alot and really enjoyed my stay here th...       en   \n",
       "1  stayed one night for seminar at the university...       en   \n",
       "2  stayed at the the bw downtown on two separate ...       en   \n",
       "3  this is my first year to go to with group of q...       en   \n",
       "4  travel with several friends we re from small t...       en   \n",
       "\n",
       "                                        review_clean  \n",
       "0  travel alot really enjoyed stay hotel clean st...  \n",
       "1  stayed one night seminar university clean comf...  \n",
       "2  stay bw downtown two separate business trip ac...  \n",
       "3  first year go group quilter southeast kansas i...  \n",
       "4  travel several friend small town girl weekend ...  "
      ]
     },
     "execution_count": 25,
     "metadata": {},
     "output_type": "execute_result"
    }
   ],
   "source": [
    "# Loading the Input File\n",
    "# df = pd.read_excel('TextAnalyticsCase.xlsx',sheet_name='Hotel_reviews')\n",
    "df = pd.read_csv('Bigcase_cleaned.csv')\n",
    "df.head()"
   ]
  },
  {
   "cell_type": "markdown",
   "id": "10846ed9",
   "metadata": {
    "id": "10846ed9"
   },
   "source": [
    "## Language Detector"
   ]
  },
  {
   "cell_type": "code",
   "execution_count": null,
   "id": "414400d1",
   "metadata": {
    "id": "414400d1"
   },
   "outputs": [],
   "source": [
    "def detect_language_gog(text):\n",
    "    translator = google_translator()\n",
    "    temp = translator.detect(text)\n",
    "    time.sleep(0.5)\n",
    "    return(temp)\n",
    "\n",
    "def detect_language(text):\n",
    "    return(langdetect.detect(text))"
   ]
  },
  {
   "cell_type": "markdown",
   "id": "d93199e5",
   "metadata": {
    "id": "d93199e5"
   },
   "source": [
    "## Language Translator"
   ]
  },
  {
   "cell_type": "code",
   "execution_count": null,
   "id": "30d0d447",
   "metadata": {
    "id": "30d0d447"
   },
   "outputs": [],
   "source": [
    "from google_trans_new import google_translator\n",
    "import time\n",
    "import langdetect\n",
    "\n",
    "def translate(text):\n",
    "    translator = google_translator()\n",
    "    translatedText = translator.translate(text)\n",
    "    time.sleep(0.5)\n",
    "    return translatedText.lower()"
   ]
  },
  {
   "cell_type": "code",
   "execution_count": null,
   "id": "901b3007",
   "metadata": {
    "id": "901b3007"
   },
   "outputs": [],
   "source": [
    "# Detecting the language with langdetect\n",
    "df['Language'] = df['text'].apply(detect_language)"
   ]
  },
  {
   "cell_type": "code",
   "execution_count": null,
   "id": "a00115b0",
   "metadata": {
    "id": "a00115b0"
   },
   "outputs": [],
   "source": [
    "# Collecting Non English Indexes\n",
    "Non_English_Index = df[df['Language'] != 'en'].index"
   ]
  },
  {
   "cell_type": "code",
   "execution_count": null,
   "id": "10b24c9a",
   "metadata": {
    "id": "10b24c9a"
   },
   "outputs": [],
   "source": [
    "# Passing the Non English Index through google translator to detect any undetected text in LangDetect Library\n",
    "driver_path  = \"C:\\Program Files\\Drivers\\msedgedriver.exe\"\n",
    "driver = webdriver.Edge(executable_path=driver_path)\n",
    "for i in Non_English_Index:    \n",
    "    driver.implicitly_wait(0.5)\n",
    "    #launch URL\n",
    "    driver.get(\"https://translate.google.com/\")\n",
    "    #identify search box\n",
    "    time.sleep(2)\n",
    "    m = driver.find_element_by_xpath('/html/body/c-wiz/div/div[2]/c-wiz/div[2]/c-wiz/div[1]/div[2]/div[3]/c-wiz[1]/span/span/div/textarea')\n",
    "    #enter search text\n",
    "    m.send_keys(str(df.loc[i,'text']))\n",
    "    #perform Google search with Keys.ENTER\n",
    "    m.send_keys(Keys.ENTER)\n",
    "    time.sleep(5)\n",
    "    t = driver.find_element_by_xpath('/html/body/c-wiz/div/div[2]/c-wiz/div[2]/c-wiz/div[1]/div[2]/div[3]/c-wiz[2]/div[6]/div/div[1]')\n",
    "    df.loc[i,'text'] = t.text"
   ]
  },
  {
   "cell_type": "code",
   "execution_count": null,
   "id": "1f4359a2",
   "metadata": {
    "id": "1f4359a2"
   },
   "outputs": [],
   "source": [
    "# Detecting the language with langdetect\n",
    "df['Language'] = df['text'].apply(detect_language)"
   ]
  },
  {
   "cell_type": "code",
   "execution_count": null,
   "id": "989f152c",
   "metadata": {
    "id": "989f152c",
    "outputId": "bf1d7148-cb6c-4bc8-b03c-3ef60954067d"
   },
   "outputs": [
    {
     "data": {
      "text/html": [
       "<div>\n",
       "<style scoped>\n",
       "    .dataframe tbody tr th:only-of-type {\n",
       "        vertical-align: middle;\n",
       "    }\n",
       "\n",
       "    .dataframe tbody tr th {\n",
       "        vertical-align: top;\n",
       "    }\n",
       "\n",
       "    .dataframe thead th {\n",
       "        text-align: right;\n",
       "    }\n",
       "</style>\n",
       "<table border=\"1\" class=\"dataframe\">\n",
       "  <thead>\n",
       "    <tr style=\"text-align: right;\">\n",
       "      <th></th>\n",
       "      <th>Customer Review</th>\n",
       "      <th>text</th>\n",
       "      <th>Language</th>\n",
       "    </tr>\n",
       "  </thead>\n",
       "  <tbody>\n",
       "  </tbody>\n",
       "</table>\n",
       "</div>"
      ],
      "text/plain": [
       "Empty DataFrame\n",
       "Columns: [Customer Review, text, Language]\n",
       "Index: []"
      ]
     },
     "execution_count": 63,
     "metadata": {},
     "output_type": "execute_result"
    }
   ],
   "source": [
    "df[df['Language'] != 'en']"
   ]
  },
  {
   "cell_type": "code",
   "execution_count": null,
   "id": "7bca7ce0",
   "metadata": {
    "id": "7bca7ce0"
   },
   "outputs": [],
   "source": [
    "from dateutil import parser\n",
    "def is_date(str_):\n",
    "    try:\n",
    "        parser.parse(str_)\n",
    "        return True\n",
    "    except:\n",
    "        return False\n",
    "\n",
    "def Formatting(text):\n",
    "    text = str(text)\n",
    "    text=text.lower()\n",
    "    # Removing date from the text\n",
    "    text = ' '.join([w for w in text.split() if not is_date(w)])\n",
    "    text = ' '.join([w for w in text.split() if len(w) > 1])\n",
    "    # Remove numbers \n",
    "    text = re.sub(r'\\d+','' ,text)\n",
    "    #Remove email \n",
    "    text = re.sub(r'\\S*@\\S*\\s?', '', text)\n",
    "    # Remove new line characters \n",
    "    text = re.sub(r'\\n',' ',text)\n",
    "    # Remove hashtag while keeping hashtag text\n",
    "    text = re.sub(r'#','', text)\n",
    "    #& \n",
    "    text = re.sub(r'&;?', 'and',text)\n",
    "    # Remove HTML special entities (e.g. &amp;)\n",
    "    text = re.sub(r'\\&\\w*;', '', text)\n",
    "    # Remove hyperlinks\n",
    "    text = re.sub(r'https?:\\/\\/.*\\/\\w*', '', text)  \n",
    "    # Removing addressings\n",
    "    text = re.sub(r\"received from:\",' ',text)\n",
    "    text = re.sub(r\"from:\",' ',text)\n",
    "    text = re.sub(r\"to:\",' ',text)\n",
    "    text = re.sub(r\"subject:\",' ',text)\n",
    "    text = re.sub(r\"sent:\",' ',text)\n",
    "    text = re.sub(r\"ic:\",' ',text)\n",
    "    text = re.sub(r\"cc:\",' ',text)\n",
    "    text = re.sub(r\"bcc:\",' ',text)\n",
    "    # Remove characters beyond Readable formart by Unicode:\n",
    "    text= ''.join(charac for charac in text if charac <= '\\uFFFF') \n",
    "    text = text.strip()\n",
    "    # Remove unreadable characters  (also extra spaces)\n",
    "    text = ' '.join(re.sub(\"[^\\u0030-\\u0039\\u0041-\\u005a\\u0061-\\u007a]\", \" \", text).split())\n",
    "    text = re.sub(r\"\\s+[a-zA-Z]\\s+\", ' ', text)\n",
    "    text = re.sub(' +', ' ', text)\n",
    "    text = text.strip()\n",
    "    return text"
   ]
  },
  {
   "cell_type": "code",
   "execution_count": null,
   "id": "95c6f2ca",
   "metadata": {
    "id": "95c6f2ca"
   },
   "outputs": [],
   "source": [
    "df['text'] = df['text'].apply(Formatting)"
   ]
  },
  {
   "cell_type": "code",
   "execution_count": null,
   "id": "42c4a317",
   "metadata": {
    "id": "42c4a317",
    "outputId": "dba149c3-8e93-4f3d-d758-16bfc11e4bee"
   },
   "outputs": [
    {
     "data": {
      "text/html": [
       "<div>\n",
       "<style scoped>\n",
       "    .dataframe tbody tr th:only-of-type {\n",
       "        vertical-align: middle;\n",
       "    }\n",
       "\n",
       "    .dataframe tbody tr th {\n",
       "        vertical-align: top;\n",
       "    }\n",
       "\n",
       "    .dataframe thead th {\n",
       "        text-align: right;\n",
       "    }\n",
       "</style>\n",
       "<table border=\"1\" class=\"dataframe\">\n",
       "  <thead>\n",
       "    <tr style=\"text-align: right;\">\n",
       "      <th></th>\n",
       "      <th>Customer Review</th>\n",
       "      <th>text</th>\n",
       "      <th>Language</th>\n",
       "    </tr>\n",
       "  </thead>\n",
       "  <tbody>\n",
       "    <tr>\n",
       "      <th>0</th>\n",
       "      <td>Review 1</td>\n",
       "      <td>travel alot and really enjoyed my stay here th...</td>\n",
       "      <td>en</td>\n",
       "    </tr>\n",
       "    <tr>\n",
       "      <th>1</th>\n",
       "      <td>Review 2</td>\n",
       "      <td>stayed one night for seminar at the university...</td>\n",
       "      <td>en</td>\n",
       "    </tr>\n",
       "    <tr>\n",
       "      <th>2</th>\n",
       "      <td>Review 3</td>\n",
       "      <td>stayed at the the bw downtown on two separate ...</td>\n",
       "      <td>en</td>\n",
       "    </tr>\n",
       "    <tr>\n",
       "      <th>3</th>\n",
       "      <td>Review 4</td>\n",
       "      <td>this is my first year to go to with group of q...</td>\n",
       "      <td>en</td>\n",
       "    </tr>\n",
       "    <tr>\n",
       "      <th>4</th>\n",
       "      <td>Review 5</td>\n",
       "      <td>travel with several friends we re from small t...</td>\n",
       "      <td>en</td>\n",
       "    </tr>\n",
       "    <tr>\n",
       "      <th>...</th>\n",
       "      <td>...</td>\n",
       "      <td>...</td>\n",
       "      <td>...</td>\n",
       "    </tr>\n",
       "    <tr>\n",
       "      <th>195</th>\n",
       "      <td>Review 196</td>\n",
       "      <td>we try to use any excuse to celebrate weekend ...</td>\n",
       "      <td>en</td>\n",
       "    </tr>\n",
       "    <tr>\n",
       "      <th>196</th>\n",
       "      <td>Review 197</td>\n",
       "      <td>the sorella is nice contemporary hotel quiet f...</td>\n",
       "      <td>en</td>\n",
       "    </tr>\n",
       "    <tr>\n",
       "      <th>197</th>\n",
       "      <td>Review 198</td>\n",
       "      <td>this is always one of my favorites in houston ...</td>\n",
       "      <td>en</td>\n",
       "    </tr>\n",
       "    <tr>\n",
       "      <th>198</th>\n",
       "      <td>Review 199</td>\n",
       "      <td>schzen rooms and are very well furnished what ...</td>\n",
       "      <td>en</td>\n",
       "    </tr>\n",
       "    <tr>\n",
       "      <th>199</th>\n",
       "      <td>Review 200</td>\n",
       "      <td>quite bit from the downtown but if you you re ...</td>\n",
       "      <td>en</td>\n",
       "    </tr>\n",
       "  </tbody>\n",
       "</table>\n",
       "<p>200 rows × 3 columns</p>\n",
       "</div>"
      ],
      "text/plain": [
       "    Customer Review                                               text  \\\n",
       "0          Review 1  travel alot and really enjoyed my stay here th...   \n",
       "1          Review 2  stayed one night for seminar at the university...   \n",
       "2          Review 3  stayed at the the bw downtown on two separate ...   \n",
       "3          Review 4  this is my first year to go to with group of q...   \n",
       "4          Review 5  travel with several friends we re from small t...   \n",
       "..              ...                                                ...   \n",
       "195      Review 196  we try to use any excuse to celebrate weekend ...   \n",
       "196      Review 197  the sorella is nice contemporary hotel quiet f...   \n",
       "197      Review 198  this is always one of my favorites in houston ...   \n",
       "198      Review 199  schzen rooms and are very well furnished what ...   \n",
       "199      Review 200  quite bit from the downtown but if you you re ...   \n",
       "\n",
       "    Language  \n",
       "0         en  \n",
       "1         en  \n",
       "2         en  \n",
       "3         en  \n",
       "4         en  \n",
       "..       ...  \n",
       "195       en  \n",
       "196       en  \n",
       "197       en  \n",
       "198       en  \n",
       "199       en  \n",
       "\n",
       "[200 rows x 3 columns]"
      ]
     },
     "execution_count": 75,
     "metadata": {},
     "output_type": "execute_result"
    }
   ],
   "source": [
    "df"
   ]
  },
  {
   "cell_type": "code",
   "execution_count": null,
   "id": "8de0a131",
   "metadata": {
    "id": "8de0a131"
   },
   "outputs": [],
   "source": [
    "# return the wordnet object value corresponding to the POS tag\n",
    "from nltk.corpus import wordnet\n",
    "\n",
    "def get_wordnet_pos(pos_tag):\n",
    "    if pos_tag.startswith('J'):\n",
    "        return wordnet.ADJ\n",
    "    elif pos_tag.startswith('V'):\n",
    "        return wordnet.VERB\n",
    "    elif pos_tag.startswith('N'):\n",
    "        return wordnet.NOUN\n",
    "    elif pos_tag.startswith('R'):\n",
    "        return wordnet.ADV\n",
    "    else:\n",
    "        return wordnet.NOUN\n",
    "    \n",
    "import string\n",
    "from nltk import pos_tag\n",
    "from nltk.corpus import stopwords\n",
    "from nltk.tokenize import WhitespaceTokenizer\n",
    "from nltk.stem import WordNetLemmatizer\n",
    "\n",
    "def clean_text(text):\n",
    "    # lower text\n",
    "    text = text.lower()\n",
    "    # tokenize text and remove puncutation\n",
    "    text = [word.strip(string.punctuation) for word in text.split(\" \")]\n",
    "    # remove words that contain numbers\n",
    "    text = [word for word in text if not any(c.isdigit() for c in word)]\n",
    "    # remove stop words\n",
    "    stop = stopwords.words('english')\n",
    "    text = [x for x in text if x not in stop]\n",
    "    # remove empty tokens\n",
    "    text = [t for t in text if len(t) > 0]\n",
    "    # pos tag text\n",
    "    pos_tags = pos_tag(text)\n",
    "    # lemmatize text\n",
    "    text = [WordNetLemmatizer().lemmatize(t[0], get_wordnet_pos(t[1])) for t in pos_tags]\n",
    "    # remove words with only one letter\n",
    "    text = [t for t in text if len(t) > 1]\n",
    "    # join all\n",
    "    text = \" \".join(text)\n",
    "    return(text)\n",
    "\n",
    "# clean text data\n",
    "df[\"review_clean\"] = df[\"text\"].apply(lambda x: clean_text(x))"
   ]
  },
  {
   "cell_type": "code",
   "execution_count": null,
   "id": "f66So_FXk958",
   "metadata": {
    "colab": {
     "base_uri": "https://localhost:8080/",
     "height": 984
    },
    "id": "f66So_FXk958",
    "outputId": "0bebca97-6255-4cbb-cd64-351afea66d21"
   },
   "outputs": [
    {
     "name": "stdout",
     "output_type": "stream",
     "text": [
      "Collecting transformers\n",
      "  Downloading transformers-4.17.0-py3-none-any.whl (3.8 MB)\n",
      "\u001b[K     |████████████████████████████████| 3.8 MB 5.2 MB/s \n",
      "\u001b[?25hRequirement already satisfied: tqdm>=4.27 in /usr/local/lib/python3.7/dist-packages (from transformers) (4.63.0)\n",
      "Requirement already satisfied: filelock in /usr/local/lib/python3.7/dist-packages (from transformers) (3.6.0)\n",
      "Collecting huggingface-hub<1.0,>=0.1.0\n",
      "  Downloading huggingface_hub-0.4.0-py3-none-any.whl (67 kB)\n",
      "\u001b[K     |████████████████████████████████| 67 kB 4.3 MB/s \n",
      "\u001b[?25hRequirement already satisfied: requests in /usr/local/lib/python3.7/dist-packages (from transformers) (2.23.0)\n",
      "Requirement already satisfied: importlib-metadata in /usr/local/lib/python3.7/dist-packages (from transformers) (4.11.2)\n",
      "Collecting sacremoses\n",
      "  Downloading sacremoses-0.0.49-py3-none-any.whl (895 kB)\n",
      "\u001b[K     |████████████████████████████████| 895 kB 45.0 MB/s \n",
      "\u001b[?25hRequirement already satisfied: numpy>=1.17 in /usr/local/lib/python3.7/dist-packages (from transformers) (1.21.5)\n",
      "Collecting tokenizers!=0.11.3,>=0.11.1\n",
      "  Downloading tokenizers-0.11.6-cp37-cp37m-manylinux_2_12_x86_64.manylinux2010_x86_64.whl (6.5 MB)\n",
      "\u001b[K     |████████████████████████████████| 6.5 MB 12.4 MB/s \n",
      "\u001b[?25hCollecting pyyaml>=5.1\n",
      "  Downloading PyYAML-6.0-cp37-cp37m-manylinux_2_5_x86_64.manylinux1_x86_64.manylinux_2_12_x86_64.manylinux2010_x86_64.whl (596 kB)\n",
      "\u001b[K     |████████████████████████████████| 596 kB 19.0 MB/s \n",
      "\u001b[?25hRequirement already satisfied: regex!=2019.12.17 in /usr/local/lib/python3.7/dist-packages (from transformers) (2019.12.20)\n",
      "Requirement already satisfied: packaging>=20.0 in /usr/local/lib/python3.7/dist-packages (from transformers) (21.3)\n",
      "Requirement already satisfied: typing-extensions>=3.7.4.3 in /usr/local/lib/python3.7/dist-packages (from huggingface-hub<1.0,>=0.1.0->transformers) (3.10.0.2)\n",
      "Requirement already satisfied: pyparsing!=3.0.5,>=2.0.2 in /usr/local/lib/python3.7/dist-packages (from packaging>=20.0->transformers) (3.0.7)\n",
      "Requirement already satisfied: zipp>=0.5 in /usr/local/lib/python3.7/dist-packages (from importlib-metadata->transformers) (3.7.0)\n",
      "Collecting urllib3!=1.25.0,!=1.25.1,<1.26,>=1.21.1\n",
      "  Downloading urllib3-1.25.11-py2.py3-none-any.whl (127 kB)\n",
      "\u001b[K     |████████████████████████████████| 127 kB 45.8 MB/s \n",
      "\u001b[?25hRequirement already satisfied: certifi>=2017.4.17 in /usr/local/lib/python3.7/dist-packages (from requests->transformers) (2021.10.8)\n",
      "Requirement already satisfied: idna<3,>=2.5 in /usr/local/lib/python3.7/dist-packages (from requests->transformers) (2.10)\n",
      "Requirement already satisfied: chardet<4,>=3.0.2 in /usr/local/lib/python3.7/dist-packages (from requests->transformers) (3.0.4)\n",
      "Requirement already satisfied: click in /usr/local/lib/python3.7/dist-packages (from sacremoses->transformers) (7.1.2)\n",
      "Requirement already satisfied: joblib in /usr/local/lib/python3.7/dist-packages (from sacremoses->transformers) (1.1.0)\n",
      "Requirement already satisfied: six in /usr/local/lib/python3.7/dist-packages (from sacremoses->transformers) (1.15.0)\n",
      "Installing collected packages: urllib3, pyyaml, tokenizers, sacremoses, huggingface-hub, transformers\n",
      "  Attempting uninstall: urllib3\n",
      "    Found existing installation: urllib3 1.26.9\n",
      "    Uninstalling urllib3-1.26.9:\n",
      "      Successfully uninstalled urllib3-1.26.9\n",
      "  Attempting uninstall: pyyaml\n",
      "    Found existing installation: PyYAML 3.13\n",
      "    Uninstalling PyYAML-3.13:\n",
      "      Successfully uninstalled PyYAML-3.13\n",
      "\u001b[31mERROR: pip's dependency resolver does not currently take into account all the packages that are installed. This behaviour is the source of the following dependency conflicts.\n",
      "selenium 4.1.3 requires urllib3[secure,socks]~=1.26, but you have urllib3 1.25.11 which is incompatible.\n",
      "datascience 0.10.6 requires folium==0.2.1, but you have folium 0.8.3 which is incompatible.\u001b[0m\n",
      "Successfully installed huggingface-hub-0.4.0 pyyaml-6.0 sacremoses-0.0.49 tokenizers-0.11.6 transformers-4.17.0 urllib3-1.25.11\n"
     ]
    },
    {
     "data": {
      "application/vnd.colab-display-data+json": {
       "pip_warning": {
        "packages": [
         "urllib3"
        ]
       }
      }
     },
     "metadata": {},
     "output_type": "display_data"
    }
   ],
   "source": [
    "!pip install transformers"
   ]
  },
  {
   "cell_type": "code",
   "execution_count": null,
   "id": "MBZgjpZ-lKzL",
   "metadata": {
    "colab": {
     "base_uri": "https://localhost:8080/"
    },
    "id": "MBZgjpZ-lKzL",
    "outputId": "81e205e7-7f53-4d55-9a16-1e7cae9110fb"
   },
   "outputs": [
    {
     "name": "stdout",
     "output_type": "stream",
     "text": [
      "Requirement already satisfied: tokenizers in /usr/local/lib/python3.7/dist-packages (0.11.6)\n"
     ]
    }
   ],
   "source": [
    "!pip install tokenizers"
   ]
  },
  {
   "cell_type": "code",
   "execution_count": null,
   "id": "05613cee",
   "metadata": {
    "id": "05613cee"
   },
   "outputs": [],
   "source": [
    "# Loading Dependencies\n",
    "import os\n",
    "from tqdm import tqdm\n",
    "import tensorflow as tf\n",
    "from tensorflow.keras.layers import Dense, Input\n",
    "from tensorflow.keras.optimizers import Adam\n",
    "from tensorflow.keras.models import Model\n",
    "from tensorflow.keras.callbacks import ModelCheckpoint\n",
    "import transformers\n",
    "\n",
    "from tokenizers import BertWordPieceTokenizer"
   ]
  },
  {
   "cell_type": "code",
   "execution_count": null,
   "id": "1603195c",
   "metadata": {
    "colab": {
     "base_uri": "https://localhost:8080/",
     "height": 738
    },
    "id": "1603195c",
    "outputId": "d43f75bb-3e0b-4593-859e-9a1d5514f9e9"
   },
   "outputs": [
    {
     "data": {
      "text/html": [
       "\n",
       "  <div id=\"df-ef7e070b-9b52-4591-b9ca-b42e302ffe8c\">\n",
       "    <div class=\"colab-df-container\">\n",
       "      <div>\n",
       "<style scoped>\n",
       "    .dataframe tbody tr th:only-of-type {\n",
       "        vertical-align: middle;\n",
       "    }\n",
       "\n",
       "    .dataframe tbody tr th {\n",
       "        vertical-align: top;\n",
       "    }\n",
       "\n",
       "    .dataframe thead th {\n",
       "        text-align: right;\n",
       "    }\n",
       "</style>\n",
       "<table border=\"1\" class=\"dataframe\">\n",
       "  <thead>\n",
       "    <tr style=\"text-align: right;\">\n",
       "      <th></th>\n",
       "      <th>Hotel_Address</th>\n",
       "      <th>Additional_Number_of_Scoring</th>\n",
       "      <th>Review_Date</th>\n",
       "      <th>Average_Score</th>\n",
       "      <th>Hotel_Name</th>\n",
       "      <th>Reviewer_Nationality</th>\n",
       "      <th>Negative_Review</th>\n",
       "      <th>Review_Total_Negative_Word_Counts</th>\n",
       "      <th>Total_Number_of_Reviews</th>\n",
       "      <th>Positive_Review</th>\n",
       "      <th>Review_Total_Positive_Word_Counts</th>\n",
       "      <th>Total_Number_of_Reviews_Reviewer_Has_Given</th>\n",
       "      <th>Reviewer_Score</th>\n",
       "      <th>Tags</th>\n",
       "      <th>days_since_review</th>\n",
       "      <th>lat</th>\n",
       "      <th>lng</th>\n",
       "    </tr>\n",
       "  </thead>\n",
       "  <tbody>\n",
       "    <tr>\n",
       "      <th>0</th>\n",
       "      <td>s Gravesandestraat 55 Oost 1092 AA Amsterdam ...</td>\n",
       "      <td>194</td>\n",
       "      <td>8/3/2017</td>\n",
       "      <td>7.7</td>\n",
       "      <td>Hotel Arena</td>\n",
       "      <td>Russia</td>\n",
       "      <td>I am so angry that i made this post available...</td>\n",
       "      <td>397</td>\n",
       "      <td>1403</td>\n",
       "      <td>Only the park outside of the hotel was beauti...</td>\n",
       "      <td>11</td>\n",
       "      <td>7</td>\n",
       "      <td>2.9</td>\n",
       "      <td>[' Leisure trip ', ' Couple ', ' Duplex Double...</td>\n",
       "      <td>0 days</td>\n",
       "      <td>52.360576</td>\n",
       "      <td>4.915968</td>\n",
       "    </tr>\n",
       "    <tr>\n",
       "      <th>1</th>\n",
       "      <td>s Gravesandestraat 55 Oost 1092 AA Amsterdam ...</td>\n",
       "      <td>194</td>\n",
       "      <td>8/3/2017</td>\n",
       "      <td>7.7</td>\n",
       "      <td>Hotel Arena</td>\n",
       "      <td>Ireland</td>\n",
       "      <td>No Negative</td>\n",
       "      <td>0</td>\n",
       "      <td>1403</td>\n",
       "      <td>No real complaints the hotel was great great ...</td>\n",
       "      <td>105</td>\n",
       "      <td>7</td>\n",
       "      <td>7.5</td>\n",
       "      <td>[' Leisure trip ', ' Couple ', ' Duplex Double...</td>\n",
       "      <td>0 days</td>\n",
       "      <td>52.360576</td>\n",
       "      <td>4.915968</td>\n",
       "    </tr>\n",
       "    <tr>\n",
       "      <th>2</th>\n",
       "      <td>s Gravesandestraat 55 Oost 1092 AA Amsterdam ...</td>\n",
       "      <td>194</td>\n",
       "      <td>7/31/2017</td>\n",
       "      <td>7.7</td>\n",
       "      <td>Hotel Arena</td>\n",
       "      <td>Australia</td>\n",
       "      <td>Rooms are nice but for elderly a bit difficul...</td>\n",
       "      <td>42</td>\n",
       "      <td>1403</td>\n",
       "      <td>Location was good and staff were ok It is cut...</td>\n",
       "      <td>21</td>\n",
       "      <td>9</td>\n",
       "      <td>7.1</td>\n",
       "      <td>[' Leisure trip ', ' Family with young childre...</td>\n",
       "      <td>3 days</td>\n",
       "      <td>52.360576</td>\n",
       "      <td>4.915968</td>\n",
       "    </tr>\n",
       "    <tr>\n",
       "      <th>3</th>\n",
       "      <td>s Gravesandestraat 55 Oost 1092 AA Amsterdam ...</td>\n",
       "      <td>194</td>\n",
       "      <td>7/31/2017</td>\n",
       "      <td>7.7</td>\n",
       "      <td>Hotel Arena</td>\n",
       "      <td>United Kingdom</td>\n",
       "      <td>My room was dirty and I was afraid to walk ba...</td>\n",
       "      <td>210</td>\n",
       "      <td>1403</td>\n",
       "      <td>Great location in nice surroundings the bar a...</td>\n",
       "      <td>26</td>\n",
       "      <td>1</td>\n",
       "      <td>3.8</td>\n",
       "      <td>[' Leisure trip ', ' Solo traveler ', ' Duplex...</td>\n",
       "      <td>3 days</td>\n",
       "      <td>52.360576</td>\n",
       "      <td>4.915968</td>\n",
       "    </tr>\n",
       "    <tr>\n",
       "      <th>4</th>\n",
       "      <td>s Gravesandestraat 55 Oost 1092 AA Amsterdam ...</td>\n",
       "      <td>194</td>\n",
       "      <td>7/24/2017</td>\n",
       "      <td>7.7</td>\n",
       "      <td>Hotel Arena</td>\n",
       "      <td>New Zealand</td>\n",
       "      <td>You When I booked with your company on line y...</td>\n",
       "      <td>140</td>\n",
       "      <td>1403</td>\n",
       "      <td>Amazing location and building Romantic setting</td>\n",
       "      <td>8</td>\n",
       "      <td>3</td>\n",
       "      <td>6.7</td>\n",
       "      <td>[' Leisure trip ', ' Couple ', ' Suite ', ' St...</td>\n",
       "      <td>10 days</td>\n",
       "      <td>52.360576</td>\n",
       "      <td>4.915968</td>\n",
       "    </tr>\n",
       "  </tbody>\n",
       "</table>\n",
       "</div>\n",
       "      <button class=\"colab-df-convert\" onclick=\"convertToInteractive('df-ef7e070b-9b52-4591-b9ca-b42e302ffe8c')\"\n",
       "              title=\"Convert this dataframe to an interactive table.\"\n",
       "              style=\"display:none;\">\n",
       "        \n",
       "  <svg xmlns=\"http://www.w3.org/2000/svg\" height=\"24px\"viewBox=\"0 0 24 24\"\n",
       "       width=\"24px\">\n",
       "    <path d=\"M0 0h24v24H0V0z\" fill=\"none\"/>\n",
       "    <path d=\"M18.56 5.44l.94 2.06.94-2.06 2.06-.94-2.06-.94-.94-2.06-.94 2.06-2.06.94zm-11 1L8.5 8.5l.94-2.06 2.06-.94-2.06-.94L8.5 2.5l-.94 2.06-2.06.94zm10 10l.94 2.06.94-2.06 2.06-.94-2.06-.94-.94-2.06-.94 2.06-2.06.94z\"/><path d=\"M17.41 7.96l-1.37-1.37c-.4-.4-.92-.59-1.43-.59-.52 0-1.04.2-1.43.59L10.3 9.45l-7.72 7.72c-.78.78-.78 2.05 0 2.83L4 21.41c.39.39.9.59 1.41.59.51 0 1.02-.2 1.41-.59l7.78-7.78 2.81-2.81c.8-.78.8-2.07 0-2.86zM5.41 20L4 18.59l7.72-7.72 1.47 1.35L5.41 20z\"/>\n",
       "  </svg>\n",
       "      </button>\n",
       "      \n",
       "  <style>\n",
       "    .colab-df-container {\n",
       "      display:flex;\n",
       "      flex-wrap:wrap;\n",
       "      gap: 12px;\n",
       "    }\n",
       "\n",
       "    .colab-df-convert {\n",
       "      background-color: #E8F0FE;\n",
       "      border: none;\n",
       "      border-radius: 50%;\n",
       "      cursor: pointer;\n",
       "      display: none;\n",
       "      fill: #1967D2;\n",
       "      height: 32px;\n",
       "      padding: 0 0 0 0;\n",
       "      width: 32px;\n",
       "    }\n",
       "\n",
       "    .colab-df-convert:hover {\n",
       "      background-color: #E2EBFA;\n",
       "      box-shadow: 0px 1px 2px rgba(60, 64, 67, 0.3), 0px 1px 3px 1px rgba(60, 64, 67, 0.15);\n",
       "      fill: #174EA6;\n",
       "    }\n",
       "\n",
       "    [theme=dark] .colab-df-convert {\n",
       "      background-color: #3B4455;\n",
       "      fill: #D2E3FC;\n",
       "    }\n",
       "\n",
       "    [theme=dark] .colab-df-convert:hover {\n",
       "      background-color: #434B5C;\n",
       "      box-shadow: 0px 1px 3px 1px rgba(0, 0, 0, 0.15);\n",
       "      filter: drop-shadow(0px 1px 2px rgba(0, 0, 0, 0.3));\n",
       "      fill: #FFFFFF;\n",
       "    }\n",
       "  </style>\n",
       "\n",
       "      <script>\n",
       "        const buttonEl =\n",
       "          document.querySelector('#df-ef7e070b-9b52-4591-b9ca-b42e302ffe8c button.colab-df-convert');\n",
       "        buttonEl.style.display =\n",
       "          google.colab.kernel.accessAllowed ? 'block' : 'none';\n",
       "\n",
       "        async function convertToInteractive(key) {\n",
       "          const element = document.querySelector('#df-ef7e070b-9b52-4591-b9ca-b42e302ffe8c');\n",
       "          const dataTable =\n",
       "            await google.colab.kernel.invokeFunction('convertToInteractive',\n",
       "                                                     [key], {});\n",
       "          if (!dataTable) return;\n",
       "\n",
       "          const docLinkHtml = 'Like what you see? Visit the ' +\n",
       "            '<a target=\"_blank\" href=https://colab.research.google.com/notebooks/data_table.ipynb>data table notebook</a>'\n",
       "            + ' to learn more about interactive tables.';\n",
       "          element.innerHTML = '';\n",
       "          dataTable['output_type'] = 'display_data';\n",
       "          await google.colab.output.renderOutput(dataTable, element);\n",
       "          const docLink = document.createElement('div');\n",
       "          docLink.innerHTML = docLinkHtml;\n",
       "          element.appendChild(docLink);\n",
       "        }\n",
       "      </script>\n",
       "    </div>\n",
       "  </div>\n",
       "  "
      ],
      "text/plain": [
       "                                       Hotel_Address  \\\n",
       "0   s Gravesandestraat 55 Oost 1092 AA Amsterdam ...   \n",
       "1   s Gravesandestraat 55 Oost 1092 AA Amsterdam ...   \n",
       "2   s Gravesandestraat 55 Oost 1092 AA Amsterdam ...   \n",
       "3   s Gravesandestraat 55 Oost 1092 AA Amsterdam ...   \n",
       "4   s Gravesandestraat 55 Oost 1092 AA Amsterdam ...   \n",
       "\n",
       "   Additional_Number_of_Scoring Review_Date  Average_Score   Hotel_Name  \\\n",
       "0                           194    8/3/2017            7.7  Hotel Arena   \n",
       "1                           194    8/3/2017            7.7  Hotel Arena   \n",
       "2                           194   7/31/2017            7.7  Hotel Arena   \n",
       "3                           194   7/31/2017            7.7  Hotel Arena   \n",
       "4                           194   7/24/2017            7.7  Hotel Arena   \n",
       "\n",
       "  Reviewer_Nationality                                    Negative_Review  \\\n",
       "0              Russia    I am so angry that i made this post available...   \n",
       "1             Ireland                                         No Negative   \n",
       "2           Australia    Rooms are nice but for elderly a bit difficul...   \n",
       "3      United Kingdom    My room was dirty and I was afraid to walk ba...   \n",
       "4         New Zealand    You When I booked with your company on line y...   \n",
       "\n",
       "   Review_Total_Negative_Word_Counts  Total_Number_of_Reviews  \\\n",
       "0                                397                     1403   \n",
       "1                                  0                     1403   \n",
       "2                                 42                     1403   \n",
       "3                                210                     1403   \n",
       "4                                140                     1403   \n",
       "\n",
       "                                     Positive_Review  \\\n",
       "0   Only the park outside of the hotel was beauti...   \n",
       "1   No real complaints the hotel was great great ...   \n",
       "2   Location was good and staff were ok It is cut...   \n",
       "3   Great location in nice surroundings the bar a...   \n",
       "4    Amazing location and building Romantic setting    \n",
       "\n",
       "   Review_Total_Positive_Word_Counts  \\\n",
       "0                                 11   \n",
       "1                                105   \n",
       "2                                 21   \n",
       "3                                 26   \n",
       "4                                  8   \n",
       "\n",
       "   Total_Number_of_Reviews_Reviewer_Has_Given  Reviewer_Score  \\\n",
       "0                                           7             2.9   \n",
       "1                                           7             7.5   \n",
       "2                                           9             7.1   \n",
       "3                                           1             3.8   \n",
       "4                                           3             6.7   \n",
       "\n",
       "                                                Tags days_since_review  \\\n",
       "0  [' Leisure trip ', ' Couple ', ' Duplex Double...            0 days   \n",
       "1  [' Leisure trip ', ' Couple ', ' Duplex Double...            0 days   \n",
       "2  [' Leisure trip ', ' Family with young childre...            3 days   \n",
       "3  [' Leisure trip ', ' Solo traveler ', ' Duplex...            3 days   \n",
       "4  [' Leisure trip ', ' Couple ', ' Suite ', ' St...           10 days   \n",
       "\n",
       "         lat       lng  \n",
       "0  52.360576  4.915968  \n",
       "1  52.360576  4.915968  \n",
       "2  52.360576  4.915968  \n",
       "3  52.360576  4.915968  \n",
       "4  52.360576  4.915968  "
      ]
     },
     "execution_count": 107,
     "metadata": {},
     "output_type": "execute_result"
    }
   ],
   "source": [
    "# Loading the Input File\n",
    "df_2 = pd.read_csv('Hotel_Reviews.csv')\n",
    "df_2.head()"
   ]
  },
  {
   "cell_type": "code",
   "execution_count": null,
   "id": "7e7b4f62",
   "metadata": {
    "id": "7e7b4f62"
   },
   "outputs": [],
   "source": [
    "df_pos = df_2[df_2['Negative_Review'] == \"No Negative\"][['Positive_Review','Reviewer_Score']]"
   ]
  },
  {
   "cell_type": "code",
   "execution_count": null,
   "id": "76a77a58",
   "metadata": {
    "id": "76a77a58"
   },
   "outputs": [],
   "source": [
    "df_neg = df_2[df_2['Positive_Review'] == \"No Positive\"][['Negative_Review','Reviewer_Score']]"
   ]
  },
  {
   "cell_type": "code",
   "execution_count": null,
   "id": "5284298d",
   "metadata": {
    "colab": {
     "base_uri": "https://localhost:8080/",
     "height": 423
    },
    "id": "5284298d",
    "outputId": "0ab96122-624d-4e4e-8973-2998d6be7d55"
   },
   "outputs": [
    {
     "data": {
      "text/html": [
       "\n",
       "  <div id=\"df-ab956bc6-5bf3-4e8b-b2d0-1f82c53f512f\">\n",
       "    <div class=\"colab-df-container\">\n",
       "      <div>\n",
       "<style scoped>\n",
       "    .dataframe tbody tr th:only-of-type {\n",
       "        vertical-align: middle;\n",
       "    }\n",
       "\n",
       "    .dataframe tbody tr th {\n",
       "        vertical-align: top;\n",
       "    }\n",
       "\n",
       "    .dataframe thead th {\n",
       "        text-align: right;\n",
       "    }\n",
       "</style>\n",
       "<table border=\"1\" class=\"dataframe\">\n",
       "  <thead>\n",
       "    <tr style=\"text-align: right;\">\n",
       "      <th></th>\n",
       "      <th>Positive_Review</th>\n",
       "      <th>Reviewer_Score</th>\n",
       "    </tr>\n",
       "  </thead>\n",
       "  <tbody>\n",
       "    <tr>\n",
       "      <th>154</th>\n",
       "      <td>Bar and restraint staff were great reception ...</td>\n",
       "      <td>6.7</td>\n",
       "    </tr>\n",
       "    <tr>\n",
       "      <th>319</th>\n",
       "      <td>breakfast</td>\n",
       "      <td>3.8</td>\n",
       "    </tr>\n",
       "    <tr>\n",
       "      <th>337</th>\n",
       "      <td>Management impersonal and unhelpful when we a...</td>\n",
       "      <td>2.9</td>\n",
       "    </tr>\n",
       "    <tr>\n",
       "      <th>355</th>\n",
       "      <td>The hotel building is amazing They are renova...</td>\n",
       "      <td>6.3</td>\n",
       "    </tr>\n",
       "    <tr>\n",
       "      <th>363</th>\n",
       "      <td>Plain 4 stars Hotel nothing special nothing bad</td>\n",
       "      <td>5.4</td>\n",
       "    </tr>\n",
       "    <tr>\n",
       "      <th>...</th>\n",
       "      <td>...</td>\n",
       "      <td>...</td>\n",
       "    </tr>\n",
       "    <tr>\n",
       "      <th>514880</th>\n",
       "      <td>Staff are rude and dont know how to treat guests</td>\n",
       "      <td>2.9</td>\n",
       "    </tr>\n",
       "    <tr>\n",
       "      <th>514939</th>\n",
       "      <td>Nothing</td>\n",
       "      <td>3.8</td>\n",
       "    </tr>\n",
       "    <tr>\n",
       "      <th>515341</th>\n",
       "      <td>The room was not even for single bed we have ...</td>\n",
       "      <td>6.7</td>\n",
       "    </tr>\n",
       "    <tr>\n",
       "      <th>515381</th>\n",
       "      <td>More cheaper Big rooms</td>\n",
       "      <td>5.8</td>\n",
       "    </tr>\n",
       "    <tr>\n",
       "      <th>515571</th>\n",
       "      <td>Clean and breakfast</td>\n",
       "      <td>6.7</td>\n",
       "    </tr>\n",
       "  </tbody>\n",
       "</table>\n",
       "<p>2312 rows × 2 columns</p>\n",
       "</div>\n",
       "      <button class=\"colab-df-convert\" onclick=\"convertToInteractive('df-ab956bc6-5bf3-4e8b-b2d0-1f82c53f512f')\"\n",
       "              title=\"Convert this dataframe to an interactive table.\"\n",
       "              style=\"display:none;\">\n",
       "        \n",
       "  <svg xmlns=\"http://www.w3.org/2000/svg\" height=\"24px\"viewBox=\"0 0 24 24\"\n",
       "       width=\"24px\">\n",
       "    <path d=\"M0 0h24v24H0V0z\" fill=\"none\"/>\n",
       "    <path d=\"M18.56 5.44l.94 2.06.94-2.06 2.06-.94-2.06-.94-.94-2.06-.94 2.06-2.06.94zm-11 1L8.5 8.5l.94-2.06 2.06-.94-2.06-.94L8.5 2.5l-.94 2.06-2.06.94zm10 10l.94 2.06.94-2.06 2.06-.94-2.06-.94-.94-2.06-.94 2.06-2.06.94z\"/><path d=\"M17.41 7.96l-1.37-1.37c-.4-.4-.92-.59-1.43-.59-.52 0-1.04.2-1.43.59L10.3 9.45l-7.72 7.72c-.78.78-.78 2.05 0 2.83L4 21.41c.39.39.9.59 1.41.59.51 0 1.02-.2 1.41-.59l7.78-7.78 2.81-2.81c.8-.78.8-2.07 0-2.86zM5.41 20L4 18.59l7.72-7.72 1.47 1.35L5.41 20z\"/>\n",
       "  </svg>\n",
       "      </button>\n",
       "      \n",
       "  <style>\n",
       "    .colab-df-container {\n",
       "      display:flex;\n",
       "      flex-wrap:wrap;\n",
       "      gap: 12px;\n",
       "    }\n",
       "\n",
       "    .colab-df-convert {\n",
       "      background-color: #E8F0FE;\n",
       "      border: none;\n",
       "      border-radius: 50%;\n",
       "      cursor: pointer;\n",
       "      display: none;\n",
       "      fill: #1967D2;\n",
       "      height: 32px;\n",
       "      padding: 0 0 0 0;\n",
       "      width: 32px;\n",
       "    }\n",
       "\n",
       "    .colab-df-convert:hover {\n",
       "      background-color: #E2EBFA;\n",
       "      box-shadow: 0px 1px 2px rgba(60, 64, 67, 0.3), 0px 1px 3px 1px rgba(60, 64, 67, 0.15);\n",
       "      fill: #174EA6;\n",
       "    }\n",
       "\n",
       "    [theme=dark] .colab-df-convert {\n",
       "      background-color: #3B4455;\n",
       "      fill: #D2E3FC;\n",
       "    }\n",
       "\n",
       "    [theme=dark] .colab-df-convert:hover {\n",
       "      background-color: #434B5C;\n",
       "      box-shadow: 0px 1px 3px 1px rgba(0, 0, 0, 0.15);\n",
       "      filter: drop-shadow(0px 1px 2px rgba(0, 0, 0, 0.3));\n",
       "      fill: #FFFFFF;\n",
       "    }\n",
       "  </style>\n",
       "\n",
       "      <script>\n",
       "        const buttonEl =\n",
       "          document.querySelector('#df-ab956bc6-5bf3-4e8b-b2d0-1f82c53f512f button.colab-df-convert');\n",
       "        buttonEl.style.display =\n",
       "          google.colab.kernel.accessAllowed ? 'block' : 'none';\n",
       "\n",
       "        async function convertToInteractive(key) {\n",
       "          const element = document.querySelector('#df-ab956bc6-5bf3-4e8b-b2d0-1f82c53f512f');\n",
       "          const dataTable =\n",
       "            await google.colab.kernel.invokeFunction('convertToInteractive',\n",
       "                                                     [key], {});\n",
       "          if (!dataTable) return;\n",
       "\n",
       "          const docLinkHtml = 'Like what you see? Visit the ' +\n",
       "            '<a target=\"_blank\" href=https://colab.research.google.com/notebooks/data_table.ipynb>data table notebook</a>'\n",
       "            + ' to learn more about interactive tables.';\n",
       "          element.innerHTML = '';\n",
       "          dataTable['output_type'] = 'display_data';\n",
       "          await google.colab.output.renderOutput(dataTable, element);\n",
       "          const docLink = document.createElement('div');\n",
       "          docLink.innerHTML = docLinkHtml;\n",
       "          element.appendChild(docLink);\n",
       "        }\n",
       "      </script>\n",
       "    </div>\n",
       "  </div>\n",
       "  "
      ],
      "text/plain": [
       "                                          Positive_Review  Reviewer_Score\n",
       "154      Bar and restraint staff were great reception ...             6.7\n",
       "319                                             breakfast             3.8\n",
       "337      Management impersonal and unhelpful when we a...             2.9\n",
       "355      The hotel building is amazing They are renova...             6.3\n",
       "363      Plain 4 stars Hotel nothing special nothing bad              5.4\n",
       "...                                                   ...             ...\n",
       "514880   Staff are rude and dont know how to treat guests             2.9\n",
       "514939                                            Nothing             3.8\n",
       "515341   The room was not even for single bed we have ...             6.7\n",
       "515381                             More cheaper Big rooms             5.8\n",
       "515571                                Clean and breakfast             6.7\n",
       "\n",
       "[2312 rows x 2 columns]"
      ]
     },
     "execution_count": 110,
     "metadata": {},
     "output_type": "execute_result"
    }
   ],
   "source": [
    "df_pos[df_pos['Reviewer_Score'] < 7]"
   ]
  },
  {
   "cell_type": "code",
   "execution_count": null,
   "id": "c5c773e2",
   "metadata": {
    "id": "c5c773e2"
   },
   "outputs": [],
   "source": [
    "def pos_scoring(x):\n",
    "    if x > 7:\n",
    "        return(1)\n",
    "    else:\n",
    "        return(0)\n",
    "\n",
    "def neg_scoring(x):\n",
    "    if x < 7.12:\n",
    "        return(-1)\n",
    "    else:\n",
    "        return(0)\n",
    "    \n",
    "    \n",
    "df_pos['Label'] = df_pos['Reviewer_Score'].apply(pos_scoring)\n",
    "df_neg['Label'] = df_neg['Reviewer_Score'].apply(neg_scoring)"
   ]
  },
  {
   "cell_type": "code",
   "execution_count": null,
   "id": "c60722a0",
   "metadata": {
    "id": "c60722a0"
   },
   "outputs": [],
   "source": [
    "df_pos.columns = ['Review', 'Reviewer_Score', 'Label']\n",
    "df_neg.columns = ['Review', 'Reviewer_Score', 'Label']"
   ]
  },
  {
   "cell_type": "code",
   "execution_count": null,
   "id": "e54ff2bb",
   "metadata": {
    "id": "e54ff2bb"
   },
   "outputs": [],
   "source": [
    "df_ = pd.concat([df_pos,df_neg],axis =0)"
   ]
  },
  {
   "cell_type": "code",
   "execution_count": null,
   "id": "680b1153",
   "metadata": {
    "id": "680b1153"
   },
   "outputs": [],
   "source": [
    "df_train = df_.groupby('Label', group_keys=False).apply(lambda x: x.sample(5000)).sample(frac = 1)"
   ]
  },
  {
   "cell_type": "code",
   "execution_count": null,
   "id": "A2yxl9ze3rz3",
   "metadata": {
    "colab": {
     "base_uri": "https://localhost:8080/"
    },
    "id": "A2yxl9ze3rz3",
    "outputId": "bc858a28-b99d-4bc5-f503-4f940dee8b47"
   },
   "outputs": [
    {
     "data": {
      "text/plain": [
       " 0    5000\n",
       " 1    5000\n",
       "-1    5000\n",
       "Name: Label, dtype: int64"
      ]
     },
     "execution_count": 115,
     "metadata": {},
     "output_type": "execute_result"
    }
   ],
   "source": [
    "df_train['Label'].value_counts()"
   ]
  },
  {
   "cell_type": "code",
   "execution_count": null,
   "id": "t0yECG3-8P5a",
   "metadata": {
    "id": "t0yECG3-8P5a"
   },
   "outputs": [],
   "source": [
    "df_validate = df_.groupby('Label', group_keys=False).apply(lambda x: x.sample(5000)).sample(frac = 1)"
   ]
  },
  {
   "cell_type": "code",
   "execution_count": null,
   "id": "e8e66c36",
   "metadata": {
    "id": "e8e66c36"
   },
   "outputs": [],
   "source": [
    "def fast_encode(texts, tokenizer, chunk_size=256, maxlen=512):\n",
    "    \"\"\"\n",
    "    Encoder for encoding the text into sequence of integers for BERT Input\n",
    "    \"\"\"\n",
    "    tokenizer.enable_truncation(max_length=maxlen)\n",
    "    tokenizer.enable_padding(length=maxlen)\n",
    "    all_ids = []\n",
    "    \n",
    "    for i in tqdm(range(0, len(texts), chunk_size)):\n",
    "        text_chunk = texts[i:i+chunk_size].tolist()\n",
    "        encs = tokenizer.encode_batch(text_chunk)\n",
    "        all_ids.extend([enc.ids for enc in encs])\n",
    "    \n",
    "    return np.array(all_ids)"
   ]
  },
  {
   "cell_type": "code",
   "execution_count": null,
   "id": "8a207b6c",
   "metadata": {
    "colab": {
     "base_uri": "https://localhost:8080/"
    },
    "id": "8a207b6c",
    "outputId": "59586f27-ae00-4826-a403-59e1ff050785"
   },
   "outputs": [
    {
     "name": "stdout",
     "output_type": "stream",
     "text": [
      "Running on TPU  grpc://10.95.92.66:8470\n",
      "INFO:tensorflow:Deallocate tpu buffers before initializing tpu system.\n"
     ]
    },
    {
     "name": "stderr",
     "output_type": "stream",
     "text": [
      "INFO:tensorflow:Deallocate tpu buffers before initializing tpu system.\n"
     ]
    },
    {
     "name": "stdout",
     "output_type": "stream",
     "text": [
      "WARNING:tensorflow:TPU system grpc://10.95.92.66:8470 has already been initialized. Reinitializing the TPU can cause previously created variables on TPU to be lost.\n"
     ]
    },
    {
     "name": "stderr",
     "output_type": "stream",
     "text": [
      "WARNING:tensorflow:TPU system grpc://10.95.92.66:8470 has already been initialized. Reinitializing the TPU can cause previously created variables on TPU to be lost.\n"
     ]
    },
    {
     "name": "stdout",
     "output_type": "stream",
     "text": [
      "INFO:tensorflow:Initializing the TPU system: grpc://10.95.92.66:8470\n"
     ]
    },
    {
     "name": "stderr",
     "output_type": "stream",
     "text": [
      "INFO:tensorflow:Initializing the TPU system: grpc://10.95.92.66:8470\n"
     ]
    },
    {
     "name": "stdout",
     "output_type": "stream",
     "text": [
      "INFO:tensorflow:Finished initializing TPU system.\n"
     ]
    },
    {
     "name": "stderr",
     "output_type": "stream",
     "text": [
      "INFO:tensorflow:Finished initializing TPU system.\n",
      "WARNING:absl:`tf.distribute.experimental.TPUStrategy` is deprecated, please use  the non experimental symbol `tf.distribute.TPUStrategy` instead.\n"
     ]
    },
    {
     "name": "stdout",
     "output_type": "stream",
     "text": [
      "INFO:tensorflow:Found TPU system:\n"
     ]
    },
    {
     "name": "stderr",
     "output_type": "stream",
     "text": [
      "INFO:tensorflow:Found TPU system:\n"
     ]
    },
    {
     "name": "stdout",
     "output_type": "stream",
     "text": [
      "INFO:tensorflow:*** Num TPU Cores: 8\n"
     ]
    },
    {
     "name": "stderr",
     "output_type": "stream",
     "text": [
      "INFO:tensorflow:*** Num TPU Cores: 8\n"
     ]
    },
    {
     "name": "stdout",
     "output_type": "stream",
     "text": [
      "INFO:tensorflow:*** Num TPU Workers: 1\n"
     ]
    },
    {
     "name": "stderr",
     "output_type": "stream",
     "text": [
      "INFO:tensorflow:*** Num TPU Workers: 1\n"
     ]
    },
    {
     "name": "stdout",
     "output_type": "stream",
     "text": [
      "INFO:tensorflow:*** Num TPU Cores Per Worker: 8\n"
     ]
    },
    {
     "name": "stderr",
     "output_type": "stream",
     "text": [
      "INFO:tensorflow:*** Num TPU Cores Per Worker: 8\n"
     ]
    },
    {
     "name": "stdout",
     "output_type": "stream",
     "text": [
      "INFO:tensorflow:*** Available Device: _DeviceAttributes(/job:localhost/replica:0/task:0/device:CPU:0, CPU, 0, 0)\n"
     ]
    },
    {
     "name": "stderr",
     "output_type": "stream",
     "text": [
      "INFO:tensorflow:*** Available Device: _DeviceAttributes(/job:localhost/replica:0/task:0/device:CPU:0, CPU, 0, 0)\n"
     ]
    },
    {
     "name": "stdout",
     "output_type": "stream",
     "text": [
      "INFO:tensorflow:*** Available Device: _DeviceAttributes(/job:worker/replica:0/task:0/device:CPU:0, CPU, 0, 0)\n"
     ]
    },
    {
     "name": "stderr",
     "output_type": "stream",
     "text": [
      "INFO:tensorflow:*** Available Device: _DeviceAttributes(/job:worker/replica:0/task:0/device:CPU:0, CPU, 0, 0)\n"
     ]
    },
    {
     "name": "stdout",
     "output_type": "stream",
     "text": [
      "INFO:tensorflow:*** Available Device: _DeviceAttributes(/job:worker/replica:0/task:0/device:TPU:0, TPU, 0, 0)\n"
     ]
    },
    {
     "name": "stderr",
     "output_type": "stream",
     "text": [
      "INFO:tensorflow:*** Available Device: _DeviceAttributes(/job:worker/replica:0/task:0/device:TPU:0, TPU, 0, 0)\n"
     ]
    },
    {
     "name": "stdout",
     "output_type": "stream",
     "text": [
      "INFO:tensorflow:*** Available Device: _DeviceAttributes(/job:worker/replica:0/task:0/device:TPU:1, TPU, 0, 0)\n"
     ]
    },
    {
     "name": "stderr",
     "output_type": "stream",
     "text": [
      "INFO:tensorflow:*** Available Device: _DeviceAttributes(/job:worker/replica:0/task:0/device:TPU:1, TPU, 0, 0)\n"
     ]
    },
    {
     "name": "stdout",
     "output_type": "stream",
     "text": [
      "INFO:tensorflow:*** Available Device: _DeviceAttributes(/job:worker/replica:0/task:0/device:TPU:2, TPU, 0, 0)\n"
     ]
    },
    {
     "name": "stderr",
     "output_type": "stream",
     "text": [
      "INFO:tensorflow:*** Available Device: _DeviceAttributes(/job:worker/replica:0/task:0/device:TPU:2, TPU, 0, 0)\n"
     ]
    },
    {
     "name": "stdout",
     "output_type": "stream",
     "text": [
      "INFO:tensorflow:*** Available Device: _DeviceAttributes(/job:worker/replica:0/task:0/device:TPU:3, TPU, 0, 0)\n"
     ]
    },
    {
     "name": "stderr",
     "output_type": "stream",
     "text": [
      "INFO:tensorflow:*** Available Device: _DeviceAttributes(/job:worker/replica:0/task:0/device:TPU:3, TPU, 0, 0)\n"
     ]
    },
    {
     "name": "stdout",
     "output_type": "stream",
     "text": [
      "INFO:tensorflow:*** Available Device: _DeviceAttributes(/job:worker/replica:0/task:0/device:TPU:4, TPU, 0, 0)\n"
     ]
    },
    {
     "name": "stderr",
     "output_type": "stream",
     "text": [
      "INFO:tensorflow:*** Available Device: _DeviceAttributes(/job:worker/replica:0/task:0/device:TPU:4, TPU, 0, 0)\n"
     ]
    },
    {
     "name": "stdout",
     "output_type": "stream",
     "text": [
      "INFO:tensorflow:*** Available Device: _DeviceAttributes(/job:worker/replica:0/task:0/device:TPU:5, TPU, 0, 0)\n"
     ]
    },
    {
     "name": "stderr",
     "output_type": "stream",
     "text": [
      "INFO:tensorflow:*** Available Device: _DeviceAttributes(/job:worker/replica:0/task:0/device:TPU:5, TPU, 0, 0)\n"
     ]
    },
    {
     "name": "stdout",
     "output_type": "stream",
     "text": [
      "INFO:tensorflow:*** Available Device: _DeviceAttributes(/job:worker/replica:0/task:0/device:TPU:6, TPU, 0, 0)\n"
     ]
    },
    {
     "name": "stderr",
     "output_type": "stream",
     "text": [
      "INFO:tensorflow:*** Available Device: _DeviceAttributes(/job:worker/replica:0/task:0/device:TPU:6, TPU, 0, 0)\n"
     ]
    },
    {
     "name": "stdout",
     "output_type": "stream",
     "text": [
      "INFO:tensorflow:*** Available Device: _DeviceAttributes(/job:worker/replica:0/task:0/device:TPU:7, TPU, 0, 0)\n"
     ]
    },
    {
     "name": "stderr",
     "output_type": "stream",
     "text": [
      "INFO:tensorflow:*** Available Device: _DeviceAttributes(/job:worker/replica:0/task:0/device:TPU:7, TPU, 0, 0)\n"
     ]
    },
    {
     "name": "stdout",
     "output_type": "stream",
     "text": [
      "INFO:tensorflow:*** Available Device: _DeviceAttributes(/job:worker/replica:0/task:0/device:TPU_SYSTEM:0, TPU_SYSTEM, 0, 0)\n"
     ]
    },
    {
     "name": "stderr",
     "output_type": "stream",
     "text": [
      "INFO:tensorflow:*** Available Device: _DeviceAttributes(/job:worker/replica:0/task:0/device:TPU_SYSTEM:0, TPU_SYSTEM, 0, 0)\n"
     ]
    },
    {
     "name": "stdout",
     "output_type": "stream",
     "text": [
      "INFO:tensorflow:*** Available Device: _DeviceAttributes(/job:worker/replica:0/task:0/device:XLA_CPU:0, XLA_CPU, 0, 0)\n"
     ]
    },
    {
     "name": "stderr",
     "output_type": "stream",
     "text": [
      "INFO:tensorflow:*** Available Device: _DeviceAttributes(/job:worker/replica:0/task:0/device:XLA_CPU:0, XLA_CPU, 0, 0)\n"
     ]
    },
    {
     "name": "stdout",
     "output_type": "stream",
     "text": [
      "REPLICAS:  8\n"
     ]
    }
   ],
   "source": [
    "#IMP DATA FOR CONFIG\n",
    "try:\n",
    "    # TPU detection. No parameters necessary if TPU_NAME environment variable is\n",
    "    # set: this is always the case on Kaggle.\n",
    "    tpu = tf.distribute.cluster_resolver.TPUClusterResolver()\n",
    "    print('Running on TPU ', tpu.master())\n",
    "except ValueError:\n",
    "    tpu = None\n",
    "    \n",
    "if tpu:\n",
    "    tf.config.experimental_connect_to_cluster(tpu)\n",
    "    tf.tpu.experimental.initialize_tpu_system(tpu)\n",
    "    strategy = tf.distribute.experimental.TPUStrategy(tpu)\n",
    "else:\n",
    "    # Default distribution strategy in Tensorflow. Works on CPU and single GPU.\n",
    "    strategy = tf.distribute.get_strategy()\n",
    "\n",
    "print(\"REPLICAS: \", strategy.num_replicas_in_sync)\n",
    "\n",
    "AUTO = tf.data.experimental.AUTOTUNE\n",
    "\n",
    "\n",
    "# Configuration\n",
    "EPOCHS = 5\n",
    "BATCH_SIZE = 16 * strategy.num_replicas_in_sync\n",
    "MAX_LEN = 512"
   ]
  },
  {
   "cell_type": "code",
   "execution_count": null,
   "id": "6deaaf28",
   "metadata": {
    "id": "6deaaf28"
   },
   "outputs": [],
   "source": [
    "# First load the real tokenizer\n",
    "tokenizer = transformers.DistilBertTokenizer.from_pretrained('distilbert-base-multilingual-cased')\n",
    "# Save the loaded tokenizer locally\n",
    "tokenizer.save_pretrained('.')\n",
    "# Reload it with the huggingface tokenizers library\n",
    "fast_tokenizer = BertWordPieceTokenizer('vocab.txt', lowercase=False)"
   ]
  },
  {
   "cell_type": "code",
   "execution_count": null,
   "id": "395d7015",
   "metadata": {
    "colab": {
     "base_uri": "https://localhost:8080/"
    },
    "id": "395d7015",
    "outputId": "067bf9d7-3a18-417b-991a-a0b9bcb41bc0"
   },
   "outputs": [
    {
     "name": "stderr",
     "output_type": "stream",
     "text": [
      "100%|██████████| 59/59 [00:03<00:00, 19.15it/s]\n",
      "100%|██████████| 59/59 [00:02<00:00, 20.82it/s]\n"
     ]
    }
   ],
   "source": [
    "x_train = fast_encode(df_train.Review.astype(str), fast_tokenizer, maxlen=MAX_LEN)\n",
    "x_validate = fast_encode(df_validate.Review.astype(str), fast_tokenizer, maxlen=MAX_LEN)\n",
    "\n",
    "from tensorflow.keras.utils import to_categorical\n",
    "y_train =  to_categorical(df_train.Label,num_classes = 3)\n",
    "y_validate = to_categorical(df_validate.Label,num_classes = 3)"
   ]
  },
  {
   "cell_type": "code",
   "execution_count": null,
   "id": "373a8bf9",
   "metadata": {
    "id": "373a8bf9"
   },
   "outputs": [],
   "source": [
    "train_dataset = (\n",
    "    tf.data.Dataset\n",
    "    .from_tensor_slices((x_train, y_train))\n",
    "    .repeat()\n",
    "    .shuffle(2048)\n",
    "    .batch(BATCH_SIZE)\n",
    "    .prefetch(AUTO)\n",
    ")\n",
    "\n",
    "Validation_dataset = (\n",
    "    tf.data.Dataset\n",
    "    .from_tensor_slices((x_validate, y_validate))\n",
    "    .batch(BATCH_SIZE)\n",
    "    .cache()\n",
    "    .prefetch(AUTO)\n",
    ")\n"
   ]
  },
  {
   "cell_type": "code",
   "execution_count": null,
   "id": "5ecb7fde",
   "metadata": {
    "id": "5ecb7fde"
   },
   "outputs": [],
   "source": [
    "def build_model(transformer, max_len=512):\n",
    "    \"\"\"\n",
    "    function for training the BERT model\n",
    "    \"\"\"\n",
    "    input_word_ids = Input(shape=(max_len,), dtype=tf.int32, name=\"input_word_ids\")\n",
    "    sequence_output = transformer(input_word_ids)[0]\n",
    "    cls_token = sequence_output[:, 0, :]\n",
    "    out = Dense(3, activation='softmax')(cls_token)\n",
    "    \n",
    "    model = Model(inputs=input_word_ids, outputs=out)\n",
    "    model.compile(Adam(lr=1e-5), loss='categorical_crossentropy', metrics=['accuracy'])\n",
    "    \n",
    "    return model"
   ]
  },
  {
   "cell_type": "code",
   "execution_count": null,
   "id": "94bc114d",
   "metadata": {
    "colab": {
     "base_uri": "https://localhost:8080/"
    },
    "id": "94bc114d",
    "outputId": "f99af4b1-be05-4a9d-ebd5-912be7e3dd1b"
   },
   "outputs": [
    {
     "name": "stderr",
     "output_type": "stream",
     "text": [
      "Some layers from the model checkpoint at distilbert-base-multilingual-cased were not used when initializing TFDistilBertModel: ['vocab_projector', 'activation_13', 'vocab_transform', 'vocab_layer_norm']\n",
      "- This IS expected if you are initializing TFDistilBertModel from the checkpoint of a model trained on another task or with another architecture (e.g. initializing a BertForSequenceClassification model from a BertForPreTraining model).\n",
      "- This IS NOT expected if you are initializing TFDistilBertModel from the checkpoint of a model that you expect to be exactly identical (initializing a BertForSequenceClassification model from a BertForSequenceClassification model).\n",
      "All the layers of TFDistilBertModel were initialized from the model checkpoint at distilbert-base-multilingual-cased.\n",
      "If your task is similar to the task the model of the checkpoint was trained on, you can already use TFDistilBertModel for predictions without further training.\n"
     ]
    },
    {
     "name": "stdout",
     "output_type": "stream",
     "text": [
      "Model: \"model_4\"\n",
      "_________________________________________________________________\n",
      " Layer (type)                Output Shape              Param #   \n",
      "=================================================================\n",
      " input_word_ids (InputLayer)  [(None, 512)]            0         \n",
      "                                                                 \n",
      " tf_distil_bert_model_4 (TFD  TFBaseModelOutput(last_h  134734080\n",
      " istilBertModel)             idden_state=(None, 512,             \n",
      "                             768),                               \n",
      "                              hidden_states=None, att            \n",
      "                             entions=None)                       \n",
      "                                                                 \n",
      " tf.__operators__.getitem_4   (None, 768)              0         \n",
      " (SlicingOpLambda)                                               \n",
      "                                                                 \n",
      " dense_4 (Dense)             (None, 3)                 2307      \n",
      "                                                                 \n",
      "=================================================================\n",
      "Total params: 134,736,387\n",
      "Trainable params: 134,736,387\n",
      "Non-trainable params: 0\n",
      "_________________________________________________________________\n",
      "CPU times: user 11.2 s, sys: 22.1 s, total: 33.3 s\n",
      "Wall time: 53.9 s\n"
     ]
    },
    {
     "name": "stderr",
     "output_type": "stream",
     "text": [
      "/usr/local/lib/python3.7/dist-packages/keras/optimizer_v2/adam.py:105: UserWarning: The `lr` argument is deprecated, use `learning_rate` instead.\n",
      "  super(Adam, self).__init__(name, **kwargs)\n"
     ]
    }
   ],
   "source": [
    "%%time\n",
    "with strategy.scope():\n",
    "    transformer_layer = (\n",
    "        transformers.TFDistilBertModel\n",
    "        .from_pretrained('distilbert-base-multilingual-cased')\n",
    "    )\n",
    "    model = build_model(transformer_layer, max_len=MAX_LEN)\n",
    "model.summary()"
   ]
  },
  {
   "cell_type": "code",
   "execution_count": null,
   "id": "fbc41db4",
   "metadata": {
    "colab": {
     "base_uri": "https://localhost:8080/"
    },
    "id": "fbc41db4",
    "outputId": "4dfaa4cf-0e22-4f59-f93c-b713d91641fd"
   },
   "outputs": [
    {
     "name": "stdout",
     "output_type": "stream",
     "text": [
      "Epoch 1/5\n",
      "117/117 [==============================] - 116s 447ms/step - loss: 0.8992 - accuracy: 0.5517 - val_loss: 0.6747 - val_accuracy: 0.6764\n",
      "Epoch 2/5\n",
      "117/117 [==============================] - 39s 333ms/step - loss: 0.6238 - accuracy: 0.7077 - val_loss: 0.5782 - val_accuracy: 0.7313\n",
      "Epoch 3/5\n",
      "117/117 [==============================] - 39s 335ms/step - loss: 0.5665 - accuracy: 0.7360 - val_loss: 0.5620 - val_accuracy: 0.7413\n",
      "Epoch 4/5\n",
      "117/117 [==============================] - 39s 335ms/step - loss: 0.5303 - accuracy: 0.7569 - val_loss: 0.5434 - val_accuracy: 0.7524\n",
      "Epoch 5/5\n",
      "117/117 [==============================] - 39s 335ms/step - loss: 0.5059 - accuracy: 0.7682 - val_loss: 0.5364 - val_accuracy: 0.7587\n"
     ]
    }
   ],
   "source": [
    "n_steps = x_train.shape[0] // BATCH_SIZE\n",
    "train_history = model.fit(\n",
    "    train_dataset,\n",
    "    steps_per_epoch=n_steps,\n",
    "    validation_data=Validation_dataset,\n",
    "    epochs=5)"
   ]
  },
  {
   "cell_type": "code",
   "execution_count": null,
   "id": "9681f1d1",
   "metadata": {
    "colab": {
     "base_uri": "https://localhost:8080/"
    },
    "id": "9681f1d1",
    "outputId": "92ad384c-c63d-4bec-ca20-981607450a79"
   },
   "outputs": [
    {
     "name": "stderr",
     "output_type": "stream",
     "text": [
      "100%|██████████| 1/1 [00:00<00:00,  6.74it/s]\n"
     ]
    }
   ],
   "source": [
    "x_test = fast_encode(df.text.astype(str), fast_tokenizer, maxlen=MAX_LEN)"
   ]
  },
  {
   "cell_type": "code",
   "execution_count": null,
   "id": "70KusqKH0vBO",
   "metadata": {
    "id": "70KusqKH0vBO"
   },
   "outputs": [],
   "source": [
    "import numpy as np\n",
    "df['Label'] = np.argmax(model.predict(x_test),axis=1)"
   ]
  },
  {
   "cell_type": "code",
   "execution_count": null,
   "id": "2mTJQ3Wd3LMf",
   "metadata": {
    "colab": {
     "base_uri": "https://localhost:8080/",
     "height": 864
    },
    "id": "2mTJQ3Wd3LMf",
    "outputId": "b6bfff4b-ae88-4714-a0c8-8c95c3419659"
   },
   "outputs": [
    {
     "data": {
      "text/html": [
       "\n",
       "  <div id=\"df-1e79bf03-af05-42de-9be2-e4420f727934\">\n",
       "    <div class=\"colab-df-container\">\n",
       "      <div>\n",
       "<style scoped>\n",
       "    .dataframe tbody tr th:only-of-type {\n",
       "        vertical-align: middle;\n",
       "    }\n",
       "\n",
       "    .dataframe tbody tr th {\n",
       "        vertical-align: top;\n",
       "    }\n",
       "\n",
       "    .dataframe thead th {\n",
       "        text-align: right;\n",
       "    }\n",
       "</style>\n",
       "<table border=\"1\" class=\"dataframe\">\n",
       "  <thead>\n",
       "    <tr style=\"text-align: right;\">\n",
       "      <th></th>\n",
       "      <th>Unnamed: 0</th>\n",
       "      <th>Customer Review</th>\n",
       "      <th>text</th>\n",
       "      <th>Language</th>\n",
       "      <th>review_clean</th>\n",
       "      <th>Label</th>\n",
       "    </tr>\n",
       "  </thead>\n",
       "  <tbody>\n",
       "    <tr>\n",
       "      <th>6</th>\n",
       "      <td>6</td>\n",
       "      <td>Review 7</td>\n",
       "      <td>attending business conference at the universit...</td>\n",
       "      <td>en</td>\n",
       "      <td>attend business conference university room lar...</td>\n",
       "      <td>2</td>\n",
       "    </tr>\n",
       "    <tr>\n",
       "      <th>16</th>\n",
       "      <td>16</td>\n",
       "      <td>Review 17</td>\n",
       "      <td>good points excellent location minute walk to ...</td>\n",
       "      <td>en</td>\n",
       "      <td>good point excellent location minute walk cent...</td>\n",
       "      <td>2</td>\n",
       "    </tr>\n",
       "    <tr>\n",
       "      <th>18</th>\n",
       "      <td>18</td>\n",
       "      <td>Review 19</td>\n",
       "      <td>stood nights at this hotel with my mother shop...</td>\n",
       "      <td>en</td>\n",
       "      <td>stood night hotel mother shopping trip booking...</td>\n",
       "      <td>2</td>\n",
       "    </tr>\n",
       "    <tr>\n",
       "      <th>26</th>\n",
       "      <td>26</td>\n",
       "      <td>Review 27</td>\n",
       "      <td>there is downside to tripadvisor that shows it...</td>\n",
       "      <td>en</td>\n",
       "      <td>downside tripadvisor show face occasionally se...</td>\n",
       "      <td>2</td>\n",
       "    </tr>\n",
       "    <tr>\n",
       "      <th>34</th>\n",
       "      <td>34</td>\n",
       "      <td>Review 35</td>\n",
       "      <td>just got back from my labor day weekend at the...</td>\n",
       "      <td>en</td>\n",
       "      <td>get back labor day weekend sherry go heart bea...</td>\n",
       "      <td>2</td>\n",
       "    </tr>\n",
       "    <tr>\n",
       "      <th>48</th>\n",
       "      <td>48</td>\n",
       "      <td>Review 49</td>\n",
       "      <td>glowing review hilton garden inn energy corrid...</td>\n",
       "      <td>en</td>\n",
       "      <td>glow review hilton garden inn energy corridor ...</td>\n",
       "      <td>2</td>\n",
       "    </tr>\n",
       "    <tr>\n",
       "      <th>75</th>\n",
       "      <td>75</td>\n",
       "      <td>Review 76</td>\n",
       "      <td>the camera is an american standard or always t...</td>\n",
       "      <td>en</td>\n",
       "      <td>camera american standard always large one pers...</td>\n",
       "      <td>2</td>\n",
       "    </tr>\n",
       "    <tr>\n",
       "      <th>88</th>\n",
       "      <td>88</td>\n",
       "      <td>Review 89</td>\n",
       "      <td>if were to run hotel do it the way it done by ...</td>\n",
       "      <td>en</td>\n",
       "      <td>run hotel way do staff sherry netherland tell ...</td>\n",
       "      <td>2</td>\n",
       "    </tr>\n",
       "    <tr>\n",
       "      <th>89</th>\n",
       "      <td>89</td>\n",
       "      <td>Review 90</td>\n",
       "      <td>the westin memorial city opened in the spring ...</td>\n",
       "      <td>en</td>\n",
       "      <td>westin memorial city open spring midrise hotel...</td>\n",
       "      <td>2</td>\n",
       "    </tr>\n",
       "    <tr>\n",
       "      <th>95</th>\n",
       "      <td>95</td>\n",
       "      <td>Review 96</td>\n",
       "      <td>my new favorite hotel in new york will definit...</td>\n",
       "      <td>en</td>\n",
       "      <td>new favorite hotel new york definitely stay ho...</td>\n",
       "      <td>2</td>\n",
       "    </tr>\n",
       "    <tr>\n",
       "      <th>98</th>\n",
       "      <td>98</td>\n",
       "      <td>Review 99</td>\n",
       "      <td>business traveler travel every week on busines...</td>\n",
       "      <td>en</td>\n",
       "      <td>business traveler travel every week business c...</td>\n",
       "      <td>2</td>\n",
       "    </tr>\n",
       "    <tr>\n",
       "      <th>101</th>\n",
       "      <td>101</td>\n",
       "      <td>Review 102</td>\n",
       "      <td>like many hotels in nyc this one is an updated...</td>\n",
       "      <td>en</td>\n",
       "      <td>like many hotel nyc one update old one issue w...</td>\n",
       "      <td>2</td>\n",
       "    </tr>\n",
       "    <tr>\n",
       "      <th>102</th>\n",
       "      <td>102</td>\n",
       "      <td>Review 103</td>\n",
       "      <td>for my four year old first trip to nyc we stay...</td>\n",
       "      <td>en</td>\n",
       "      <td>four year old first trip nyc stay suite san ca...</td>\n",
       "      <td>2</td>\n",
       "    </tr>\n",
       "    <tr>\n",
       "      <th>103</th>\n",
       "      <td>103</td>\n",
       "      <td>Review 104</td>\n",
       "      <td>after airbnb cancelled our apartment reservati...</td>\n",
       "      <td>en</td>\n",
       "      <td>airbnb cancel apartment reservation last minut...</td>\n",
       "      <td>2</td>\n",
       "    </tr>\n",
       "    <tr>\n",
       "      <th>116</th>\n",
       "      <td>116</td>\n",
       "      <td>Review 117</td>\n",
       "      <td>my husband and picked this hotel for the size ...</td>\n",
       "      <td>en</td>\n",
       "      <td>husband pick hotel size room mom stay night ro...</td>\n",
       "      <td>2</td>\n",
       "    </tr>\n",
       "    <tr>\n",
       "      <th>118</th>\n",
       "      <td>118</td>\n",
       "      <td>Review 119</td>\n",
       "      <td>this is nice modern hotel in very affluence ma...</td>\n",
       "      <td>en</td>\n",
       "      <td>nice modern hotel affluence mall area like ove...</td>\n",
       "      <td>2</td>\n",
       "    </tr>\n",
       "    <tr>\n",
       "      <th>123</th>\n",
       "      <td>123</td>\n",
       "      <td>Review 124</td>\n",
       "      <td>westin houston still had that fresh paint clea...</td>\n",
       "      <td>en</td>\n",
       "      <td>westin houston still fresh paint clean smell u...</td>\n",
       "      <td>2</td>\n",
       "    </tr>\n",
       "    <tr>\n",
       "      <th>126</th>\n",
       "      <td>126</td>\n",
       "      <td>Review 127</td>\n",
       "      <td>aging noisy and somewhat dilapidated with cons...</td>\n",
       "      <td>en</td>\n",
       "      <td>age noisy somewhat dilapidate constant buzzing...</td>\n",
       "      <td>2</td>\n",
       "    </tr>\n",
       "    <tr>\n",
       "      <th>141</th>\n",
       "      <td>141</td>\n",
       "      <td>Review 142</td>\n",
       "      <td>this hotel is right next to an extraordinarily...</td>\n",
       "      <td>en</td>\n",
       "      <td>hotel right next extraordinarily busy noisy hi...</td>\n",
       "      <td>2</td>\n",
       "    </tr>\n",
       "    <tr>\n",
       "      <th>149</th>\n",
       "      <td>149</td>\n",
       "      <td>Review 150</td>\n",
       "      <td>we stayed here this past weekend mainly becaus...</td>\n",
       "      <td>en</td>\n",
       "      <td>stay past weekend mainly positive review tripa...</td>\n",
       "      <td>2</td>\n",
       "    </tr>\n",
       "    <tr>\n",
       "      <th>151</th>\n",
       "      <td>151</td>\n",
       "      <td>Review 152</td>\n",
       "      <td>hotel is ok no thrills room was clean with all...</td>\n",
       "      <td>en</td>\n",
       "      <td>hotel ok thrill room clean basic amenity clean...</td>\n",
       "      <td>2</td>\n",
       "    </tr>\n",
       "    <tr>\n",
       "      <th>153</th>\n",
       "      <td>153</td>\n",
       "      <td>Review 154</td>\n",
       "      <td>stayed there once last for business and wasn r...</td>\n",
       "      <td>en</td>\n",
       "      <td>stay last business really fascinate another ex...</td>\n",
       "      <td>2</td>\n",
       "    </tr>\n",
       "    <tr>\n",
       "      <th>171</th>\n",
       "      <td>171</td>\n",
       "      <td>Review 172</td>\n",
       "      <td>we loved the san carlos from the minute we arr...</td>\n",
       "      <td>en</td>\n",
       "      <td>love san carlos minute arrive treat like old f...</td>\n",
       "      <td>2</td>\n",
       "    </tr>\n",
       "    <tr>\n",
       "      <th>186</th>\n",
       "      <td>186</td>\n",
       "      <td>Review 187</td>\n",
       "      <td>we stayed at the sorella one night for little ...</td>\n",
       "      <td>en</td>\n",
       "      <td>stay sorella one night little day getaway reco...</td>\n",
       "      <td>2</td>\n",
       "    </tr>\n",
       "    <tr>\n",
       "      <th>188</th>\n",
       "      <td>188</td>\n",
       "      <td>Review 189</td>\n",
       "      <td>the la quinta in houston texas on normandy st ...</td>\n",
       "      <td>en</td>\n",
       "      <td>la quinta houston texas normandy st nice lq in...</td>\n",
       "      <td>2</td>\n",
       "    </tr>\n",
       "    <tr>\n",
       "      <th>189</th>\n",
       "      <td>189</td>\n",
       "      <td>Review 190</td>\n",
       "      <td>was in town to work on habitat project nearby ...</td>\n",
       "      <td>en</td>\n",
       "      <td>town work habitat project nearby decide stay h...</td>\n",
       "      <td>2</td>\n",
       "    </tr>\n",
       "  </tbody>\n",
       "</table>\n",
       "</div>\n",
       "      <button class=\"colab-df-convert\" onclick=\"convertToInteractive('df-1e79bf03-af05-42de-9be2-e4420f727934')\"\n",
       "              title=\"Convert this dataframe to an interactive table.\"\n",
       "              style=\"display:none;\">\n",
       "        \n",
       "  <svg xmlns=\"http://www.w3.org/2000/svg\" height=\"24px\"viewBox=\"0 0 24 24\"\n",
       "       width=\"24px\">\n",
       "    <path d=\"M0 0h24v24H0V0z\" fill=\"none\"/>\n",
       "    <path d=\"M18.56 5.44l.94 2.06.94-2.06 2.06-.94-2.06-.94-.94-2.06-.94 2.06-2.06.94zm-11 1L8.5 8.5l.94-2.06 2.06-.94-2.06-.94L8.5 2.5l-.94 2.06-2.06.94zm10 10l.94 2.06.94-2.06 2.06-.94-2.06-.94-.94-2.06-.94 2.06-2.06.94z\"/><path d=\"M17.41 7.96l-1.37-1.37c-.4-.4-.92-.59-1.43-.59-.52 0-1.04.2-1.43.59L10.3 9.45l-7.72 7.72c-.78.78-.78 2.05 0 2.83L4 21.41c.39.39.9.59 1.41.59.51 0 1.02-.2 1.41-.59l7.78-7.78 2.81-2.81c.8-.78.8-2.07 0-2.86zM5.41 20L4 18.59l7.72-7.72 1.47 1.35L5.41 20z\"/>\n",
       "  </svg>\n",
       "      </button>\n",
       "      \n",
       "  <style>\n",
       "    .colab-df-container {\n",
       "      display:flex;\n",
       "      flex-wrap:wrap;\n",
       "      gap: 12px;\n",
       "    }\n",
       "\n",
       "    .colab-df-convert {\n",
       "      background-color: #E8F0FE;\n",
       "      border: none;\n",
       "      border-radius: 50%;\n",
       "      cursor: pointer;\n",
       "      display: none;\n",
       "      fill: #1967D2;\n",
       "      height: 32px;\n",
       "      padding: 0 0 0 0;\n",
       "      width: 32px;\n",
       "    }\n",
       "\n",
       "    .colab-df-convert:hover {\n",
       "      background-color: #E2EBFA;\n",
       "      box-shadow: 0px 1px 2px rgba(60, 64, 67, 0.3), 0px 1px 3px 1px rgba(60, 64, 67, 0.15);\n",
       "      fill: #174EA6;\n",
       "    }\n",
       "\n",
       "    [theme=dark] .colab-df-convert {\n",
       "      background-color: #3B4455;\n",
       "      fill: #D2E3FC;\n",
       "    }\n",
       "\n",
       "    [theme=dark] .colab-df-convert:hover {\n",
       "      background-color: #434B5C;\n",
       "      box-shadow: 0px 1px 3px 1px rgba(0, 0, 0, 0.15);\n",
       "      filter: drop-shadow(0px 1px 2px rgba(0, 0, 0, 0.3));\n",
       "      fill: #FFFFFF;\n",
       "    }\n",
       "  </style>\n",
       "\n",
       "      <script>\n",
       "        const buttonEl =\n",
       "          document.querySelector('#df-1e79bf03-af05-42de-9be2-e4420f727934 button.colab-df-convert');\n",
       "        buttonEl.style.display =\n",
       "          google.colab.kernel.accessAllowed ? 'block' : 'none';\n",
       "\n",
       "        async function convertToInteractive(key) {\n",
       "          const element = document.querySelector('#df-1e79bf03-af05-42de-9be2-e4420f727934');\n",
       "          const dataTable =\n",
       "            await google.colab.kernel.invokeFunction('convertToInteractive',\n",
       "                                                     [key], {});\n",
       "          if (!dataTable) return;\n",
       "\n",
       "          const docLinkHtml = 'Like what you see? Visit the ' +\n",
       "            '<a target=\"_blank\" href=https://colab.research.google.com/notebooks/data_table.ipynb>data table notebook</a>'\n",
       "            + ' to learn more about interactive tables.';\n",
       "          element.innerHTML = '';\n",
       "          dataTable['output_type'] = 'display_data';\n",
       "          await google.colab.output.renderOutput(dataTable, element);\n",
       "          const docLink = document.createElement('div');\n",
       "          docLink.innerHTML = docLinkHtml;\n",
       "          element.appendChild(docLink);\n",
       "        }\n",
       "      </script>\n",
       "    </div>\n",
       "  </div>\n",
       "  "
      ],
      "text/plain": [
       "     Unnamed: 0 Customer Review  \\\n",
       "6             6        Review 7   \n",
       "16           16       Review 17   \n",
       "18           18       Review 19   \n",
       "26           26       Review 27   \n",
       "34           34       Review 35   \n",
       "48           48       Review 49   \n",
       "75           75       Review 76   \n",
       "88           88       Review 89   \n",
       "89           89       Review 90   \n",
       "95           95       Review 96   \n",
       "98           98       Review 99   \n",
       "101         101      Review 102   \n",
       "102         102      Review 103   \n",
       "103         103      Review 104   \n",
       "116         116      Review 117   \n",
       "118         118      Review 119   \n",
       "123         123      Review 124   \n",
       "126         126      Review 127   \n",
       "141         141      Review 142   \n",
       "149         149      Review 150   \n",
       "151         151      Review 152   \n",
       "153         153      Review 154   \n",
       "171         171      Review 172   \n",
       "186         186      Review 187   \n",
       "188         188      Review 189   \n",
       "189         189      Review 190   \n",
       "\n",
       "                                                  text Language  \\\n",
       "6    attending business conference at the universit...       en   \n",
       "16   good points excellent location minute walk to ...       en   \n",
       "18   stood nights at this hotel with my mother shop...       en   \n",
       "26   there is downside to tripadvisor that shows it...       en   \n",
       "34   just got back from my labor day weekend at the...       en   \n",
       "48   glowing review hilton garden inn energy corrid...       en   \n",
       "75   the camera is an american standard or always t...       en   \n",
       "88   if were to run hotel do it the way it done by ...       en   \n",
       "89   the westin memorial city opened in the spring ...       en   \n",
       "95   my new favorite hotel in new york will definit...       en   \n",
       "98   business traveler travel every week on busines...       en   \n",
       "101  like many hotels in nyc this one is an updated...       en   \n",
       "102  for my four year old first trip to nyc we stay...       en   \n",
       "103  after airbnb cancelled our apartment reservati...       en   \n",
       "116  my husband and picked this hotel for the size ...       en   \n",
       "118  this is nice modern hotel in very affluence ma...       en   \n",
       "123  westin houston still had that fresh paint clea...       en   \n",
       "126  aging noisy and somewhat dilapidated with cons...       en   \n",
       "141  this hotel is right next to an extraordinarily...       en   \n",
       "149  we stayed here this past weekend mainly becaus...       en   \n",
       "151  hotel is ok no thrills room was clean with all...       en   \n",
       "153  stayed there once last for business and wasn r...       en   \n",
       "171  we loved the san carlos from the minute we arr...       en   \n",
       "186  we stayed at the sorella one night for little ...       en   \n",
       "188  the la quinta in houston texas on normandy st ...       en   \n",
       "189  was in town to work on habitat project nearby ...       en   \n",
       "\n",
       "                                          review_clean  Label  \n",
       "6    attend business conference university room lar...      2  \n",
       "16   good point excellent location minute walk cent...      2  \n",
       "18   stood night hotel mother shopping trip booking...      2  \n",
       "26   downside tripadvisor show face occasionally se...      2  \n",
       "34   get back labor day weekend sherry go heart bea...      2  \n",
       "48   glow review hilton garden inn energy corridor ...      2  \n",
       "75   camera american standard always large one pers...      2  \n",
       "88   run hotel way do staff sherry netherland tell ...      2  \n",
       "89   westin memorial city open spring midrise hotel...      2  \n",
       "95   new favorite hotel new york definitely stay ho...      2  \n",
       "98   business traveler travel every week business c...      2  \n",
       "101  like many hotel nyc one update old one issue w...      2  \n",
       "102  four year old first trip nyc stay suite san ca...      2  \n",
       "103  airbnb cancel apartment reservation last minut...      2  \n",
       "116  husband pick hotel size room mom stay night ro...      2  \n",
       "118  nice modern hotel affluence mall area like ove...      2  \n",
       "123  westin houston still fresh paint clean smell u...      2  \n",
       "126  age noisy somewhat dilapidate constant buzzing...      2  \n",
       "141  hotel right next extraordinarily busy noisy hi...      2  \n",
       "149  stay past weekend mainly positive review tripa...      2  \n",
       "151  hotel ok thrill room clean basic amenity clean...      2  \n",
       "153  stay last business really fascinate another ex...      2  \n",
       "171  love san carlos minute arrive treat like old f...      2  \n",
       "186  stay sorella one night little day getaway reco...      2  \n",
       "188  la quinta houston texas normandy st nice lq in...      2  \n",
       "189  town work habitat project nearby decide stay h...      2  "
      ]
     },
     "execution_count": 127,
     "metadata": {},
     "output_type": "execute_result"
    }
   ],
   "source": [
    "df[df.Label == 2]"
   ]
  },
  {
   "cell_type": "code",
   "execution_count": null,
   "id": "W68Dg0-P3emN",
   "metadata": {
    "id": "W68Dg0-P3emN"
   },
   "outputs": [],
   "source": [
    "def Labels(x):\n",
    "  if x == 1:\n",
    "    return('Positive')\n",
    "  elif x == 2:\n",
    "    return('Negative')\n",
    "  else:\n",
    "    return('Neutral')\n",
    "df.Label = df.Label.apply(Labels)"
   ]
  },
  {
   "cell_type": "code",
   "execution_count": null,
   "id": "AqJRWylC4FMa",
   "metadata": {
    "colab": {
     "base_uri": "https://localhost:8080/",
     "height": 1000
    },
    "id": "AqJRWylC4FMa",
    "outputId": "f547f4fd-9dbc-4605-e15b-2991b9b4f931"
   },
   "outputs": [
    {
     "data": {
      "text/plain": [
       "([<matplotlib.axis.XTick at 0x7f0108e50f90>,\n",
       "  <matplotlib.axis.XTick at 0x7f0108e50c10>,\n",
       "  <matplotlib.axis.XTick at 0x7f00fe35f750>],\n",
       " [Text(0, 0, 'Positive'), Text(0, 0, 'Negative'), Text(0, 0, 'Neutral')])"
      ]
     },
     "execution_count": 321,
     "metadata": {},
     "output_type": "execute_result"
    },
    {
     "data": {
      "image/png": "[encoded data removed]",
      "text/plain": [
       "<Figure size 3600x3600 with 1 Axes>"
      ]
     },
     "metadata": {
      "needs_background": "light"
     },
     "output_type": "display_data"
    }
   ],
   "source": [
    "serif_font = {'fontname':'serif'}\n",
    "r = np.arange(3)\n",
    "width = 0.25\n",
    "\n",
    "plt.figure(figsize=(50,50))\n",
    "  \n",
    "plt.bar(r, list(df.Label.value_counts()), color = 'black',\n",
    "        width = width, edgecolor = 'black',\n",
    "        label='Classification Of Reviews')\n",
    "\n",
    "plt.xticks(size = 50,rotation = 45)\n",
    "plt.yticks(size = 50)\n",
    "\n",
    "plt.xlabel(\"Type of Review\",fontsize = 70,color ='r')\n",
    "plt.ylabel(\"Number of Reviews\",fontsize = 70,color ='r')\n",
    "plt.title(\"Classification Of Reviews\",size =  100,**serif_font,color = 'Green')\n",
    "\n",
    "plt.legend(['Positive', 'Negative','Neutral'], loc =\"upper right\",fontsize = 50)\n",
    "  \n",
    "# plt.grid(linestyle='--')\n",
    "plt.xticks(r,['Positive', 'Negative','Neutral'])\n",
    "\n"
   ]
  },
  {
   "cell_type": "code",
   "execution_count": null,
   "id": "QUulTrOHBBNP",
   "metadata": {
    "id": "QUulTrOHBBNP"
   },
   "outputs": [],
   "source": [
    "# Positive_Reviews = df[df.Label=='Positive']\n",
    "Negative_Reviews = df[df.Label=='Negative']\n",
    "Neutral_Reviews = df[df.Label=='Neutral']"
   ]
  },
  {
   "cell_type": "code",
   "execution_count": null,
   "id": "huuiOGKxJf7G",
   "metadata": {
    "colab": {
     "base_uri": "https://localhost:8080/",
     "height": 122
    },
    "id": "huuiOGKxJf7G",
    "outputId": "169ac47b-937b-4c37-c643-8819ca02a98c"
   },
   "outputs": [
    {
     "data": {
      "application/vnd.google.colaboratory.intrinsic+json": {
       "type": "string"
      },
      "text/plain": [
       "'attending business conference at the university room was large with two comfortable beds and adequate pillows as is common in many hotels the chair and hassock were too stylish to be practical and comfortable useless to try to sit put for feet up and read would take balancing act desk and work space were superior nice in room lavazza coffee set up bathroom was superior spacious clean shower was water saver head but worked pretty well asked for late check out and this was not problem also the screw came out of my reading glasses and when asked at the front desk for some tape yes nerd style to wrap around the hinge surprise the desk clerk pulled out tiny optical screw driver be aware parking is night for guests but some room rates include this bar and restaurant food and drinks were good and service was very pleasant but both dinner and breakfast the wait staff seemed to disappear for minutes right when was ready to pay and leave might have been light on the staff hotel is circuitous miles from hobby but gps worked well signs are poor beware the security line at hobby can be minutes during mid afternoon'"
      ]
     },
     "execution_count": 284,
     "metadata": {},
     "output_type": "execute_result"
    }
   ],
   "source": [
    "Negative_Reviews.text[6]"
   ]
  },
  {
   "cell_type": "markdown",
   "id": "MJHwRVWlE1Pw",
   "metadata": {
    "id": "MJHwRVWlE1Pw"
   },
   "source": [
    "# Positive Reviews"
   ]
  },
  {
   "cell_type": "code",
   "execution_count": null,
   "id": "tPP40xeqBX0e",
   "metadata": {
    "colab": {
     "base_uri": "https://localhost:8080/"
    },
    "id": "tPP40xeqBX0e",
    "outputId": "c3e8647a-aff3-4288-9ac1-8e0fddfb8b49"
   },
   "outputs": [
    {
     "name": "stdout",
     "output_type": "stream",
     "text": [
      "[nltk_data] Downloading package punkt to /root/nltk_data...\n",
      "[nltk_data]   Package punkt is already up-to-date!\n"
     ]
    },
    {
     "name": "stderr",
     "output_type": "stream",
     "text": [
      "/usr/local/lib/python3.7/dist-packages/ipykernel_launcher.py:34: SettingWithCopyWarning: \n",
      "A value is trying to be set on a copy of a slice from a DataFrame.\n",
      "Try using .loc[row_indexer,col_indexer] = value instead\n",
      "\n",
      "See the caveats in the documentation: https://pandas.pydata.org/pandas-docs/stable/user_guide/indexing.html#returning-a-view-versus-a-copy\n",
      "/usr/local/lib/python3.7/dist-packages/ipykernel_launcher.py:35: SettingWithCopyWarning: \n",
      "A value is trying to be set on a copy of a slice from a DataFrame.\n",
      "Try using .loc[row_indexer,col_indexer] = value instead\n",
      "\n",
      "See the caveats in the documentation: https://pandas.pydata.org/pandas-docs/stable/user_guide/indexing.html#returning-a-view-versus-a-copy\n"
     ]
    }
   ],
   "source": [
    "# return the wordnet object value corresponding to the POS tag\n",
    "    \n",
    "import string\n",
    "from nltk import pos_tag\n",
    "from nltk.corpus import stopwords\n",
    "from nltk.tokenize import WhitespaceTokenizer\n",
    "from nltk.stem import WordNetLemmatizer\n",
    "nltk.download('punkt')\n",
    "\n",
    "stop = stopwords.words('english')\n",
    "stop+= ['sorella','comf','perfor','mi','st','dtype','p','aaa','aandf','yogurt','orange','aback','ta','dw','also','another','nyc','cab','etc','houston','back','us']\n",
    "st = ['new york','san carlos','central park','sherry netherland','harry cipriani','yr old','adult per', 'adults teens',]\n",
    "def clean_text(text):\n",
    "    # lower text\n",
    "    text = text.lower()\n",
    "    for i in st:\n",
    "        text = text.replace(i,'')\n",
    "    # tokenize text and remove puncutation\n",
    "#     text = [word.strip(string.punctuation) for word in text.split()]\n",
    "    # remove words that contain numbers\n",
    "    text = [word for word in text.split() if not any(c.isdigit() for c in word)]\n",
    "    # remove stop words\n",
    "    text = [x for x in text if x not in stop]\n",
    "    # remove empty tokens\n",
    "    text = [t for t in text if len(t) > 0]\n",
    "    # remove words with only one letter\n",
    "    text = [t for t in text if len(t) > 1]\n",
    "    # join all\n",
    "    text = \" \".join(text)\n",
    "    return(text)\n",
    "\n",
    "# clean text data\n",
    "# Positive_Reviews[\"review_clean\"] = Positive_Reviews[\"text\"].apply(lambda x: clean_text(x))\n",
    "Negative_Reviews[\"review_clean\"] = Negative_Reviews[\"text\"].apply(lambda x: clean_text(x))\n",
    "Neutral_Reviews[\"review_clean\"] = Neutral_Reviews[\"text\"].apply(lambda x: clean_text(x))"
   ]
  },
  {
   "cell_type": "markdown",
   "id": "-8kdzWnHE6eH",
   "metadata": {
    "id": "-8kdzWnHE6eH"
   },
   "source": [
    "# Clustering"
   ]
  },
  {
   "cell_type": "code",
   "execution_count": null,
   "id": "Sp3qhY2LWHQW",
   "metadata": {
    "colab": {
     "base_uri": "https://localhost:8080/"
    },
    "id": "Sp3qhY2LWHQW",
    "outputId": "714c4303-f5b1-433c-e3d0-10ad4dc36656"
   },
   "outputs": [
    {
     "name": "stderr",
     "output_type": "stream",
     "text": [
      "/usr/local/lib/python3.7/dist-packages/sklearn/utils/deprecation.py:87: FutureWarning: Function get_feature_names is deprecated; get_feature_names is deprecated in 1.0 and will be removed in 1.2. Please use get_feature_names_out instead.\n",
      "  warnings.warn(msg, category=FutureWarning)\n"
     ]
    }
   ],
   "source": [
    "# add tf-idfs columns\n",
    "from sklearn.feature_extraction.text import TfidfVectorizer\n",
    "tfidf = TfidfVectorizer(ngram_range=(1,2),min_df= 2,max_df = 5)\n",
    "tfidf_result = tfidf.fit_transform(Positive_Reviews['review_clean']).toarray()\n",
    "tfidf_df = pd.DataFrame(tfidf_result, columns = tfidf.get_feature_names())\n",
    "# tfidf_df.columns = [\"word_\" + str(x) for x in tfidf_df.columns]"
   ]
  },
  {
   "cell_type": "code",
   "execution_count": null,
   "id": "wyarqCXbttN1",
   "metadata": {
    "colab": {
     "base_uri": "https://localhost:8080/",
     "height": 504
    },
    "id": "wyarqCXbttN1",
    "outputId": "59d16e4d-87a3-4fb7-d8c9-74aa5bef6ad7"
   },
   "outputs": [
    {
     "data": {
      "text/html": [
       "\n",
       "  <div id=\"df-33c28c7f-d59a-423a-89e7-ba605d885ce2\">\n",
       "    <div class=\"colab-df-container\">\n",
       "      <div>\n",
       "<style scoped>\n",
       "    .dataframe tbody tr th:only-of-type {\n",
       "        vertical-align: middle;\n",
       "    }\n",
       "\n",
       "    .dataframe tbody tr th {\n",
       "        vertical-align: top;\n",
       "    }\n",
       "\n",
       "    .dataframe thead th {\n",
       "        text-align: right;\n",
       "    }\n",
       "</style>\n",
       "<table border=\"1\" class=\"dataframe\">\n",
       "  <thead>\n",
       "    <tr style=\"text-align: right;\">\n",
       "      <th></th>\n",
       "      <th>able use</th>\n",
       "      <th>absolutely love</th>\n",
       "      <th>accommodate</th>\n",
       "      <th>accommodating highly</th>\n",
       "      <th>across street</th>\n",
       "      <th>activities</th>\n",
       "      <th>addition</th>\n",
       "      <th>address</th>\n",
       "      <th>adequate</th>\n",
       "      <th>adjoining</th>\n",
       "      <th>...</th>\n",
       "      <th>wow</th>\n",
       "      <th>wow really</th>\n",
       "      <th>yard</th>\n",
       "      <th>yard house</th>\n",
       "      <th>year old</th>\n",
       "      <th>year trip</th>\n",
       "      <th>yet</th>\n",
       "      <th>yogurts</th>\n",
       "      <th>young</th>\n",
       "      <th>younger</th>\n",
       "    </tr>\n",
       "  </thead>\n",
       "  <tbody>\n",
       "    <tr>\n",
       "      <th>0</th>\n",
       "      <td>0.0</td>\n",
       "      <td>0.0</td>\n",
       "      <td>0.000000</td>\n",
       "      <td>0.0</td>\n",
       "      <td>0.0</td>\n",
       "      <td>0.0</td>\n",
       "      <td>0.0</td>\n",
       "      <td>0.0</td>\n",
       "      <td>0.0</td>\n",
       "      <td>0.0</td>\n",
       "      <td>...</td>\n",
       "      <td>0.0</td>\n",
       "      <td>0.0</td>\n",
       "      <td>0.0</td>\n",
       "      <td>0.0</td>\n",
       "      <td>0.000000</td>\n",
       "      <td>0.00000</td>\n",
       "      <td>0.0</td>\n",
       "      <td>0.0</td>\n",
       "      <td>0.0</td>\n",
       "      <td>0.0</td>\n",
       "    </tr>\n",
       "    <tr>\n",
       "      <th>1</th>\n",
       "      <td>0.0</td>\n",
       "      <td>0.0</td>\n",
       "      <td>0.000000</td>\n",
       "      <td>0.0</td>\n",
       "      <td>0.0</td>\n",
       "      <td>0.0</td>\n",
       "      <td>0.0</td>\n",
       "      <td>0.0</td>\n",
       "      <td>0.0</td>\n",
       "      <td>0.0</td>\n",
       "      <td>...</td>\n",
       "      <td>0.0</td>\n",
       "      <td>0.0</td>\n",
       "      <td>0.0</td>\n",
       "      <td>0.0</td>\n",
       "      <td>0.000000</td>\n",
       "      <td>0.00000</td>\n",
       "      <td>0.0</td>\n",
       "      <td>0.0</td>\n",
       "      <td>0.0</td>\n",
       "      <td>0.0</td>\n",
       "    </tr>\n",
       "    <tr>\n",
       "      <th>2</th>\n",
       "      <td>0.0</td>\n",
       "      <td>0.0</td>\n",
       "      <td>0.000000</td>\n",
       "      <td>0.0</td>\n",
       "      <td>0.0</td>\n",
       "      <td>0.0</td>\n",
       "      <td>0.0</td>\n",
       "      <td>0.0</td>\n",
       "      <td>0.0</td>\n",
       "      <td>0.0</td>\n",
       "      <td>...</td>\n",
       "      <td>0.0</td>\n",
       "      <td>0.0</td>\n",
       "      <td>0.0</td>\n",
       "      <td>0.0</td>\n",
       "      <td>0.000000</td>\n",
       "      <td>0.00000</td>\n",
       "      <td>0.0</td>\n",
       "      <td>0.0</td>\n",
       "      <td>0.0</td>\n",
       "      <td>0.0</td>\n",
       "    </tr>\n",
       "    <tr>\n",
       "      <th>3</th>\n",
       "      <td>0.0</td>\n",
       "      <td>0.0</td>\n",
       "      <td>0.215676</td>\n",
       "      <td>0.0</td>\n",
       "      <td>0.0</td>\n",
       "      <td>0.0</td>\n",
       "      <td>0.0</td>\n",
       "      <td>0.0</td>\n",
       "      <td>0.0</td>\n",
       "      <td>0.0</td>\n",
       "      <td>...</td>\n",
       "      <td>0.0</td>\n",
       "      <td>0.0</td>\n",
       "      <td>0.0</td>\n",
       "      <td>0.0</td>\n",
       "      <td>0.000000</td>\n",
       "      <td>0.22898</td>\n",
       "      <td>0.0</td>\n",
       "      <td>0.0</td>\n",
       "      <td>0.0</td>\n",
       "      <td>0.0</td>\n",
       "    </tr>\n",
       "    <tr>\n",
       "      <th>4</th>\n",
       "      <td>0.0</td>\n",
       "      <td>0.0</td>\n",
       "      <td>0.000000</td>\n",
       "      <td>0.0</td>\n",
       "      <td>0.0</td>\n",
       "      <td>0.0</td>\n",
       "      <td>0.0</td>\n",
       "      <td>0.0</td>\n",
       "      <td>0.0</td>\n",
       "      <td>0.0</td>\n",
       "      <td>...</td>\n",
       "      <td>0.0</td>\n",
       "      <td>0.0</td>\n",
       "      <td>0.0</td>\n",
       "      <td>0.0</td>\n",
       "      <td>0.000000</td>\n",
       "      <td>0.00000</td>\n",
       "      <td>0.0</td>\n",
       "      <td>0.0</td>\n",
       "      <td>0.0</td>\n",
       "      <td>0.0</td>\n",
       "    </tr>\n",
       "    <tr>\n",
       "      <th>...</th>\n",
       "      <td>...</td>\n",
       "      <td>...</td>\n",
       "      <td>...</td>\n",
       "      <td>...</td>\n",
       "      <td>...</td>\n",
       "      <td>...</td>\n",
       "      <td>...</td>\n",
       "      <td>...</td>\n",
       "      <td>...</td>\n",
       "      <td>...</td>\n",
       "      <td>...</td>\n",
       "      <td>...</td>\n",
       "      <td>...</td>\n",
       "      <td>...</td>\n",
       "      <td>...</td>\n",
       "      <td>...</td>\n",
       "      <td>...</td>\n",
       "      <td>...</td>\n",
       "      <td>...</td>\n",
       "      <td>...</td>\n",
       "      <td>...</td>\n",
       "    </tr>\n",
       "    <tr>\n",
       "      <th>150</th>\n",
       "      <td>0.0</td>\n",
       "      <td>0.0</td>\n",
       "      <td>0.000000</td>\n",
       "      <td>0.0</td>\n",
       "      <td>0.0</td>\n",
       "      <td>0.0</td>\n",
       "      <td>0.0</td>\n",
       "      <td>0.0</td>\n",
       "      <td>0.0</td>\n",
       "      <td>0.0</td>\n",
       "      <td>...</td>\n",
       "      <td>0.0</td>\n",
       "      <td>0.0</td>\n",
       "      <td>0.0</td>\n",
       "      <td>0.0</td>\n",
       "      <td>0.000000</td>\n",
       "      <td>0.00000</td>\n",
       "      <td>0.0</td>\n",
       "      <td>0.0</td>\n",
       "      <td>0.0</td>\n",
       "      <td>0.0</td>\n",
       "    </tr>\n",
       "    <tr>\n",
       "      <th>151</th>\n",
       "      <td>0.0</td>\n",
       "      <td>0.0</td>\n",
       "      <td>0.000000</td>\n",
       "      <td>0.0</td>\n",
       "      <td>0.0</td>\n",
       "      <td>0.0</td>\n",
       "      <td>0.0</td>\n",
       "      <td>0.0</td>\n",
       "      <td>0.0</td>\n",
       "      <td>0.0</td>\n",
       "      <td>...</td>\n",
       "      <td>0.0</td>\n",
       "      <td>0.0</td>\n",
       "      <td>0.0</td>\n",
       "      <td>0.0</td>\n",
       "      <td>0.185566</td>\n",
       "      <td>0.00000</td>\n",
       "      <td>0.0</td>\n",
       "      <td>0.0</td>\n",
       "      <td>0.0</td>\n",
       "      <td>0.0</td>\n",
       "    </tr>\n",
       "    <tr>\n",
       "      <th>152</th>\n",
       "      <td>0.0</td>\n",
       "      <td>0.0</td>\n",
       "      <td>0.000000</td>\n",
       "      <td>0.0</td>\n",
       "      <td>0.0</td>\n",
       "      <td>0.0</td>\n",
       "      <td>0.0</td>\n",
       "      <td>0.0</td>\n",
       "      <td>0.0</td>\n",
       "      <td>0.0</td>\n",
       "      <td>...</td>\n",
       "      <td>0.0</td>\n",
       "      <td>0.0</td>\n",
       "      <td>0.0</td>\n",
       "      <td>0.0</td>\n",
       "      <td>0.000000</td>\n",
       "      <td>0.00000</td>\n",
       "      <td>0.0</td>\n",
       "      <td>0.0</td>\n",
       "      <td>0.0</td>\n",
       "      <td>0.0</td>\n",
       "    </tr>\n",
       "    <tr>\n",
       "      <th>153</th>\n",
       "      <td>0.0</td>\n",
       "      <td>0.0</td>\n",
       "      <td>0.000000</td>\n",
       "      <td>0.0</td>\n",
       "      <td>0.0</td>\n",
       "      <td>0.0</td>\n",
       "      <td>0.0</td>\n",
       "      <td>0.0</td>\n",
       "      <td>0.0</td>\n",
       "      <td>0.0</td>\n",
       "      <td>...</td>\n",
       "      <td>0.0</td>\n",
       "      <td>0.0</td>\n",
       "      <td>0.0</td>\n",
       "      <td>0.0</td>\n",
       "      <td>0.000000</td>\n",
       "      <td>0.00000</td>\n",
       "      <td>0.0</td>\n",
       "      <td>0.0</td>\n",
       "      <td>0.0</td>\n",
       "      <td>0.0</td>\n",
       "    </tr>\n",
       "    <tr>\n",
       "      <th>154</th>\n",
       "      <td>0.0</td>\n",
       "      <td>0.0</td>\n",
       "      <td>0.000000</td>\n",
       "      <td>0.0</td>\n",
       "      <td>0.0</td>\n",
       "      <td>0.0</td>\n",
       "      <td>0.0</td>\n",
       "      <td>0.0</td>\n",
       "      <td>0.0</td>\n",
       "      <td>0.0</td>\n",
       "      <td>...</td>\n",
       "      <td>0.0</td>\n",
       "      <td>0.0</td>\n",
       "      <td>0.0</td>\n",
       "      <td>0.0</td>\n",
       "      <td>0.000000</td>\n",
       "      <td>0.00000</td>\n",
       "      <td>0.0</td>\n",
       "      <td>0.0</td>\n",
       "      <td>0.0</td>\n",
       "      <td>0.0</td>\n",
       "    </tr>\n",
       "  </tbody>\n",
       "</table>\n",
       "<p>155 rows × 1165 columns</p>\n",
       "</div>\n",
       "      <button class=\"colab-df-convert\" onclick=\"convertToInteractive('df-33c28c7f-d59a-423a-89e7-ba605d885ce2')\"\n",
       "              title=\"Convert this dataframe to an interactive table.\"\n",
       "              style=\"display:none;\">\n",
       "        \n",
       "  <svg xmlns=\"http://www.w3.org/2000/svg\" height=\"24px\"viewBox=\"0 0 24 24\"\n",
       "       width=\"24px\">\n",
       "    <path d=\"M0 0h24v24H0V0z\" fill=\"none\"/>\n",
       "    <path d=\"M18.56 5.44l.94 2.06.94-2.06 2.06-.94-2.06-.94-.94-2.06-.94 2.06-2.06.94zm-11 1L8.5 8.5l.94-2.06 2.06-.94-2.06-.94L8.5 2.5l-.94 2.06-2.06.94zm10 10l.94 2.06.94-2.06 2.06-.94-2.06-.94-.94-2.06-.94 2.06-2.06.94z\"/><path d=\"M17.41 7.96l-1.37-1.37c-.4-.4-.92-.59-1.43-.59-.52 0-1.04.2-1.43.59L10.3 9.45l-7.72 7.72c-.78.78-.78 2.05 0 2.83L4 21.41c.39.39.9.59 1.41.59.51 0 1.02-.2 1.41-.59l7.78-7.78 2.81-2.81c.8-.78.8-2.07 0-2.86zM5.41 20L4 18.59l7.72-7.72 1.47 1.35L5.41 20z\"/>\n",
       "  </svg>\n",
       "      </button>\n",
       "      \n",
       "  <style>\n",
       "    .colab-df-container {\n",
       "      display:flex;\n",
       "      flex-wrap:wrap;\n",
       "      gap: 12px;\n",
       "    }\n",
       "\n",
       "    .colab-df-convert {\n",
       "      background-color: #E8F0FE;\n",
       "      border: none;\n",
       "      border-radius: 50%;\n",
       "      cursor: pointer;\n",
       "      display: none;\n",
       "      fill: #1967D2;\n",
       "      height: 32px;\n",
       "      padding: 0 0 0 0;\n",
       "      width: 32px;\n",
       "    }\n",
       "\n",
       "    .colab-df-convert:hover {\n",
       "      background-color: #E2EBFA;\n",
       "      box-shadow: 0px 1px 2px rgba(60, 64, 67, 0.3), 0px 1px 3px 1px rgba(60, 64, 67, 0.15);\n",
       "      fill: #174EA6;\n",
       "    }\n",
       "\n",
       "    [theme=dark] .colab-df-convert {\n",
       "      background-color: #3B4455;\n",
       "      fill: #D2E3FC;\n",
       "    }\n",
       "\n",
       "    [theme=dark] .colab-df-convert:hover {\n",
       "      background-color: #434B5C;\n",
       "      box-shadow: 0px 1px 3px 1px rgba(0, 0, 0, 0.15);\n",
       "      filter: drop-shadow(0px 1px 2px rgba(0, 0, 0, 0.3));\n",
       "      fill: #FFFFFF;\n",
       "    }\n",
       "  </style>\n",
       "\n",
       "      <script>\n",
       "        const buttonEl =\n",
       "          document.querySelector('#df-33c28c7f-d59a-423a-89e7-ba605d885ce2 button.colab-df-convert');\n",
       "        buttonEl.style.display =\n",
       "          google.colab.kernel.accessAllowed ? 'block' : 'none';\n",
       "\n",
       "        async function convertToInteractive(key) {\n",
       "          const element = document.querySelector('#df-33c28c7f-d59a-423a-89e7-ba605d885ce2');\n",
       "          const dataTable =\n",
       "            await google.colab.kernel.invokeFunction('convertToInteractive',\n",
       "                                                     [key], {});\n",
       "          if (!dataTable) return;\n",
       "\n",
       "          const docLinkHtml = 'Like what you see? Visit the ' +\n",
       "            '<a target=\"_blank\" href=https://colab.research.google.com/notebooks/data_table.ipynb>data table notebook</a>'\n",
       "            + ' to learn more about interactive tables.';\n",
       "          element.innerHTML = '';\n",
       "          dataTable['output_type'] = 'display_data';\n",
       "          await google.colab.output.renderOutput(dataTable, element);\n",
       "          const docLink = document.createElement('div');\n",
       "          docLink.innerHTML = docLinkHtml;\n",
       "          element.appendChild(docLink);\n",
       "        }\n",
       "      </script>\n",
       "    </div>\n",
       "  </div>\n",
       "  "
      ],
      "text/plain": [
       "     able use  absolutely love  accommodate  accommodating highly  \\\n",
       "0         0.0              0.0     0.000000                   0.0   \n",
       "1         0.0              0.0     0.000000                   0.0   \n",
       "2         0.0              0.0     0.000000                   0.0   \n",
       "3         0.0              0.0     0.215676                   0.0   \n",
       "4         0.0              0.0     0.000000                   0.0   \n",
       "..        ...              ...          ...                   ...   \n",
       "150       0.0              0.0     0.000000                   0.0   \n",
       "151       0.0              0.0     0.000000                   0.0   \n",
       "152       0.0              0.0     0.000000                   0.0   \n",
       "153       0.0              0.0     0.000000                   0.0   \n",
       "154       0.0              0.0     0.000000                   0.0   \n",
       "\n",
       "     across street  activities  addition  address  adequate  adjoining  ...  \\\n",
       "0              0.0         0.0       0.0      0.0       0.0        0.0  ...   \n",
       "1              0.0         0.0       0.0      0.0       0.0        0.0  ...   \n",
       "2              0.0         0.0       0.0      0.0       0.0        0.0  ...   \n",
       "3              0.0         0.0       0.0      0.0       0.0        0.0  ...   \n",
       "4              0.0         0.0       0.0      0.0       0.0        0.0  ...   \n",
       "..             ...         ...       ...      ...       ...        ...  ...   \n",
       "150            0.0         0.0       0.0      0.0       0.0        0.0  ...   \n",
       "151            0.0         0.0       0.0      0.0       0.0        0.0  ...   \n",
       "152            0.0         0.0       0.0      0.0       0.0        0.0  ...   \n",
       "153            0.0         0.0       0.0      0.0       0.0        0.0  ...   \n",
       "154            0.0         0.0       0.0      0.0       0.0        0.0  ...   \n",
       "\n",
       "     wow  wow really  yard  yard house  year old  year trip  yet  yogurts  \\\n",
       "0    0.0         0.0   0.0         0.0  0.000000    0.00000  0.0      0.0   \n",
       "1    0.0         0.0   0.0         0.0  0.000000    0.00000  0.0      0.0   \n",
       "2    0.0         0.0   0.0         0.0  0.000000    0.00000  0.0      0.0   \n",
       "3    0.0         0.0   0.0         0.0  0.000000    0.22898  0.0      0.0   \n",
       "4    0.0         0.0   0.0         0.0  0.000000    0.00000  0.0      0.0   \n",
       "..   ...         ...   ...         ...       ...        ...  ...      ...   \n",
       "150  0.0         0.0   0.0         0.0  0.000000    0.00000  0.0      0.0   \n",
       "151  0.0         0.0   0.0         0.0  0.185566    0.00000  0.0      0.0   \n",
       "152  0.0         0.0   0.0         0.0  0.000000    0.00000  0.0      0.0   \n",
       "153  0.0         0.0   0.0         0.0  0.000000    0.00000  0.0      0.0   \n",
       "154  0.0         0.0   0.0         0.0  0.000000    0.00000  0.0      0.0   \n",
       "\n",
       "     young  younger  \n",
       "0      0.0      0.0  \n",
       "1      0.0      0.0  \n",
       "2      0.0      0.0  \n",
       "3      0.0      0.0  \n",
       "4      0.0      0.0  \n",
       "..     ...      ...  \n",
       "150    0.0      0.0  \n",
       "151    0.0      0.0  \n",
       "152    0.0      0.0  \n",
       "153    0.0      0.0  \n",
       "154    0.0      0.0  \n",
       "\n",
       "[155 rows x 1165 columns]"
      ]
     },
     "execution_count": 222,
     "metadata": {},
     "output_type": "execute_result"
    }
   ],
   "source": [
    "tfidf_df"
   ]
  },
  {
   "cell_type": "code",
   "execution_count": null,
   "id": "CsKGdmTlaWGm",
   "metadata": {
    "id": "CsKGdmTlaWGm"
   },
   "outputs": [],
   "source": [
    "tfidf_final = tfidf_df.set_index(Positive_Reviews['Customer Review'])"
   ]
  },
  {
   "cell_type": "code",
   "execution_count": null,
   "id": "t0TYgjM6nkn6",
   "metadata": {
    "id": "t0TYgjM6nkn6"
   },
   "outputs": [],
   "source": [
    "from sklearn.cluster import KMeans\n",
    "import seaborn as sns\n",
    "from scipy.spatial.distance import cdist\n",
    "k = np.arange(2,10)\n",
    "distortion = []\n",
    "for i in k:\n",
    "    model = KMeans(n_clusters = i)\n",
    "    model.fit(tfidf_final)\n",
    "    pred = model.predict(tfidf_final)\n",
    "    distortion.append(sum(np.min(cdist(tfidf_final,model.cluster_centers_,'euclidean'),axis = 1))/tfidf_final.shape[0])"
   ]
  },
  {
   "cell_type": "code",
   "execution_count": null,
   "id": "2K6cyr4aob2t",
   "metadata": {
    "colab": {
     "base_uri": "https://localhost:8080/",
     "height": 284
    },
    "id": "2K6cyr4aob2t",
    "outputId": "09c784ec-8bf6-469a-97be-1a718ca47dd7"
   },
   "outputs": [
    {
     "data": {
      "text/plain": [
       "[<matplotlib.lines.Line2D at 0x7f00e7d00810>]"
      ]
     },
     "execution_count": 225,
     "metadata": {},
     "output_type": "execute_result"
    },
    {
     "data": {
      "image/png": "[encoded data removed]",
      "text/plain": [
       "<Figure size 432x288 with 1 Axes>"
      ]
     },
     "metadata": {
      "needs_background": "light"
     },
     "output_type": "display_data"
    }
   ],
   "source": [
    "plt.plot(k,distortion,marker ='*')"
   ]
  },
  {
   "cell_type": "code",
   "execution_count": null,
   "id": "YzrPdxZZog-A",
   "metadata": {
    "colab": {
     "base_uri": "https://localhost:8080/"
    },
    "id": "YzrPdxZZog-A",
    "outputId": "1334afbd-ae86-43f2-c779-1aa760215498"
   },
   "outputs": [
    {
     "name": "stderr",
     "output_type": "stream",
     "text": [
      "/usr/local/lib/python3.7/dist-packages/ipykernel_launcher.py:4: SettingWithCopyWarning: \n",
      "A value is trying to be set on a copy of a slice from a DataFrame.\n",
      "Try using .loc[row_indexer,col_indexer] = value instead\n",
      "\n",
      "See the caveats in the documentation: https://pandas.pydata.org/pandas-docs/stable/user_guide/indexing.html#returning-a-view-versus-a-copy\n",
      "  after removing the cwd from sys.path.\n"
     ]
    }
   ],
   "source": [
    "model = KMeans(n_clusters = 3)\n",
    "model.fit(tfidf_final)\n",
    "pred = model.predict(tfidf_final)\n",
    "Positive_Reviews['Cluster'] = pred"
   ]
  },
  {
   "cell_type": "code",
   "execution_count": null,
   "id": "NCTN1xmEpN_o",
   "metadata": {
    "colab": {
     "base_uri": "https://localhost:8080/"
    },
    "id": "NCTN1xmEpN_o",
    "outputId": "46d04ec0-2308-4b09-9a08-082b9b6386da"
   },
   "outputs": [
    {
     "data": {
      "text/plain": [
       "0    89\n",
       "1    36\n",
       "2    30\n",
       "Name: Cluster, dtype: int64"
      ]
     },
     "execution_count": 227,
     "metadata": {},
     "output_type": "execute_result"
    }
   ],
   "source": [
    "Positive_Reviews.Cluster.value_counts()"
   ]
  },
  {
   "cell_type": "code",
   "execution_count": null,
   "id": "93tsX7_KuSOM",
   "metadata": {
    "colab": {
     "base_uri": "https://localhost:8080/"
    },
    "id": "93tsX7_KuSOM",
    "outputId": "b305301f-6324-4c4c-d4ee-ed16163dd820"
   },
   "outputs": [
    {
     "name": "stderr",
     "output_type": "stream",
     "text": [
      "/usr/local/lib/python3.7/dist-packages/sklearn/utils/deprecation.py:87: FutureWarning: Function get_feature_names is deprecated; get_feature_names is deprecated in 1.0 and will be removed in 1.2. Please use get_feature_names_out instead.\n",
      "  warnings.warn(msg, category=FutureWarning)\n",
      "/usr/local/lib/python3.7/dist-packages/sklearn/utils/deprecation.py:87: FutureWarning: Function get_feature_names is deprecated; get_feature_names is deprecated in 1.0 and will be removed in 1.2. Please use get_feature_names_out instead.\n",
      "  warnings.warn(msg, category=FutureWarning)\n"
     ]
    }
   ],
   "source": [
    "# add tf-idfs columns\n",
    "from sklearn.feature_extraction.text import TfidfVectorizer\n",
    "tfidf = TfidfVectorizer(ngram_range=(1,1),min_df= 6)\n",
    "tfidf.fit_transform(Positive_Reviews['review_clean'])\n",
    "most_common_1 = tfidf.get_feature_names()\n",
    "\n",
    "tfidf = TfidfVectorizer(ngram_range=(2,2),min_df= 6)\n",
    "tfidf.fit_transform(Positive_Reviews['review_clean'])\n",
    "most_common_2 = tfidf.get_feature_names()\n",
    "# tfidf_df.columns = [\"word_\" + str(x) for x in tfidf_df.columns]"
   ]
  },
  {
   "cell_type": "code",
   "execution_count": null,
   "id": "qozKvc4euzSi",
   "metadata": {
    "colab": {
     "base_uri": "https://localhost:8080/"
    },
    "id": "qozKvc4euzSi",
    "outputId": "bf43eb5f-3fb1-4076-e2ee-bfa7bcae7bd5"
   },
   "outputs": [
    {
     "name": "stderr",
     "output_type": "stream",
     "text": [
      "/usr/local/lib/python3.7/dist-packages/ipykernel_launcher.py:8: SettingWithCopyWarning: \n",
      "A value is trying to be set on a copy of a slice from a DataFrame.\n",
      "Try using .loc[row_indexer,col_indexer] = value instead\n",
      "\n",
      "See the caveats in the documentation: https://pandas.pydata.org/pandas-docs/stable/user_guide/indexing.html#returning-a-view-versus-a-copy\n",
      "  \n"
     ]
    }
   ],
   "source": [
    "def remove_common(text):\n",
    "    for i in most_common_2:\n",
    "        text = text.replace(i,'')\n",
    "    text = \" \".join([w for w in text.split() if w not in most_common_1])\n",
    "    return(text)\n",
    "\n",
    "# clean text data\n",
    "Positive_Reviews[\"Final_Text\"] = Positive_Reviews[\"review_clean\"].apply(lambda x: remove_common(x))"
   ]
  },
  {
   "cell_type": "code",
   "execution_count": null,
   "id": "BMRiNwrhkFR1",
   "metadata": {
    "id": "BMRiNwrhkFR1"
   },
   "outputs": [],
   "source": [
    "Negative_Reviews = pd.read_csv('Neg_Reviews.csv')"
   ]
  },
  {
   "cell_type": "code",
   "execution_count": null,
   "id": "cEnsbzdSxFX3",
   "metadata": {
    "id": "cEnsbzdSxFX3"
   },
   "outputs": [],
   "source": [
    "Positive_Reviews.to_csv('Pos_Reviews.csv')\n",
    "Negative_Reviews.to_csv('Neg_Reviews.csv')\n",
    "Neutral_Reviews.to_csv('Neutral_Reviews.csv')"
   ]
  },
  {
   "cell_type": "code",
   "execution_count": null,
   "id": "LuJrtnHQ-TU4",
   "metadata": {
    "colab": {
     "base_uri": "https://localhost:8080/",
     "height": 659
    },
    "id": "LuJrtnHQ-TU4",
    "outputId": "9a1598be-1589-4534-a6ad-0f9a8f155cf5"
   },
   "outputs": [
    {
     "data": {
      "text/html": [
       "\n",
       "  <div id=\"df-175a44f8-6d7d-4e27-89c4-86f22c15a509\">\n",
       "    <div class=\"colab-df-container\">\n",
       "      <div>\n",
       "<style scoped>\n",
       "    .dataframe tbody tr th:only-of-type {\n",
       "        vertical-align: middle;\n",
       "    }\n",
       "\n",
       "    .dataframe tbody tr th {\n",
       "        vertical-align: top;\n",
       "    }\n",
       "\n",
       "    .dataframe thead th {\n",
       "        text-align: right;\n",
       "    }\n",
       "</style>\n",
       "<table border=\"1\" class=\"dataframe\">\n",
       "  <thead>\n",
       "    <tr style=\"text-align: right;\">\n",
       "      <th></th>\n",
       "      <th>Unnamed: 0</th>\n",
       "      <th>Customer Review</th>\n",
       "      <th>text</th>\n",
       "      <th>Language</th>\n",
       "      <th>review_clean</th>\n",
       "      <th>Label</th>\n",
       "      <th>Cluster</th>\n",
       "      <th>Final_Text</th>\n",
       "    </tr>\n",
       "  </thead>\n",
       "  <tbody>\n",
       "    <tr>\n",
       "      <th>0</th>\n",
       "      <td>0</td>\n",
       "      <td>Review 1</td>\n",
       "      <td>travel alot and really enjoyed my stay here th...</td>\n",
       "      <td>en</td>\n",
       "      <td>travel alot really enjoyed stay hotel clean st...</td>\n",
       "      <td>Positive</td>\n",
       "      <td>0</td>\n",
       "      <td>travel alot campus soon</td>\n",
       "    </tr>\n",
       "    <tr>\n",
       "      <th>1</th>\n",
       "      <td>1</td>\n",
       "      <td>Review 2</td>\n",
       "      <td>stayed one night for seminar at the university...</td>\n",
       "      <td>en</td>\n",
       "      <td>stayed one night seminar university clean comf...</td>\n",
       "      <td>Positive</td>\n",
       "      <td>2</td>\n",
       "      <td>seminar university squeaky temp cool full air ...</td>\n",
       "    </tr>\n",
       "    <tr>\n",
       "      <th>2</th>\n",
       "      <td>2</td>\n",
       "      <td>Review 3</td>\n",
       "      <td>stayed at the the bw downtown on two separate ...</td>\n",
       "      <td>en</td>\n",
       "      <td>stayed bw downtown two separate business trips...</td>\n",
       "      <td>Positive</td>\n",
       "      <td>2</td>\n",
       "      <td>bw separate trips office although availble cha...</td>\n",
       "    </tr>\n",
       "    <tr>\n",
       "      <th>3</th>\n",
       "      <td>3</td>\n",
       "      <td>Review 4</td>\n",
       "      <td>this is my first year to go to with group of q...</td>\n",
       "      <td>en</td>\n",
       "      <td>first year go group quilter southeast kansas i...</td>\n",
       "      <td>Positive</td>\n",
       "      <td>2</td>\n",
       "      <td>group quilter southeast kansas international q...</td>\n",
       "    </tr>\n",
       "    <tr>\n",
       "      <th>4</th>\n",
       "      <td>4</td>\n",
       "      <td>Review 5</td>\n",
       "      <td>travel with several friends we re from small t...</td>\n",
       "      <td>en</td>\n",
       "      <td>travel several friends small town girl weekend...</td>\n",
       "      <td>Positive</td>\n",
       "      <td>2</td>\n",
       "      <td>travel friends girl international quilt festiv...</td>\n",
       "    </tr>\n",
       "    <tr>\n",
       "      <th>...</th>\n",
       "      <td>...</td>\n",
       "      <td>...</td>\n",
       "      <td>...</td>\n",
       "      <td>...</td>\n",
       "      <td>...</td>\n",
       "      <td>...</td>\n",
       "      <td>...</td>\n",
       "      <td>...</td>\n",
       "    </tr>\n",
       "    <tr>\n",
       "      <th>194</th>\n",
       "      <td>194</td>\n",
       "      <td>Review 195</td>\n",
       "      <td>the hotel was super clean nice modern retro de...</td>\n",
       "      <td>en</td>\n",
       "      <td>hotel super clean nice modern retro design sta...</td>\n",
       "      <td>Positive</td>\n",
       "      <td>0</td>\n",
       "      <td>retro design jr pretty roomy pretty pricey del...</td>\n",
       "    </tr>\n",
       "    <tr>\n",
       "      <th>195</th>\n",
       "      <td>195</td>\n",
       "      <td>Review 196</td>\n",
       "      <td>we try to use any excuse to celebrate weekend ...</td>\n",
       "      <td>en</td>\n",
       "      <td>try use excuse celebrate weekend hotel fact mi...</td>\n",
       "      <td>Positive</td>\n",
       "      <td>0</td>\n",
       "      <td>try excuse celebrate fact miles lavish fact fe...</td>\n",
       "    </tr>\n",
       "    <tr>\n",
       "      <th>196</th>\n",
       "      <td>196</td>\n",
       "      <td>Review 197</td>\n",
       "      <td>the sorella is nice contemporary hotel quiet f...</td>\n",
       "      <td>en</td>\n",
       "      <td>nice contemporary hotel quiet hotel traveler a...</td>\n",
       "      <td>Positive</td>\n",
       "      <td>0</td>\n",
       "      <td>contemporary traveler developing nicely traveler</td>\n",
       "    </tr>\n",
       "    <tr>\n",
       "      <th>197</th>\n",
       "      <td>197</td>\n",
       "      <td>Review 198</td>\n",
       "      <td>this is always one of my favorites in houston ...</td>\n",
       "      <td>en</td>\n",
       "      <td>always one favorites based price performance h...</td>\n",
       "      <td>Positive</td>\n",
       "      <td>0</td>\n",
       "      <td>favorites based performance house usual garden...</td>\n",
       "    </tr>\n",
       "    <tr>\n",
       "      <th>198</th>\n",
       "      <td>198</td>\n",
       "      <td>Review 199</td>\n",
       "      <td>schzen rooms and are very well furnished what ...</td>\n",
       "      <td>en</td>\n",
       "      <td>schzen rooms well furnished awarded hotel offe...</td>\n",
       "      <td>Positive</td>\n",
       "      <td>0</td>\n",
       "      <td>schzen furnished awarded extras stops relative...</td>\n",
       "    </tr>\n",
       "  </tbody>\n",
       "</table>\n",
       "<p>155 rows × 8 columns</p>\n",
       "</div>\n",
       "      <button class=\"colab-df-convert\" onclick=\"convertToInteractive('df-175a44f8-6d7d-4e27-89c4-86f22c15a509')\"\n",
       "              title=\"Convert this dataframe to an interactive table.\"\n",
       "              style=\"display:none;\">\n",
       "        \n",
       "  <svg xmlns=\"http://www.w3.org/2000/svg\" height=\"24px\"viewBox=\"0 0 24 24\"\n",
       "       width=\"24px\">\n",
       "    <path d=\"M0 0h24v24H0V0z\" fill=\"none\"/>\n",
       "    <path d=\"M18.56 5.44l.94 2.06.94-2.06 2.06-.94-2.06-.94-.94-2.06-.94 2.06-2.06.94zm-11 1L8.5 8.5l.94-2.06 2.06-.94-2.06-.94L8.5 2.5l-.94 2.06-2.06.94zm10 10l.94 2.06.94-2.06 2.06-.94-2.06-.94-.94-2.06-.94 2.06-2.06.94z\"/><path d=\"M17.41 7.96l-1.37-1.37c-.4-.4-.92-.59-1.43-.59-.52 0-1.04.2-1.43.59L10.3 9.45l-7.72 7.72c-.78.78-.78 2.05 0 2.83L4 21.41c.39.39.9.59 1.41.59.51 0 1.02-.2 1.41-.59l7.78-7.78 2.81-2.81c.8-.78.8-2.07 0-2.86zM5.41 20L4 18.59l7.72-7.72 1.47 1.35L5.41 20z\"/>\n",
       "  </svg>\n",
       "      </button>\n",
       "      \n",
       "  <style>\n",
       "    .colab-df-container {\n",
       "      display:flex;\n",
       "      flex-wrap:wrap;\n",
       "      gap: 12px;\n",
       "    }\n",
       "\n",
       "    .colab-df-convert {\n",
       "      background-color: #E8F0FE;\n",
       "      border: none;\n",
       "      border-radius: 50%;\n",
       "      cursor: pointer;\n",
       "      display: none;\n",
       "      fill: #1967D2;\n",
       "      height: 32px;\n",
       "      padding: 0 0 0 0;\n",
       "      width: 32px;\n",
       "    }\n",
       "\n",
       "    .colab-df-convert:hover {\n",
       "      background-color: #E2EBFA;\n",
       "      box-shadow: 0px 1px 2px rgba(60, 64, 67, 0.3), 0px 1px 3px 1px rgba(60, 64, 67, 0.15);\n",
       "      fill: #174EA6;\n",
       "    }\n",
       "\n",
       "    [theme=dark] .colab-df-convert {\n",
       "      background-color: #3B4455;\n",
       "      fill: #D2E3FC;\n",
       "    }\n",
       "\n",
       "    [theme=dark] .colab-df-convert:hover {\n",
       "      background-color: #434B5C;\n",
       "      box-shadow: 0px 1px 3px 1px rgba(0, 0, 0, 0.15);\n",
       "      filter: drop-shadow(0px 1px 2px rgba(0, 0, 0, 0.3));\n",
       "      fill: #FFFFFF;\n",
       "    }\n",
       "  </style>\n",
       "\n",
       "      <script>\n",
       "        const buttonEl =\n",
       "          document.querySelector('#df-175a44f8-6d7d-4e27-89c4-86f22c15a509 button.colab-df-convert');\n",
       "        buttonEl.style.display =\n",
       "          google.colab.kernel.accessAllowed ? 'block' : 'none';\n",
       "\n",
       "        async function convertToInteractive(key) {\n",
       "          const element = document.querySelector('#df-175a44f8-6d7d-4e27-89c4-86f22c15a509');\n",
       "          const dataTable =\n",
       "            await google.colab.kernel.invokeFunction('convertToInteractive',\n",
       "                                                     [key], {});\n",
       "          if (!dataTable) return;\n",
       "\n",
       "          const docLinkHtml = 'Like what you see? Visit the ' +\n",
       "            '<a target=\"_blank\" href=https://colab.research.google.com/notebooks/data_table.ipynb>data table notebook</a>'\n",
       "            + ' to learn more about interactive tables.';\n",
       "          element.innerHTML = '';\n",
       "          dataTable['output_type'] = 'display_data';\n",
       "          await google.colab.output.renderOutput(dataTable, element);\n",
       "          const docLink = document.createElement('div');\n",
       "          docLink.innerHTML = docLinkHtml;\n",
       "          element.appendChild(docLink);\n",
       "        }\n",
       "      </script>\n",
       "    </div>\n",
       "  </div>\n",
       "  "
      ],
      "text/plain": [
       "     Unnamed: 0 Customer Review  \\\n",
       "0             0        Review 1   \n",
       "1             1        Review 2   \n",
       "2             2        Review 3   \n",
       "3             3        Review 4   \n",
       "4             4        Review 5   \n",
       "..          ...             ...   \n",
       "194         194      Review 195   \n",
       "195         195      Review 196   \n",
       "196         196      Review 197   \n",
       "197         197      Review 198   \n",
       "198         198      Review 199   \n",
       "\n",
       "                                                  text Language  \\\n",
       "0    travel alot and really enjoyed my stay here th...       en   \n",
       "1    stayed one night for seminar at the university...       en   \n",
       "2    stayed at the the bw downtown on two separate ...       en   \n",
       "3    this is my first year to go to with group of q...       en   \n",
       "4    travel with several friends we re from small t...       en   \n",
       "..                                                 ...      ...   \n",
       "194  the hotel was super clean nice modern retro de...       en   \n",
       "195  we try to use any excuse to celebrate weekend ...       en   \n",
       "196  the sorella is nice contemporary hotel quiet f...       en   \n",
       "197  this is always one of my favorites in houston ...       en   \n",
       "198  schzen rooms and are very well furnished what ...       en   \n",
       "\n",
       "                                          review_clean     Label  Cluster  \\\n",
       "0    travel alot really enjoyed stay hotel clean st...  Positive        0   \n",
       "1    stayed one night seminar university clean comf...  Positive        2   \n",
       "2    stayed bw downtown two separate business trips...  Positive        2   \n",
       "3    first year go group quilter southeast kansas i...  Positive        2   \n",
       "4    travel several friends small town girl weekend...  Positive        2   \n",
       "..                                                 ...       ...      ...   \n",
       "194  hotel super clean nice modern retro design sta...  Positive        0   \n",
       "195  try use excuse celebrate weekend hotel fact mi...  Positive        0   \n",
       "196  nice contemporary hotel quiet hotel traveler a...  Positive        0   \n",
       "197  always one favorites based price performance h...  Positive        0   \n",
       "198  schzen rooms well furnished awarded hotel offe...  Positive        0   \n",
       "\n",
       "                                            Final_Text  \n",
       "0                              travel alot campus soon  \n",
       "1    seminar university squeaky temp cool full air ...  \n",
       "2    bw separate trips office although availble cha...  \n",
       "3    group quilter southeast kansas international q...  \n",
       "4    travel friends girl international quilt festiv...  \n",
       "..                                                 ...  \n",
       "194  retro design jr pretty roomy pretty pricey del...  \n",
       "195  try excuse celebrate fact miles lavish fact fe...  \n",
       "196   contemporary traveler developing nicely traveler  \n",
       "197  favorites based performance house usual garden...  \n",
       "198  schzen furnished awarded extras stops relative...  \n",
       "\n",
       "[155 rows x 8 columns]"
      ]
     },
     "execution_count": 253,
     "metadata": {},
     "output_type": "execute_result"
    }
   ],
   "source": [
    "Positive_Reviews"
   ]
  },
  {
   "cell_type": "markdown",
   "id": "rhi1yLquE-O1",
   "metadata": {
    "id": "rhi1yLquE-O1"
   },
   "source": [
    "# LDA"
   ]
  },
  {
   "cell_type": "code",
   "execution_count": null,
   "id": "rvAYExQmSelU",
   "metadata": {
    "colab": {
     "base_uri": "https://localhost:8080/"
    },
    "id": "rvAYExQmSelU",
    "outputId": "f7ebecc3-9b29-46fe-dba9-25c59e6620dd"
   },
   "outputs": [
    {
     "name": "stdout",
     "output_type": "stream",
     "text": [
      "Collecting pyLDAvis\n",
      "  Downloading pyLDAvis-3.3.1.tar.gz (1.7 MB)\n",
      "\u001b[K     |████████████████████████████████| 1.7 MB 5.2 MB/s \n",
      "\u001b[?25h  Installing build dependencies ... \u001b[?25l\u001b[?25hdone\n",
      "  Getting requirements to build wheel ... \u001b[?25l\u001b[?25hdone\n",
      "  Installing backend dependencies ... \u001b[?25l\u001b[?25hdone\n",
      "    Preparing wheel metadata ... \u001b[?25l\u001b[?25hdone\n",
      "Requirement already satisfied: jinja2 in /usr/local/lib/python3.7/dist-packages (from pyLDAvis) (2.11.3)\n",
      "Requirement already satisfied: numexpr in /usr/local/lib/python3.7/dist-packages (from pyLDAvis) (2.8.1)\n",
      "Requirement already satisfied: scipy in /usr/local/lib/python3.7/dist-packages (from pyLDAvis) (1.4.1)\n",
      "Requirement already satisfied: scikit-learn in /usr/local/lib/python3.7/dist-packages (from pyLDAvis) (1.0.2)\n",
      "Requirement already satisfied: setuptools in /usr/local/lib/python3.7/dist-packages (from pyLDAvis) (57.4.0)\n",
      "Requirement already satisfied: sklearn in /usr/local/lib/python3.7/dist-packages (from pyLDAvis) (0.0)\n",
      "Requirement already satisfied: pandas>=1.2.0 in /usr/local/lib/python3.7/dist-packages (from pyLDAvis) (1.3.5)\n",
      "Collecting funcy\n",
      "  Downloading funcy-1.17-py2.py3-none-any.whl (33 kB)\n",
      "Requirement already satisfied: numpy>=1.20.0 in /usr/local/lib/python3.7/dist-packages (from pyLDAvis) (1.21.5)\n",
      "Requirement already satisfied: gensim in /usr/local/lib/python3.7/dist-packages (from pyLDAvis) (3.6.0)\n",
      "Requirement already satisfied: future in /usr/local/lib/python3.7/dist-packages (from pyLDAvis) (0.16.0)\n",
      "Requirement already satisfied: joblib in /usr/local/lib/python3.7/dist-packages (from pyLDAvis) (1.1.0)\n",
      "Requirement already satisfied: python-dateutil>=2.7.3 in /usr/local/lib/python3.7/dist-packages (from pandas>=1.2.0->pyLDAvis) (2.8.2)\n",
      "Requirement already satisfied: pytz>=2017.3 in /usr/local/lib/python3.7/dist-packages (from pandas>=1.2.0->pyLDAvis) (2018.9)\n",
      "Requirement already satisfied: six>=1.5 in /usr/local/lib/python3.7/dist-packages (from python-dateutil>=2.7.3->pandas>=1.2.0->pyLDAvis) (1.15.0)\n",
      "Requirement already satisfied: smart-open>=1.2.1 in /usr/local/lib/python3.7/dist-packages (from gensim->pyLDAvis) (5.2.1)\n",
      "Requirement already satisfied: MarkupSafe>=0.23 in /usr/local/lib/python3.7/dist-packages (from jinja2->pyLDAvis) (2.0.1)\n",
      "Requirement already satisfied: packaging in /usr/local/lib/python3.7/dist-packages (from numexpr->pyLDAvis) (21.3)\n",
      "Requirement already satisfied: pyparsing!=3.0.5,>=2.0.2 in /usr/local/lib/python3.7/dist-packages (from packaging->numexpr->pyLDAvis) (3.0.7)\n",
      "Requirement already satisfied: threadpoolctl>=2.0.0 in /usr/local/lib/python3.7/dist-packages (from scikit-learn->pyLDAvis) (3.1.0)\n",
      "Building wheels for collected packages: pyLDAvis\n",
      "  Building wheel for pyLDAvis (PEP 517) ... \u001b[?25l\u001b[?25hdone\n",
      "  Created wheel for pyLDAvis: filename=pyLDAvis-3.3.1-py2.py3-none-any.whl size=136898 sha256=2ca6e0a550ec111041cb81f86941dcb8778c2ec8feba7cdf6f96aa502eca16d4\n",
      "  Stored in directory: /root/.cache/pip/wheels/c9/21/f6/17bcf2667e8a68532ba2fbf6d5c72fdf4c7f7d9abfa4852d2f\n",
      "Successfully built pyLDAvis\n",
      "Installing collected packages: funcy, pyLDAvis\n",
      "Successfully installed funcy-1.17 pyLDAvis-3.3.1\n"
     ]
    }
   ],
   "source": [
    "!pip install pyLDAvis"
   ]
  },
  {
   "cell_type": "code",
   "execution_count": null,
   "id": "Pc75EQ_I5SdX",
   "metadata": {
    "colab": {
     "base_uri": "https://localhost:8080/"
    },
    "id": "Pc75EQ_I5SdX",
    "outputId": "850f92ca-6927-420c-d9b9-31d212beb474"
   },
   "outputs": [
    {
     "name": "stderr",
     "output_type": "stream",
     "text": [
      "/usr/local/lib/python3.7/dist-packages/past/types/oldstr.py:5: DeprecationWarning: Using or importing the ABCs from 'collections' instead of from 'collections.abc' is deprecated since Python 3.3,and in 3.9 it will stop working\n",
      "  from collections import Iterable\n",
      "/usr/local/lib/python3.7/dist-packages/past/builtins/misc.py:4: DeprecationWarning: Using or importing the ABCs from 'collections' instead of from 'collections.abc' is deprecated since Python 3.3,and in 3.9 it will stop working\n",
      "  from collections import Mapping\n"
     ]
    }
   ],
   "source": [
    "from sklearn.feature_extraction.text import CountVectorizer, TfidfVectorizer\n",
    "from __future__ import print_function\n",
    "import pyLDAvis\n",
    "import pyLDAvis.sklearn"
   ]
  },
  {
   "cell_type": "code",
   "execution_count": null,
   "id": "clmlnPF492Wt",
   "metadata": {
    "id": "clmlnPF492Wt"
   },
   "outputs": [],
   "source": [
    "from sklearn.decomposition import LatentDirichletAllocation\n",
    "vectorizer = CountVectorizer(\n",
    "analyzer='word',       \n",
    "min_df=2,# minimum required occurences of a word\n",
    "ngram_range = (3,4)                           )\n",
    "data_matrix = vectorizer.fit_transform(Positive_Reviews.review_clean)"
   ]
  },
  {
   "cell_type": "code",
   "execution_count": null,
   "id": "PqZPp8T9_Hpz",
   "metadata": {
    "id": "PqZPp8T9_Hpz"
   },
   "outputs": [],
   "source": [
    "lda_model = LatentDirichletAllocation(\n",
    "n_components=3, # Number of topics\n",
    "learning_method='online',\n",
    "random_state=20,       \n",
    "n_jobs = -1 )\n",
    "                                     \n",
    "lda_output = lda_model.fit_transform(data_matrix)"
   ]
  },
  {
   "cell_type": "code",
   "execution_count": null,
   "id": "FHTL7ppc_LQH",
   "metadata": {
    "colab": {
     "base_uri": "https://localhost:8080/",
     "height": 1000
    },
    "id": "FHTL7ppc_LQH",
    "outputId": "efdf3e32-05f9-4e6c-c2c0-075b4607655a"
   },
   "outputs": [
    {
     "name": "stderr",
     "output_type": "stream",
     "text": [
      "/usr/local/lib/python3.7/dist-packages/sklearn/utils/deprecation.py:87: FutureWarning: Function get_feature_names is deprecated; get_feature_names is deprecated in 1.0 and will be removed in 1.2. Please use get_feature_names_out instead.\n",
      "  warnings.warn(msg, category=FutureWarning)\n",
      "/usr/local/lib/python3.7/dist-packages/pyLDAvis/_prepare.py:247: FutureWarning: In a future version of pandas all arguments of DataFrame.drop except for the argument 'labels' will be keyword-only\n",
      "  by='saliency', ascending=False).head(R).drop('saliency', 1)\n",
      "/usr/local/lib/python3.7/dist-packages/sklearn/manifold/_t_sne.py:783: FutureWarning: The default initialization in TSNE will change from 'random' to 'pca' in 1.2.\n",
      "  FutureWarning,\n",
      "/usr/local/lib/python3.7/dist-packages/sklearn/manifold/_t_sne.py:793: FutureWarning: The default learning rate in TSNE will change from 200.0 to 'auto' in 1.2.\n",
      "  FutureWarning,\n",
      "/usr/local/lib/python3.7/dist-packages/sklearn/manifold/_t_sne.py:827: FutureWarning: 'square_distances' has been introduced in 0.24 to help phase out legacy squaring behavior. The 'legacy' setting will be removed in 1.1 (renaming of 0.26), and the default setting will be changed to True. In 1.3, 'square_distances' will be removed altogether, and distances will be squared by default. Set 'square_distances'=True to silence this warning.\n",
      "  FutureWarning,\n"
     ]
    },
    {
     "data": {
      "text/html": [
       "\n",
       "<link rel=\"stylesheet\" type=\"text/css\" href=\"https://cdn.jsdelivr.net/gh/bmabey/pyLDAvis@3.3.1/pyLDAvis/js/ldavis.v1.0.0.css\">\n",
       "\n",
       "\n",
       "<div id=\"ldavis_el2041396423477946405284648975\"></div>\n",
       "<script type=\"text/javascript\">\n",
       "\n",
       "var ldavis_el2041396423477946405284648975_data = {\"mdsDat\": {\"x\": [-1015.7005615234375, -387.9960021972656, -2184.74560546875], \"y\": [1338.981201171875, -373.316162109375, -60.565799713134766], \"topics\": [1, 2, 3], \"cluster\": [1, 1, 1], \"Freq\": [42.67569393015124, 34.27621595390541, 23.048090115943353]}, \"tinfo\": {\"Term\": [\"within walking distance\", \"staff always helpful\", \"clean comfortable staff\", \"one bedroom suite\", \"staff friendly helpful\", \"free continental breakfast\", \"front desk staff\", \"highly recommend hotel\", \"hilton garden inn\", \"international quilt festival\", \"clean well maintained\", \"hotel well maintained\", \"well maintained clean\", \"hotel well maintained clean\", \"flat screen tv\", \"well equipped fitness\", \"room clean modern\", \"friendly helpful staff\", \"eggs bacon sausage\", \"close great shopping\", \"pool hot tub\", \"made feel welcome\", \"towels old worn\", \"updated rooms great\", \"upper east side\", \"jo sonny john\", \"staff friendly especially\", \"stayed executive suite\", \"free wi fi\", \"clean comfortable room\", \"front desk staff\", \"hilton garden inn\", \"staff friendly helpful\", \"eggs bacon sausage\", \"staff friendly especially\", \"friendly helpful staff\", \"easy walking distance\", \"gloved elevator operators\", \"white gloved elevator operators\", \"way make sure\", \"within easy walking\", \"white gloved elevator\", \"goes way make sure\", \"goes way make\", \"enjoyed stay hotel\", \"next door get\", \"indoor outdoor pool\", \"within easy walking distance\", \"rooms spacious well\", \"every time make\", \"staff friendly helpful rooms\", \"friendly helpful rooms\", \"decided stay westin\", \"would definitely stay\", \"hotel great location\", \"really enjoyed stay\", \"memorial city mall\", \"high speed internet\", \"free breakfast free\", \"stayed best western\", \"within walking distance\", \"highly recommend hotel\", \"free continental breakfast\", \"clean well maintained\", \"hotel well maintained\", \"well maintained clean\", \"hotel well maintained clean\", \"well equipped fitness\", \"flat screen tv\", \"room clean modern\", \"free wi fi\", \"clean comfortable room\", \"stayed one night\", \"hotel clean well maintained\", \"hotel clean well\", \"accommodating highly recommend hotel\", \"trip advisor reviews\", \"rooms spacious clean\", \"accommodating highly recommend\", \"feel right home\", \"staff friendly accommodating\", \"free breakfast free\", \"room clean comfortable\", \"high speed internet\", \"memorial city mall\", \"really enjoyed stay\", \"right across street\", \"would definitely stay\", \"decided stay westin\", \"friendly helpful rooms\", \"white gloved elevator\", \"white gloved elevator operators\", \"staff friendly helpful\", \"front desk staff\", \"staff always helpful\", \"one bedroom suite\", \"clean comfortable staff\", \"international quilt festival\", \"close great shopping\", \"pool hot tub\", \"made feel welcome\", \"updated rooms great\", \"towels old worn\", \"upper east side\", \"jo sonny john\", \"stayed executive suite\", \"right across street\", \"stay drury inn\", \"staff friendly really\", \"stayed best western\", \"hotel great location\", \"room clean comfortable\", \"rooms spacious clean\", \"feel right home\", \"accommodating highly recommend\", \"accommodating highly recommend hotel\", \"trip advisor reviews\", \"hotel clean well\", \"hotel clean well maintained\", \"memorial city mall\", \"high speed internet\", \"staff friendly accommodating\", \"really enjoyed stay\", \"free breakfast free\", \"next door get\", \"every time make\", \"friendly helpful staff\", \"goes way make sure\", \"stayed one night\", \"white gloved elevator\", \"rooms spacious well\", \"room clean modern\", \"front desk staff\", \"free wi fi\", \"free continental breakfast\", \"clean well maintained\", \"staff friendly helpful\", \"staff friendly especially\", \"well equipped fitness\", \"flat screen tv\"], \"Freq\": [5.0, 3.0, 3.0, 3.0, 7.0, 4.0, 6.0, 3.0, 4.0, 2.0, 3.0, 3.0, 3.0, 3.0, 3.0, 3.0, 3.0, 4.0, 3.0, 1.0, 1.0, 1.0, 1.0, 1.0, 1.0, 1.0, 3.0, 1.0, 1.0, 1.0, 5.3634980551726334, 4.169664922745248, 6.240878567965071, 3.2482677046644963, 3.220867683953055, 3.5576064197397876, 1.7396727318726202, 1.6180418329745663, 1.605611755863977, 1.2692262154874914, 1.264598501116107, 1.5863769840141841, 1.2728389810647391, 1.2733871341881984, 1.2652289902058718, 1.2685559365629546, 1.2591309737850562, 1.2698808575100449, 1.2658023907893858, 1.2447523055059266, 1.1941690560640763, 1.183946419002908, 1.172958636596414, 1.2955625586166013, 1.2719947332801855, 0.8635234300075502, 0.80677945138535, 0.7932585867825388, 0.7946084209537536, 0.7899876104536945, 5.058522070099752, 3.2014532524556154, 3.8130279885157945, 2.8306707491938594, 2.483977710106472, 2.484710939262232, 2.486100194795281, 2.4701197376140542, 2.4788051585279987, 2.458618198589363, 1.3370636812983492, 1.326970926554067, 1.3211104499224409, 0.974371785079243, 0.977708585218714, 0.9675522578661689, 0.9637278709796825, 0.9657787244470287, 0.9696521311750975, 0.9553123905504473, 0.6881520580774227, 0.6262439312679161, 0.6188224883855118, 0.6119388898862482, 0.6079230962984699, 0.5554384335064773, 0.5097030128701558, 0.5878833739109732, 0.32525735278530604, 0.31658533008433043, 0.36874045919044884, 0.36416102610690687, 0.5462316304967288, 0.39530768440697844, 2.936300098667077, 2.371898703543422, 2.62336516732345, 1.5541358239593812, 1.1519765568981999, 1.1502369986681318, 1.154351919653718, 1.14183321157287, 1.148829703402844, 1.1358171662804972, 1.13846143760507, 1.1241415528381848, 0.7273050142196339, 0.741870390495529, 0.7338604096089755, 0.7237436311855474, 0.7276691574634081, 0.3384562850280282, 0.30941304983349566, 0.30658404990703236, 0.30741480525163284, 0.3021639770336026, 0.30060063862422287, 0.3006244641614494, 0.29552693861148327, 0.32067675137365126, 0.30300426493044763, 0.2996693914332742, 0.29566690874185236, 0.29467426364870203, 0.3084071613982829, 0.30720653137239246, 0.4485811611465288, 0.3067659138201812, 0.3117830839611809, 0.3157547109226529, 0.3058293465022098, 0.3276167997995355, 0.34701278339444774, 0.30874234186720256, 0.3243965290833342, 0.31758279321609406, 0.32475017874062484, 0.3130418668692131, 0.31162482017233506, 0.31139542497953654], \"Total\": [5.0, 3.0, 3.0, 3.0, 7.0, 4.0, 6.0, 3.0, 4.0, 2.0, 3.0, 3.0, 3.0, 3.0, 3.0, 3.0, 3.0, 4.0, 3.0, 1.0, 1.0, 1.0, 1.0, 1.0, 1.0, 1.0, 3.0, 1.0, 1.0, 1.0, 6.105818522974059, 4.74688933547623, 7.111860377202425, 3.798647529265189, 3.794280921852624, 4.262265641978227, 2.292476869599058, 2.2614791075593113, 2.2668784502015735, 1.8148238513941246, 1.809780236852732, 2.270872154127286, 1.828323087585299, 1.8323894600660617, 1.8222845600733997, 1.8284578251987276, 1.8151089140480914, 1.831581112405811, 1.827463040823808, 1.824383260213883, 1.8093135051876152, 1.797860283784376, 1.7960005267276027, 2.186112563033327, 2.243676880306628, 1.7146287722558797, 1.735379299057471, 1.7082017415992345, 1.7155266158703717, 1.762038421814699, 5.714798202270485, 3.852074954508126, 4.681328274103503, 3.503509381948749, 3.115884666176363, 3.125460257074238, 3.1328379468053162, 3.1187242153393857, 3.1305772026835506, 3.1279003159009737, 1.9680470098373701, 1.9678139538526755, 1.9691702374456848, 1.5876596794949176, 1.610353351444084, 1.5981573204793276, 1.6010768479415298, 1.6053651129116586, 1.6135210076625737, 1.605111691284788, 1.694405183227803, 1.7155266158703717, 1.7136570516109448, 1.7082017415992345, 1.735379299057471, 1.7146287722558797, 1.695171450158162, 2.186112563033327, 1.7960005267276027, 1.797860283784376, 2.270872154127286, 2.2668784502015735, 7.111860377202425, 6.105818522974059, 3.524064061668601, 3.0091221828951094, 3.543189109897825, 2.156219872594741, 1.7273596413804289, 1.731137962863591, 1.745901419358851, 1.7303472474101855, 1.7463475593157491, 1.739218014496121, 1.751472845389077, 1.7298965673748314, 1.695171450158162, 1.7637417243240794, 1.7545736083334846, 1.762038421814699, 2.243676880306628, 1.7136570516109448, 1.6053651129116586, 1.605111691284788, 1.6135210076625737, 1.5981573204793276, 1.6010768479415298, 1.610353351444084, 1.5876596794949176, 1.735379299057471, 1.7082017415992345, 1.694405183227803, 1.7146287722558797, 1.7155266158703717, 1.8284578251987276, 1.824383260213883, 4.262265641978227, 1.828323087585299, 1.9691702374456848, 2.270872154127286, 1.827463040823808, 3.1279003159009737, 6.105818522974059, 1.9680470098373701, 4.681328274103503, 3.503509381948749, 7.111860377202425, 3.794280921852624, 3.1187242153393857, 3.1305772026835506], \"Category\": [\"Default\", \"Default\", \"Default\", \"Default\", \"Default\", \"Default\", \"Default\", \"Default\", \"Default\", \"Default\", \"Default\", \"Default\", \"Default\", \"Default\", \"Default\", \"Default\", \"Default\", \"Default\", \"Default\", \"Default\", \"Default\", \"Default\", \"Default\", \"Default\", \"Default\", \"Default\", \"Default\", \"Default\", \"Default\", \"Default\", \"Topic1\", \"Topic1\", \"Topic1\", \"Topic1\", \"Topic1\", \"Topic1\", \"Topic1\", \"Topic1\", \"Topic1\", \"Topic1\", \"Topic1\", \"Topic1\", \"Topic1\", \"Topic1\", \"Topic1\", \"Topic1\", \"Topic1\", \"Topic1\", \"Topic1\", \"Topic1\", \"Topic1\", \"Topic1\", \"Topic1\", \"Topic1\", \"Topic1\", \"Topic1\", \"Topic1\", \"Topic1\", \"Topic1\", \"Topic1\", \"Topic2\", \"Topic2\", \"Topic2\", \"Topic2\", \"Topic2\", \"Topic2\", \"Topic2\", \"Topic2\", \"Topic2\", \"Topic2\", \"Topic2\", \"Topic2\", \"Topic2\", \"Topic2\", \"Topic2\", \"Topic2\", \"Topic2\", \"Topic2\", \"Topic2\", \"Topic2\", \"Topic2\", \"Topic2\", \"Topic2\", \"Topic2\", \"Topic2\", \"Topic2\", \"Topic2\", \"Topic2\", \"Topic2\", \"Topic2\", \"Topic2\", \"Topic2\", \"Topic2\", \"Topic2\", \"Topic3\", \"Topic3\", \"Topic3\", \"Topic3\", \"Topic3\", \"Topic3\", \"Topic3\", \"Topic3\", \"Topic3\", \"Topic3\", \"Topic3\", \"Topic3\", \"Topic3\", \"Topic3\", \"Topic3\", \"Topic3\", \"Topic3\", \"Topic3\", \"Topic3\", \"Topic3\", \"Topic3\", \"Topic3\", \"Topic3\", \"Topic3\", \"Topic3\", \"Topic3\", \"Topic3\", \"Topic3\", \"Topic3\", \"Topic3\", \"Topic3\", \"Topic3\", \"Topic3\", \"Topic3\", \"Topic3\", \"Topic3\", \"Topic3\", \"Topic3\", \"Topic3\", \"Topic3\", \"Topic3\", \"Topic3\", \"Topic3\", \"Topic3\", \"Topic3\", \"Topic3\"], \"logprob\": [30.0, 29.0, 28.0, 27.0, 26.0, 25.0, 24.0, 23.0, 22.0, 21.0, 20.0, 19.0, 18.0, 17.0, 16.0, 15.0, 14.0, 13.0, 12.0, 11.0, 10.0, 9.0, 8.0, 7.0, 6.0, 5.0, 4.0, 3.0, 2.0, 1.0, -2.5687, -2.8205, -2.4172, -3.0702, -3.0787, -2.9792, -3.6946, -3.7671, -3.7748, -4.0099, -4.0136, -3.7869, -4.0071, -4.0066, -4.0131, -4.0104, -4.0179, -4.0094, -4.0126, -4.0294, -4.0709, -4.0795, -4.0888, -3.9894, -4.0077, -4.3951, -4.463, -4.4799, -4.4782, -4.4841, -2.4081, -2.8655, -2.6907, -2.9886, -3.1193, -3.119, -3.1184, -3.1249, -3.1214, -3.1295, -3.7387, -3.7462, -3.7507, -4.0551, -4.0517, -4.0621, -4.0661, -4.064, -4.06, -4.0749, -4.4029, -4.4972, -4.5091, -4.5203, -4.5269, -4.6171, -4.7031, -4.5604, -5.1523, -5.1793, -5.0268, -5.0393, -4.6339, -4.9572, -2.5551, -2.7686, -2.6678, -3.1914, -3.4908, -3.4923, -3.4887, -3.4996, -3.4935, -3.5049, -3.5026, -3.5153, -3.9507, -3.9309, -3.9417, -3.9556, -3.9502, -4.7156, -4.8054, -4.8145, -4.8118, -4.8291, -4.8343, -4.8342, -4.8513, -4.7696, -4.8263, -4.8374, -4.8508, -4.8542, -4.8086, -4.8125, -4.4339, -4.8139, -4.7977, -4.7851, -4.817, -4.7482, -4.6907, -4.8075, -4.7581, -4.7793, -4.757, -4.7937, -4.7982, -4.799], \"loglift\": [30.0, 29.0, 28.0, 27.0, 26.0, 25.0, 24.0, 23.0, 22.0, 21.0, 20.0, 19.0, 18.0, 17.0, 16.0, 15.0, 14.0, 13.0, 12.0, 11.0, 10.0, 9.0, 8.0, 7.0, 6.0, 5.0, 4.0, 3.0, 2.0, 1.0, 0.7219, 0.7219, 0.7209, 0.695, 0.6877, 0.6708, 0.5756, 0.5167, 0.5066, 0.494, 0.4931, 0.4928, 0.4894, 0.4876, 0.4867, 0.4859, 0.4858, 0.4853, 0.4843, 0.4692, 0.436, 0.4338, 0.4255, 0.3284, 0.284, 0.1656, 0.0856, 0.0845, 0.0819, 0.0493, 0.9487, 0.8857, 0.8656, 0.8575, 0.8441, 0.8413, 0.8395, 0.8376, 0.8373, 0.83, 0.6842, 0.6767, 0.6716, 0.5825, 0.5717, 0.5689, 0.5631, 0.5625, 0.5615, 0.5518, 0.1696, 0.063, 0.0522, 0.0442, 0.0218, -0.0565, -0.131, -0.2426, -0.638, -0.666, -0.7471, -0.7578, -1.4958, -1.6666, 1.2851, 1.2296, 1.167, 1.1402, 1.0625, 1.0588, 1.0539, 1.0519, 1.0488, 1.0415, 1.0368, 1.0365, 0.6214, 0.6016, 0.5959, 0.5778, 0.3416, -0.1544, -0.1788, -0.1879, -0.1904, -0.198, -0.2051, -0.2108, -0.2137, -0.221, -0.2619, -0.2648, -0.2901, -0.294, -0.3122, -0.3139, -0.7839, -0.3175, -0.3755, -0.5054, -0.3201, -0.7887, -1.4, -0.3847, -1.2018, -0.9332, -1.6189, -1.0273, -0.8358, -0.8403]}, \"token.table\": {\"Topic\": [2, 2, 2, 1, 3, 2, 3, 1, 1, 1, 1, 1, 2, 2, 1, 2, 1, 2, 2, 1, 1, 1, 1, 1, 1, 1, 2, 2, 1, 2, 2, 1, 3, 2, 2, 1, 3, 3, 3, 1, 2, 1, 3, 3, 1, 2, 2, 3, 1, 2, 2, 2, 1, 3, 1, 2, 1, 1, 2, 1, 1, 3, 1, 3, 1, 3, 3, 2, 3, 2, 3, 3, 1, 2, 2, 1, 1, 1, 1, 2, 1, 2], \"Freq\": [0.6197626155786156, 0.6257206266152039, 0.5081781222468489, 0.2822316193077363, 0.8466948579232089, 0.85628427754668, 0.5789182380114222, 0.5567927097560751, 0.8724188350697687, 0.7897547684768533, 0.5487617147783556, 0.5481304404660917, 0.623009604521393, 0.6388598237684691, 0.5829113875290419, 0.5829113875290419, 0.21361458574308267, 0.8544583429723307, 0.5081179438303332, 0.5562167477747864, 0.9384680205299211, 0.8188910268437801, 0.8843769519314679, 0.5457355119058303, 0.546949281989716, 0.5854109474585775, 0.5854109474585775, 0.7788010450027891, 0.8426570996938358, 0.6209817237336454, 0.6298579052647669, 0.4456969756996992, 0.4456969756996992, 0.6418722816381669, 0.6383988045214667, 0.5509311271959876, 0.9275491917219231, 0.5709480467439717, 0.5727700252212585, 0.5762429000640527, 0.5762429000640527, 0.5469089777289854, 0.6646456602422764, 0.5776547112084777, 0.5832166216855987, 0.5832166216855987, 0.5899108316782343, 0.5899108316782343, 0.5835473317487518, 0.5835473317487518, 0.6394065660701567, 0.6229112567335509, 0.5472066890880631, 0.8512898595207536, 0.5901776091684415, 0.5901776091684415, 0.7906636492627429, 0.8436611071884127, 0.14061018453140212, 0.5526958137065947, 0.5699390411724089, 0.5699390411724089, 0.566976437767968, 0.566976437767968, 0.5675245145733621, 0.5675245145733621, 0.5780692434794117, 0.5078281100252424, 0.5726236994838635, 0.6245796391882616, 0.5779186816384412, 0.5749710454153247, 0.5510176644591775, 0.6412878670589205, 0.6399057532320734, 0.8807188887163997, 0.8822705071911366, 0.5525532767111179, 0.545976366117078, 0.8749215323147376, 0.4574329871708235, 0.4574329871708235], \"Term\": [\"accommodating highly recommend\", \"accommodating highly recommend hotel\", \"clean comfortable room\", \"clean comfortable staff\", \"clean comfortable staff\", \"clean well maintained\", \"close great shopping\", \"decided stay westin\", \"easy walking distance\", \"eggs bacon sausage\", \"enjoyed stay hotel\", \"every time make\", \"feel right home\", \"flat screen tv\", \"free breakfast free\", \"free breakfast free\", \"free continental breakfast\", \"free continental breakfast\", \"free wi fi\", \"friendly helpful rooms\", \"friendly helpful staff\", \"front desk staff\", \"gloved elevator operators\", \"goes way make\", \"goes way make sure\", \"high speed internet\", \"high speed internet\", \"highly recommend hotel\", \"hilton garden inn\", \"hotel clean well\", \"hotel clean well maintained\", \"hotel great location\", \"hotel great location\", \"hotel well maintained\", \"hotel well maintained clean\", \"indoor outdoor pool\", \"international quilt festival\", \"jo sonny john\", \"made feel welcome\", \"memorial city mall\", \"memorial city mall\", \"next door get\", \"one bedroom suite\", \"pool hot tub\", \"really enjoyed stay\", \"really enjoyed stay\", \"right across street\", \"right across street\", \"room clean comfortable\", \"room clean comfortable\", \"room clean modern\", \"rooms spacious clean\", \"rooms spacious well\", \"staff always helpful\", \"staff friendly accommodating\", \"staff friendly accommodating\", \"staff friendly especially\", \"staff friendly helpful\", \"staff friendly helpful\", \"staff friendly helpful rooms\", \"staff friendly really\", \"staff friendly really\", \"stay drury inn\", \"stay drury inn\", \"stayed best western\", \"stayed best western\", \"stayed executive suite\", \"stayed one night\", \"towels old worn\", \"trip advisor reviews\", \"updated rooms great\", \"upper east side\", \"way make sure\", \"well equipped fitness\", \"well maintained clean\", \"white gloved elevator\", \"white gloved elevator operators\", \"within easy walking\", \"within easy walking distance\", \"within walking distance\", \"would definitely stay\", \"would definitely stay\"]}, \"R\": 30, \"lambda.step\": 0.01, \"plot.opts\": {\"xlab\": \"PC1\", \"ylab\": \"PC2\"}, \"topic.order\": [2, 1, 3]};\n",
       "\n",
       "function LDAvis_load_lib(url, callback){\n",
       "  var s = document.createElement('script');\n",
       "  s.src = url;\n",
       "  s.async = true;\n",
       "  s.onreadystatechange = s.onload = callback;\n",
       "  s.onerror = function(){console.warn(\"failed to load library \" + url);};\n",
       "  document.getElementsByTagName(\"head\")[0].appendChild(s);\n",
       "}\n",
       "\n",
       "if(typeof(LDAvis) !== \"undefined\"){\n",
       "   // already loaded: just create the visualization\n",
       "   !function(LDAvis){\n",
       "       new LDAvis(\"#\" + \"ldavis_el2041396423477946405284648975\", ldavis_el2041396423477946405284648975_data);\n",
       "   }(LDAvis);\n",
       "}else if(typeof define === \"function\" && define.amd){\n",
       "   // require.js is available: use it to load d3/LDAvis\n",
       "   require.config({paths: {d3: \"https://d3js.org/d3.v5\"}});\n",
       "   require([\"d3\"], function(d3){\n",
       "      window.d3 = d3;\n",
       "      LDAvis_load_lib(\"https://cdn.jsdelivr.net/gh/bmabey/pyLDAvis@3.3.1/pyLDAvis/js/ldavis.v3.0.0.js\", function(){\n",
       "        new LDAvis(\"#\" + \"ldavis_el2041396423477946405284648975\", ldavis_el2041396423477946405284648975_data);\n",
       "      });\n",
       "    });\n",
       "}else{\n",
       "    // require.js not available: dynamically load d3 & LDAvis\n",
       "    LDAvis_load_lib(\"https://d3js.org/d3.v5.js\", function(){\n",
       "         LDAvis_load_lib(\"https://cdn.jsdelivr.net/gh/bmabey/pyLDAvis@3.3.1/pyLDAvis/js/ldavis.v3.0.0.js\", function(){\n",
       "                 new LDAvis(\"#\" + \"ldavis_el2041396423477946405284648975\", ldavis_el2041396423477946405284648975_data);\n",
       "            })\n",
       "         });\n",
       "}\n",
       "</script>"
      ],
      "text/plain": [
       "PreparedData(topic_coordinates=                 x            y  topics  cluster       Freq\n",
       "topic                                                      \n",
       "1     -1015.700562  1338.981201       1        1  42.675694\n",
       "0      -387.996002  -373.316162       2        1  34.276216\n",
       "2     -2184.745605   -60.565800       3        1  23.048090, topic_info=                         Term      Freq     Total Category  logprob  loglift\n",
       "65    within walking distance  5.000000  5.000000  Default  30.0000  30.0000\n",
       "44       staff always helpful  3.000000  3.000000  Default  29.0000  29.0000\n",
       "3     clean comfortable staff  3.000000  3.000000  Default  28.0000  28.0000\n",
       "36          one bedroom suite  3.000000  3.000000  Default  27.0000  27.0000\n",
       "47     staff friendly helpful  7.000000  7.000000  Default  26.0000  26.0000\n",
       "..                        ...       ...       ...      ...      ...      ...\n",
       "4       clean well maintained  0.317583  3.503509   Topic3  -4.7793  -0.9332\n",
       "47     staff friendly helpful  0.324750  7.111860   Topic3  -4.7570  -1.6189\n",
       "46  staff friendly especially  0.313042  3.794281   Topic3  -4.7937  -1.0273\n",
       "59      well equipped fitness  0.311625  3.118724   Topic3  -4.7982  -0.8358\n",
       "12             flat screen tv  0.311395  3.130577   Topic3  -4.7990  -0.8403\n",
       "\n",
       "[140 rows x 6 columns], token_table=      Topic      Freq                                  Term\n",
       "term                                                       \n",
       "0         2  0.619763        accommodating highly recommend\n",
       "1         2  0.625721  accommodating highly recommend hotel\n",
       "2         2  0.508178                clean comfortable room\n",
       "3         1  0.282232               clean comfortable staff\n",
       "3         3  0.846695               clean comfortable staff\n",
       "...     ...       ...                                   ...\n",
       "63        1  0.552553                   within easy walking\n",
       "64        1  0.545976          within easy walking distance\n",
       "65        2  0.874922               within walking distance\n",
       "66        1  0.457433                 would definitely stay\n",
       "66        2  0.457433                 would definitely stay\n",
       "\n",
       "[82 rows x 3 columns], R=30, lambda_step=0.01, plot_opts={'xlab': 'PC1', 'ylab': 'PC2'}, topic_order=[2, 1, 3])"
      ]
     },
     "execution_count": 308,
     "metadata": {},
     "output_type": "execute_result"
    }
   ],
   "source": [
    "import pyLDAvis\n",
    "import pyLDAvis.sklearn\n",
    "pyLDAvis.enable_notebook()\n",
    "pyLDAvis.sklearn.prepare(lda_model, data_matrix, vectorizer, mds='tsne')"
   ]
  },
  {
   "cell_type": "code",
   "execution_count": null,
   "id": "XPSKINChjGvz",
   "metadata": {
    "id": "XPSKINChjGvz"
   },
   "outputs": [],
   "source": [
    "# wordcloud function\n",
    "def random_color_func(word=None, font_size=None, position=None, orientation=None, font_path=None, random_state=None):\n",
    "    h = int(360.0 * 45.0 / 255.0)\n",
    "    s = int(100.0 * 255.0 / 255.0)\n",
    "    l = int(100.0 * float(random_state.randint(60, 120)) / 255.0)\n",
    "\n",
    "    return \"hsl({}, {}%, {}%)\".format(h, s, l)\n",
    "\n",
    "from wordcloud import WordCloud\n",
    "import matplotlib.pyplot as plt\n",
    "\n",
    "def show_wordcloud(data, title = None):\n",
    "    wordcloud = WordCloud(font_path = r'C:\\Windows\\Fonts\\Verdana.ttf',\n",
    "                            background_color = 'white',\n",
    "                            width = 1200,\n",
    "                            height = 1000,\n",
    "                            color_func = random_color_func\n",
    "                            ).generate(str(data))\n",
    "\n",
    "    fig = plt.figure(1, figsize = (50, 50))\n",
    "    plt.axis('off')\n",
    "    if title: \n",
    "        fig.suptitle(title, fontsize = 20)\n",
    "        fig.subplots_adjust(top = 2.3)\n",
    "\n",
    "    plt.imshow(wordcloud)\n",
    "    plt.show()"
   ]
  },
  {
   "cell_type": "code",
   "execution_count": null,
   "id": "yWT1Jp_A_Rbb",
   "metadata": {
    "colab": {
     "base_uri": "https://localhost:8080/"
    },
    "id": "yWT1Jp_A_Rbb",
    "outputId": "b19cd693-5e1e-426a-a439-cd6f5080f8a6"
   },
   "outputs": [
    {
     "name": "stdout",
     "output_type": "stream",
     "text": [
      "Top 10 words for topic #0:\n",
      "['hotel clean well maintained', 'hotel clean well', 'stayed one night', 'clean comfortable room', 'free wi fi', 'room clean modern', 'well equipped fitness', 'flat screen tv', 'hotel well maintained', 'well maintained clean', 'hotel well maintained clean', 'clean well maintained', 'highly recommend hotel', 'free continental breakfast', 'within walking distance']\n",
      "\n",
      "\n",
      "Top 10 words for topic #1:\n",
      "['within easy walking distance', 'hotel great location', 'goes way make sure', 'goes way make', 'would definitely stay', 'white gloved elevator', 'white gloved elevator operators', 'gloved elevator operators', 'easy walking distance', 'staff friendly especially', 'eggs bacon sausage', 'friendly helpful staff', 'hilton garden inn', 'front desk staff', 'staff friendly helpful']\n",
      "\n",
      "\n",
      "Top 10 words for topic #2:\n",
      "['hotel great location', 'staff friendly really', 'stay drury inn', 'stayed executive suite', 'upper east side', 'jo sonny john', 'updated rooms great', 'towels old worn', 'pool hot tub', 'close great shopping', 'made feel welcome', 'international quilt festival', 'one bedroom suite', 'clean comfortable staff', 'staff always helpful']\n",
      "\n",
      "\n"
     ]
    },
    {
     "name": "stderr",
     "output_type": "stream",
     "text": [
      "/usr/local/lib/python3.7/dist-packages/sklearn/utils/deprecation.py:87: FutureWarning: Function get_feature_names is deprecated; get_feature_names is deprecated in 1.0 and will be removed in 1.2. Please use get_feature_names_out instead.\n",
      "  warnings.warn(msg, category=FutureWarning)\n"
     ]
    }
   ],
   "source": [
    "for i,topic in enumerate(lda_model.components_):\n",
    "    print(f'Top 10 words for topic #{i}:')\n",
    "    print([vectorizer.get_feature_names()[i] for i in topic.argsort()[-15:]])\n",
    "    print('\\n')"
   ]
  },
  {
   "cell_type": "code",
   "execution_count": null,
   "id": "YEPECv0seZnw",
   "metadata": {
    "colab": {
     "base_uri": "https://localhost:8080/",
     "height": 1000
    },
    "id": "YEPECv0seZnw",
    "outputId": "6ed64c72-70d0-487c-996a-bffcb59a22d5"
   },
   "outputs": [
    {
     "name": "stderr",
     "output_type": "stream",
     "text": [
      "/usr/local/lib/python3.7/dist-packages/sklearn/utils/deprecation.py:87: FutureWarning: Function get_feature_names is deprecated; get_feature_names is deprecated in 1.0 and will be removed in 1.2. Please use get_feature_names_out instead.\n",
      "  warnings.warn(msg, category=FutureWarning)\n",
      "/usr/local/lib/python3.7/dist-packages/pyLDAvis/_prepare.py:247: FutureWarning: In a future version of pandas all arguments of DataFrame.drop except for the argument 'labels' will be keyword-only\n",
      "  by='saliency', ascending=False).head(R).drop('saliency', 1)\n",
      "/usr/local/lib/python3.7/dist-packages/sklearn/manifold/_t_sne.py:783: FutureWarning: The default initialization in TSNE will change from 'random' to 'pca' in 1.2.\n",
      "  FutureWarning,\n",
      "/usr/local/lib/python3.7/dist-packages/sklearn/manifold/_t_sne.py:793: FutureWarning: The default learning rate in TSNE will change from 200.0 to 'auto' in 1.2.\n",
      "  FutureWarning,\n",
      "/usr/local/lib/python3.7/dist-packages/sklearn/manifold/_t_sne.py:827: FutureWarning: 'square_distances' has been introduced in 0.24 to help phase out legacy squaring behavior. The 'legacy' setting will be removed in 1.1 (renaming of 0.26), and the default setting will be changed to True. In 1.3, 'square_distances' will be removed altogether, and distances will be squared by default. Set 'square_distances'=True to silence this warning.\n",
      "  FutureWarning,\n"
     ]
    },
    {
     "data": {
      "text/html": [
       "\n",
       "<link rel=\"stylesheet\" type=\"text/css\" href=\"https://cdn.jsdelivr.net/gh/bmabey/pyLDAvis@3.3.1/pyLDAvis/js/ldavis.v1.0.0.css\">\n",
       "\n",
       "\n",
       "<div id=\"ldavis_el601407175224622886750004708\"></div>\n",
       "<script type=\"text/javascript\">\n",
       "\n",
       "var ldavis_el601407175224622886750004708_data = {\"mdsDat\": {\"x\": [-60.31231689453125, 60.31256103515625], \"y\": [141.36962890625, -141.369140625], \"topics\": [1, 2], \"cluster\": [1, 1], \"Freq\": [55.62987857493342, 44.370121425066586]}, \"tinfo\": {\"Term\": [\"family friends\", \"stayed hotel\", \"bed room\", \"king bed\", \"corner suite\", \"memorial city\", \"cocktail hour\", \"stayed business\", \"bar area\", \"stayed past\", \"clean breakfast\", \"run hotel\", \"garden inn\", \"road noise\", \"blah blah\", \"hilton garden inn\", \"hilton garden\", \"service staff\", \"area stayed\", \"westin memorial\", \"late night\", \"stay westin\", \"room service\", \"king bed room\", \"la quinta\", \"living room\", \"hilton god blessings\", \"look really want kick\", \"buses mention horse drawn carriages escape\", \"business really fascinated experience say\", \"bed room\", \"king bed\", \"king bed room\", \"la quinta\", \"living room\", \"toilet bowl\", \"room nice\", \"recommend hotel\", \"wall feet away\", \"microwave small\", \"far away\", \"nice comfortable\", \"poor lighting plumbing\", \"housekeeping staff\", \"wall feet\", \"feet away\", \"good reviews\", \"poor lighting\", \"plumbing rattle\", \"breakfast ok\", \"comfortable room\", \"staff general\", \"stayed nights\", \"lighting plumbing\", \"returned room\", \"nd floor\", \"minutes walk\", \"decided walk\", \"average hotel\", \"desk guy\", \"pastries bagels\", \"king room\", \"booked king\", \"family friends\", \"stayed hotel\", \"memorial city\", \"corner suite\", \"cocktail hour\", \"clean breakfast\", \"stayed business\", \"stayed past\", \"bar area\", \"run hotel\", \"garden inn\", \"hilton garden inn\", \"road noise\", \"blah blah\", \"service staff\", \"hilton garden\", \"area stayed\", \"westin memorial\", \"late night\", \"room service\", \"stay westin\", \"look really want kick\", \"hilton god blessings\", \"trip bit expensive\", \"business really fascinated experience say\", \"person clean breakfast\", \"check professional friendly property worthy best\", \"buses mention horse drawn carriages escape\", \"bar according\", \"oh failed\", \"evaluate want\", \"really fascinated\", \"behavior amazing family friends arriving\", \"deals level hotels\", \"visited hotel\", \"west experience bother effort cabs\", \"felt truly welcomed home fact got\", \"fancy style hotel built\", \"stations wonderful large bathroom lots light\", \"correct hard place\", \"road noise day night louder liked\", \"steps aways usually stay casablanca elysee\", \"view hotel highway downtown evaluate want\", \"event planner hotel person possibly\"], \"Freq\": [2.0, 1.0, 2.0, 2.0, 1.0, 1.0, 1.0, 1.0, 1.0, 1.0, 1.0, 1.0, 1.0, 1.0, 1.0, 1.0, 1.0, 1.0, 1.0, 1.0, 1.0, 1.0, 1.0, 1.0, 1.0, 1.0, 0.0, 0.0, 0.0, 0.0, 1.9914488623760922, 1.999641049338156, 1.617501328782245, 1.5920591658733292, 1.5979203754123608, 1.1764153712235146, 1.1681461042441579, 1.1703355466484093, 1.1670024627827524, 1.1516911278663244, 1.1500809684023492, 1.1768472562931818, 1.1539551005458122, 1.1565187830336516, 1.152340331546373, 1.1531461437033572, 1.1335961898220142, 1.1704467794680387, 1.1605192722290336, 1.1687345212580182, 1.1571673801298985, 1.1632376393432053, 1.1555150999259647, 1.1602579253268526, 1.1671987061858962, 1.1310473072523546, 1.143034746415348, 1.1385793517218352, 1.157214076986493, 1.1452292155092683, 1.1521907721321971, 1.149835292205123, 1.1531171271279061, 1.7569806795467608, 1.3704501871633825, 1.025449134276041, 1.0345002620253834, 1.0238256450340881, 1.0022614355256767, 1.0246305491405046, 1.0181980226629266, 1.0289426014982441, 1.0157095909235807, 1.0153114996346198, 1.0056578794985434, 1.013069487832721, 1.0121519421607679, 0.9942844327984143, 1.0126591035915935, 1.0129787471841274, 0.9823091210544587, 0.99136053730487, 0.9738146811413984, 0.9843731718393647, 0.662957348903845, 0.6713738475437179, 0.6634724557506528, 0.666410135590533, 0.6562910059514308, 0.6628781296288666, 0.6730121608534265, 0.6608447871397207, 0.6493318633742055, 0.6682673206303151, 0.6641090918885937, 0.6632347576363641, 0.6813911292654519, 0.6780149157580887, 0.6818578418784252, 0.6830093800646225, 0.6768189333658817, 0.677477809913362, 0.6848779352347953, 0.6827236127594368, 0.682463683279689, 0.6795622927847358, 0.6777951541888115], \"Total\": [2.0, 1.0, 2.0, 2.0, 1.0, 1.0, 1.0, 1.0, 1.0, 1.0, 1.0, 1.0, 1.0, 1.0, 1.0, 1.0, 1.0, 1.0, 1.0, 1.0, 1.0, 1.0, 1.0, 1.0, 1.0, 1.0, 0.0, 0.0, 0.0, 0.0, 2.298835292914645, 2.31263692694876, 1.9083848874296478, 1.8794854449021994, 1.8936180551419262, 1.4550059651145046, 1.4470946764984387, 1.4537544822675814, 1.4501767004005988, 1.4316703586155528, 1.4345188632175137, 1.4693194953655455, 1.44091151760975, 1.4442034270454738, 1.442121281251064, 1.444174113882303, 1.4197732649600243, 1.4659383543675357, 1.4568287372178723, 1.4672987224825351, 1.4546356263817268, 1.4631797161070657, 1.4548120416405839, 1.46175695089478, 1.4705597497784126, 1.4263671467849914, 1.443247619790601, 1.4392390634571302, 1.4630489904939563, 1.4510247073174127, 1.463861203752545, 1.4599614128498817, 1.466574690446539, 2.1302436149519246, 1.7101456281048666, 1.3519817577792803, 1.363927887374524, 1.352477716568619, 1.3268944386092185, 1.357155023636994, 1.3523404970661768, 1.3676425061005948, 1.352253967519038, 1.3519803249912878, 1.3421485206554378, 1.3528161717168043, 1.3521944089050226, 1.3303570450971256, 1.3611792358389776, 1.3699130499674486, 1.3350109206025955, 1.353172566475901, 1.34958209696387, 1.3663822746975045, 0.9555297999279834, 0.9681910439051828, 0.9609662746413428, 0.9660517291224321, 0.951936653175679, 0.9615123327728368, 0.9772487507752629, 0.9600642841605067, 0.9436325135310992, 0.9712684617467442, 0.965884277124035, 0.9644361002273643, 0.9987009721234452, 0.992304708106671, 1.0003568597370847, 1.0044680682722655, 0.9930066095032704, 0.9953566643397298, 1.0167850600311963, 1.0117787471628013, 1.0115569253691903, 1.00358936103951, 1.011059690451861], \"Category\": [\"Default\", \"Default\", \"Default\", \"Default\", \"Default\", \"Default\", \"Default\", \"Default\", \"Default\", \"Default\", \"Default\", \"Default\", \"Default\", \"Default\", \"Default\", \"Default\", \"Default\", \"Default\", \"Default\", \"Default\", \"Default\", \"Default\", \"Default\", \"Default\", \"Default\", \"Default\", \"Default\", \"Default\", \"Default\", \"Default\", \"Topic1\", \"Topic1\", \"Topic1\", \"Topic1\", \"Topic1\", \"Topic1\", \"Topic1\", \"Topic1\", \"Topic1\", \"Topic1\", \"Topic1\", \"Topic1\", \"Topic1\", \"Topic1\", \"Topic1\", \"Topic1\", \"Topic1\", \"Topic1\", \"Topic1\", \"Topic1\", \"Topic1\", \"Topic1\", \"Topic1\", \"Topic1\", \"Topic1\", \"Topic1\", \"Topic1\", \"Topic1\", \"Topic1\", \"Topic1\", \"Topic1\", \"Topic1\", \"Topic1\", \"Topic2\", \"Topic2\", \"Topic2\", \"Topic2\", \"Topic2\", \"Topic2\", \"Topic2\", \"Topic2\", \"Topic2\", \"Topic2\", \"Topic2\", \"Topic2\", \"Topic2\", \"Topic2\", \"Topic2\", \"Topic2\", \"Topic2\", \"Topic2\", \"Topic2\", \"Topic2\", \"Topic2\", \"Topic2\", \"Topic2\", \"Topic2\", \"Topic2\", \"Topic2\", \"Topic2\", \"Topic2\", \"Topic2\", \"Topic2\", \"Topic2\", \"Topic2\", \"Topic2\", \"Topic2\", \"Topic2\", \"Topic2\", \"Topic2\", \"Topic2\", \"Topic2\", \"Topic2\", \"Topic2\", \"Topic2\", \"Topic2\", \"Topic2\"], \"logprob\": [30.0, 29.0, 28.0, 27.0, 26.0, 25.0, 24.0, 23.0, 22.0, 21.0, 20.0, 19.0, 18.0, 17.0, 16.0, 15.0, 14.0, 13.0, 12.0, 11.0, 10.0, 9.0, 8.0, 7.0, 6.0, 5.0, 4.0, 3.0, 2.0, 1.0, -8.2968, -8.2927, -8.5048, -8.5207, -8.517, -8.8232, -8.8303, -8.8284, -8.8312, -8.8445, -8.8459, -8.8228, -8.8425, -8.8403, -8.8439, -8.8432, -8.8603, -8.8283, -8.8368, -8.8298, -8.8397, -8.8345, -8.8411, -8.837, -8.8311, -8.8625, -8.852, -8.8559, -8.8397, -8.8501, -8.844, -8.8461, -8.8432, -8.1959, -8.4444, -8.7344, -8.7256, -8.736, -8.7573, -8.7352, -8.7415, -8.731, -8.7439, -8.7443, -8.7539, -8.7465, -8.7474, -8.7653, -8.7469, -8.7466, -8.7774, -8.7682, -8.7861, -8.7753, -9.1706, -9.158, -9.1698, -9.1654, -9.1807, -9.1707, -9.1555, -9.1738, -9.1913, -9.1626, -9.1688, -9.1702, -9.1431, -9.1481, -9.1425, -9.1408, -9.1499, -9.1489, -9.138, -9.1412, -9.1416, -9.1458, -9.1484], \"loglift\": [30.0, 29.0, 28.0, 27.0, 26.0, 25.0, 24.0, 23.0, 22.0, 21.0, 20.0, 19.0, 18.0, 17.0, 16.0, 15.0, 14.0, 13.0, 12.0, 11.0, 10.0, 9.0, 8.0, 7.0, 6.0, 5.0, 4.0, 3.0, 2.0, 1.0, 0.4429, 0.441, 0.4211, 0.4205, 0.4167, 0.3739, 0.3723, 0.3696, 0.3692, 0.3688, 0.3655, 0.3645, 0.3644, 0.3643, 0.3621, 0.3614, 0.3613, 0.3613, 0.3591, 0.3589, 0.3577, 0.357, 0.3561, 0.3555, 0.3554, 0.3545, 0.3532, 0.3521, 0.3519, 0.3498, 0.347, 0.3477, 0.346, 0.62, 0.5912, 0.5362, 0.5362, 0.5342, 0.532, 0.5315, 0.5288, 0.528, 0.5264, 0.5262, 0.524, 0.5234, 0.523, 0.5214, 0.5168, 0.5108, 0.5058, 0.5015, 0.4863, 0.4847, 0.447, 0.4465, 0.4422, 0.4413, 0.4407, 0.4407, 0.4396, 0.4391, 0.4388, 0.4387, 0.438, 0.4382, 0.4303, 0.4317, 0.4293, 0.4269, 0.4293, 0.4279, 0.4174, 0.4192, 0.4191, 0.4227, 0.4127]}, \"token.table\": {\"Topic\": [2, 1, 2, 2, 1, 2, 2, 1, 1, 2, 2, 2, 2, 2, 1, 2, 2, 2, 1, 1, 2, 2, 2, 2, 1, 1, 2, 2, 1, 2, 2, 2, 1, 1, 1, 1, 1, 2, 1, 1, 2, 2, 1, 1, 1, 1, 2, 1, 2, 1, 1, 1, 2, 1, 1, 2, 2, 1, 2, 2, 2, 1, 2, 2, 2, 2, 1, 2, 2, 1, 2, 2, 2, 1, 1, 2, 2], \"Freq\": [0.7299733366462651, 0.6835041112754391, 1.0415969185588585, 0.7311852297214625, 0.8700057834348984, 1.0368753303243747, 0.739538629515395, 0.6818609420400692, 0.6815244807874511, 1.0232809192200945, 1.0351412557466324, 1.0400282616408791, 0.7536394538273503, 0.7393837160859901, 0.6874573823600132, 0.7331765918540881, 0.9834920272818709, 1.0013007175449051, 0.6948116024574443, 0.6891681409400352, 1.0295814590762935, 0.9890612883133357, 0.9388597557397848, 1.0070426424454797, 0.6970978393111389, 0.6924372832800255, 0.9955518065597139, 0.7396557342699821, 0.7043378155371565, 0.7346571073600304, 0.7450740246777237, 1.0328540077860215, 0.6924232288007948, 0.8648136578182006, 1.0480066223400806, 0.6849496097626133, 1.0641210366511094, 0.7390040448457534, 0.6841082571133823, 1.0561791986347007, 1.0465398358851479, 0.7396549504059629, 0.698484811103455, 0.6928817940091866, 0.70108176723923, 0.6805871719215257, 1.0597345742761364, 0.6831248737493304, 1.05049006849771, 0.6864224836130807, 0.682156924962537, 0.6940051403425839, 1.035320714586582, 0.6878740614028509, 0.6800131719576048, 0.7391987329150127, 0.9883583765760737, 0.691039789061845, 0.7409701138224059, 0.7395060573086626, 0.7516779075853226, 0.6834430446183323, 1.004664996806296, 0.7318596109726205, 0.7368354996912096, 0.5847455231682057, 0.6873740190329366, 0.7394587399914749, 0.9885751112178167, 0.6872824056919264, 1.0406192458452568, 0.9964234763949749, 1.0077549686406424, 0.6934229547826127, 0.6895711396575043, 0.9996432675663578, 0.7490575429514998], \"Term\": [\"area stayed\", \"average hotel\", \"bar according\", \"bar area\", \"bed room\", \"behavior amazing family friends arriving\", \"blah blah\", \"booked king\", \"breakfast ok\", \"buses mention horse drawn carriages escape\", \"business really fascinated experience say\", \"check professional friendly property worthy best\", \"clean breakfast\", \"cocktail hour\", \"comfortable room\", \"corner suite\", \"correct hard place\", \"deals level hotels\", \"decided walk\", \"desk guy\", \"evaluate want\", \"event planner hotel person possibly\", \"family friends\", \"fancy style hotel built\", \"far away\", \"feet away\", \"felt truly welcomed home fact got\", \"garden inn\", \"good reviews\", \"hilton garden\", \"hilton garden inn\", \"hilton god blessings\", \"housekeeping staff\", \"king bed\", \"king bed room\", \"king room\", \"la quinta\", \"late night\", \"lighting plumbing\", \"living room\", \"look really want kick\", \"memorial city\", \"microwave small\", \"minutes walk\", \"nd floor\", \"nice comfortable\", \"oh failed\", \"pastries bagels\", \"person clean breakfast\", \"plumbing rattle\", \"poor lighting\", \"poor lighting plumbing\", \"really fascinated\", \"recommend hotel\", \"returned room\", \"road noise\", \"road noise day night louder liked\", \"room nice\", \"room service\", \"run hotel\", \"service staff\", \"staff general\", \"stations wonderful large bathroom lots light\", \"stay westin\", \"stayed business\", \"stayed hotel\", \"stayed nights\", \"stayed past\", \"steps aways usually stay casablanca elysee\", \"toilet bowl\", \"trip bit expensive\", \"view hotel highway downtown evaluate want\", \"visited hotel\", \"wall feet\", \"wall feet away\", \"west experience bother effort cabs\", \"westin memorial\"]}, \"R\": 30, \"lambda.step\": 0.01, \"plot.opts\": {\"xlab\": \"PC1\", \"ylab\": \"PC2\"}, \"topic.order\": [2, 1]};\n",
       "\n",
       "function LDAvis_load_lib(url, callback){\n",
       "  var s = document.createElement('script');\n",
       "  s.src = url;\n",
       "  s.async = true;\n",
       "  s.onreadystatechange = s.onload = callback;\n",
       "  s.onerror = function(){console.warn(\"failed to load library \" + url);};\n",
       "  document.getElementsByTagName(\"head\")[0].appendChild(s);\n",
       "}\n",
       "\n",
       "if(typeof(LDAvis) !== \"undefined\"){\n",
       "   // already loaded: just create the visualization\n",
       "   !function(LDAvis){\n",
       "       new LDAvis(\"#\" + \"ldavis_el601407175224622886750004708\", ldavis_el601407175224622886750004708_data);\n",
       "   }(LDAvis);\n",
       "}else if(typeof define === \"function\" && define.amd){\n",
       "   // require.js is available: use it to load d3/LDAvis\n",
       "   require.config({paths: {d3: \"https://d3js.org/d3.v5\"}});\n",
       "   require([\"d3\"], function(d3){\n",
       "      window.d3 = d3;\n",
       "      LDAvis_load_lib(\"https://cdn.jsdelivr.net/gh/bmabey/pyLDAvis@3.3.1/pyLDAvis/js/ldavis.v3.0.0.js\", function(){\n",
       "        new LDAvis(\"#\" + \"ldavis_el601407175224622886750004708\", ldavis_el601407175224622886750004708_data);\n",
       "      });\n",
       "    });\n",
       "}else{\n",
       "    // require.js not available: dynamically load d3 & LDAvis\n",
       "    LDAvis_load_lib(\"https://d3js.org/d3.v5.js\", function(){\n",
       "         LDAvis_load_lib(\"https://cdn.jsdelivr.net/gh/bmabey/pyLDAvis@3.3.1/pyLDAvis/js/ldavis.v3.0.0.js\", function(){\n",
       "                 new LDAvis(\"#\" + \"ldavis_el601407175224622886750004708\", ldavis_el601407175224622886750004708_data);\n",
       "            })\n",
       "         });\n",
       "}\n",
       "</script>"
      ],
      "text/plain": [
       "PreparedData(topic_coordinates=               x           y  topics  cluster       Freq\n",
       "topic                                                   \n",
       "1     -60.312317  141.369629       1        1  55.629879\n",
       "0      60.312561 -141.369141       2        1  44.370121, topic_info=                                             Term      Freq     Total  \\\n",
       "4220                               family friends  2.000000  2.000000   \n",
       "12187                                stayed hotel  1.000000  1.000000   \n",
       "1098                                     bed room  2.000000  2.000000   \n",
       "6697                                     king bed  2.000000  2.000000   \n",
       "2944                                 corner suite  1.000000  1.000000   \n",
       "...                                           ...       ...       ...   \n",
       "2964                           correct hard place  0.684878  1.016785   \n",
       "10458           road noise day night louder liked  0.682724  1.011779   \n",
       "12277  steps aways usually stay casablanca elysee  0.682464  1.011557   \n",
       "13519   view hotel highway downtown evaluate want  0.679562  1.003589   \n",
       "4026          event planner hotel person possibly  0.677795  1.011060   \n",
       "\n",
       "      Category  logprob  loglift  \n",
       "4220   Default  30.0000  30.0000  \n",
       "12187  Default  29.0000  29.0000  \n",
       "1098   Default  28.0000  28.0000  \n",
       "6697   Default  27.0000  27.0000  \n",
       "2944   Default  26.0000  26.0000  \n",
       "...        ...      ...      ...  \n",
       "2964    Topic2  -9.1380   0.4174  \n",
       "10458   Topic2  -9.1412   0.4192  \n",
       "12277   Topic2  -9.1416   0.4191  \n",
       "13519   Topic2  -9.1458   0.4227  \n",
       "4026    Topic2  -9.1484   0.4127  \n",
       "\n",
       "[107 rows x 6 columns], token_table=       Topic      Freq                                Term\n",
       "term                                                      \n",
       "471        2  0.729973                         area stayed\n",
       "724        1  0.683504                       average hotel\n",
       "864        2  1.041597                       bar according\n",
       "869        2  0.731185                            bar area\n",
       "1098       1  0.870006                            bed room\n",
       "...      ...       ...                                 ...\n",
       "13547      2  1.007755                       visited hotel\n",
       "13694      1  0.693423                           wall feet\n",
       "13695      1  0.689571                      wall feet away\n",
       "13950      2  0.999643  west experience bother effort cabs\n",
       "13972      2  0.749058                     westin memorial\n",
       "\n",
       "[77 rows x 3 columns], R=30, lambda_step=0.01, plot_opts={'xlab': 'PC1', 'ylab': 'PC2'}, topic_order=[2, 1])"
      ]
     },
     "execution_count": 22,
     "metadata": {},
     "output_type": "execute_result"
    }
   ],
   "source": [
    "from sklearn.decomposition import LatentDirichletAllocation\n",
    "vectorizer = CountVectorizer(\n",
    "analyzer='word',\n",
    "stop_words='english',       \n",
    "min_df=1,# minimum required occurences of a word\n",
    "max_df = 2,\n",
    "ngram_range = (2,6)                           )\n",
    "data_matrix = vectorizer.fit_transform(Negative_Reviews.review_clean)\n",
    "\n",
    "lda_model = LatentDirichletAllocation(\n",
    "n_components=2, # Number of topics\n",
    "learning_method='online',\n",
    "random_state=20,       \n",
    "n_jobs = -1 )\n",
    "                                     \n",
    "lda_output = lda_model.fit_transform(data_matrix)\n",
    "\n",
    "import pyLDAvis\n",
    "import pyLDAvis.sklearn\n",
    "pyLDAvis.enable_notebook()\n",
    "pyLDAvis.sklearn.prepare(lda_model, data_matrix, vectorizer, mds='tsne')"
   ]
  },
  {
   "cell_type": "code",
   "execution_count": null,
   "id": "MooxNTrjSyRp",
   "metadata": {
    "colab": {
     "base_uri": "https://localhost:8080/"
    },
    "id": "MooxNTrjSyRp",
    "outputId": "78385f61-83e5-4acb-9138-2a8f626dc2b0"
   },
   "outputs": [
    {
     "name": "stdout",
     "output_type": "stream",
     "text": [
      "Top 10 words for topic #0:\n",
      "['leaves lot desired coffee okay', 'tiny lounges pool', 'stay hotel fight', 'night little day getaway recommendation', 'check fast desk attendant', 'kind pillows firm', 'correct basket basket family mind', 'city wait able come', 'decided large lounge area near', 'decided large lounge area', 'strange strike kid family', 'bright room nice disappointment', 'stay long absolutely', 'hilton garden inn', 'king bed room']\n",
      "\n",
      "\n",
      "Top 10 words for topic #1:\n"
     ]
    },
    {
     "name": "stderr",
     "output_type": "stream",
     "text": [
      "/usr/local/lib/python3.7/dist-packages/sklearn/utils/deprecation.py:87: FutureWarning: Function get_feature_names is deprecated; get_feature_names is deprecated in 1.0 and will be removed in 1.2. Please use get_feature_names_out instead.\n",
      "  warnings.warn(msg, category=FutureWarning)\n"
     ]
    },
    {
     "name": "stdout",
     "output_type": "stream",
     "text": [
      "['gabriel helpful tried best', 'nerd style wrap hinge', 'ave shops hansom', 'hotel best really sub brand', 'guests different rooms', 'airport cabs needed arranged car', 'breakfast yes backside faces wall', 'free breakfast consisted rolls assorted', 'self fulfilling prophecy works', 'talk away cell phone', 'love fest action write', 'overall definitely return hotel heartily', 'courtyard marriot way', 'really great write home', 'hotel sheets old bedding old']\n",
      "\n",
      "\n"
     ]
    }
   ],
   "source": [
    "for i,topic in enumerate(lda_model.components_):\n",
    "    print(f'Top 10 words for topic #{i}:')\n",
    "    print([vectorizer.get_feature_names()[i] for i in topic.argsort()[-15:]])\n",
    "    print('\\n')"
   ]
  },
  {
   "cell_type": "markdown",
   "id": "EDGuP1q_FAkt",
   "metadata": {
    "id": "EDGuP1q_FAkt"
   },
   "source": [
    "# Emotions"
   ]
  },
  {
   "cell_type": "code",
   "execution_count": null,
   "id": "we3yjoi4DTTi",
   "metadata": {
    "colab": {
     "base_uri": "https://localhost:8080/"
    },
    "id": "we3yjoi4DTTi",
    "outputId": "6340f34d-e244-4769-cfcc-935b1e0598d8"
   },
   "outputs": [
    {
     "name": "stdout",
     "output_type": "stream",
     "text": [
      "Collecting NRCLex\n",
      "  Downloading NRCLex-3.0.0.tar.gz (396 kB)\n",
      "\u001b[?25l\r",
      "\u001b[K     |▉                               | 10 kB 15.7 MB/s eta 0:00:01\r",
      "\u001b[K     |█▋                              | 20 kB 18.1 MB/s eta 0:00:01\r",
      "\u001b[K     |██▌                             | 30 kB 21.4 MB/s eta 0:00:01\r",
      "\u001b[K     |███▎                            | 40 kB 23.5 MB/s eta 0:00:01\r",
      "\u001b[K     |████▏                           | 51 kB 25.1 MB/s eta 0:00:01\r",
      "\u001b[K     |█████                           | 61 kB 27.5 MB/s eta 0:00:01\r",
      "\u001b[K     |█████▉                          | 71 kB 7.8 MB/s eta 0:00:01\r",
      "\u001b[K     |██████▋                         | 81 kB 7.6 MB/s eta 0:00:01\r",
      "\u001b[K     |███████▍                        | 92 kB 8.4 MB/s eta 0:00:01\r",
      "\u001b[K     |████████▎                       | 102 kB 4.8 MB/s eta 0:00:01\r",
      "\u001b[K     |█████████                       | 112 kB 4.8 MB/s eta 0:00:01\r",
      "\u001b[K     |██████████                      | 122 kB 4.8 MB/s eta 0:00:01\r",
      "\u001b[K     |██████████▊                     | 133 kB 4.8 MB/s eta 0:00:01\r",
      "\u001b[K     |███████████▋                    | 143 kB 4.8 MB/s eta 0:00:01\r",
      "\u001b[K     |████████████▍                   | 153 kB 4.8 MB/s eta 0:00:01\r",
      "\u001b[K     |█████████████▎                  | 163 kB 4.8 MB/s eta 0:00:01\r",
      "\u001b[K     |██████████████                  | 174 kB 4.8 MB/s eta 0:00:01\r",
      "\u001b[K     |██████████████▉                 | 184 kB 4.8 MB/s eta 0:00:01\r",
      "\u001b[K     |███████████████▊                | 194 kB 4.8 MB/s eta 0:00:01\r",
      "\u001b[K     |████████████████▌               | 204 kB 4.8 MB/s eta 0:00:01\r",
      "\u001b[K     |█████████████████▍              | 215 kB 4.8 MB/s eta 0:00:01\r",
      "\u001b[K     |██████████████████▏             | 225 kB 4.8 MB/s eta 0:00:01\r",
      "\u001b[K     |███████████████████             | 235 kB 4.8 MB/s eta 0:00:01\r",
      "\u001b[K     |███████████████████▉            | 245 kB 4.8 MB/s eta 0:00:01\r",
      "\u001b[K     |████████████████████▊           | 256 kB 4.8 MB/s eta 0:00:01\r",
      "\u001b[K     |█████████████████████▌          | 266 kB 4.8 MB/s eta 0:00:01\r",
      "\u001b[K     |██████████████████████▎         | 276 kB 4.8 MB/s eta 0:00:01\r",
      "\u001b[K     |███████████████████████▏        | 286 kB 4.8 MB/s eta 0:00:01\r",
      "\u001b[K     |████████████████████████        | 296 kB 4.8 MB/s eta 0:00:01\r",
      "\u001b[K     |████████████████████████▉       | 307 kB 4.8 MB/s eta 0:00:01\r",
      "\u001b[K     |█████████████████████████▋      | 317 kB 4.8 MB/s eta 0:00:01\r",
      "\u001b[K     |██████████████████████████▌     | 327 kB 4.8 MB/s eta 0:00:01\r",
      "\u001b[K     |███████████████████████████▎    | 337 kB 4.8 MB/s eta 0:00:01\r",
      "\u001b[K     |████████████████████████████    | 348 kB 4.8 MB/s eta 0:00:01\r",
      "\u001b[K     |█████████████████████████████   | 358 kB 4.8 MB/s eta 0:00:01\r",
      "\u001b[K     |█████████████████████████████▊  | 368 kB 4.8 MB/s eta 0:00:01\r",
      "\u001b[K     |██████████████████████████████▋ | 378 kB 4.8 MB/s eta 0:00:01\r",
      "\u001b[K     |███████████████████████████████▍| 389 kB 4.8 MB/s eta 0:00:01\r",
      "\u001b[K     |████████████████████████████████| 396 kB 4.8 MB/s \n",
      "\u001b[?25hRequirement already satisfied: textblob in /usr/local/lib/python3.7/dist-packages (from NRCLex) (0.15.3)\n",
      "Requirement already satisfied: nltk>=3.1 in /usr/local/lib/python3.7/dist-packages (from textblob->NRCLex) (3.2.5)\n",
      "Requirement already satisfied: six in /usr/local/lib/python3.7/dist-packages (from nltk>=3.1->textblob->NRCLex) (1.15.0)\n",
      "Building wheels for collected packages: NRCLex\n",
      "  Building wheel for NRCLex (setup.py) ... \u001b[?25l\u001b[?25hdone\n",
      "  Created wheel for NRCLex: filename=NRCLex-3.0.0-py3-none-any.whl size=43329 sha256=584f09f98cf3fe688f6ab5e1897bea3e78e489e67179d861c43f9ffa0bd0a61f\n",
      "  Stored in directory: /root/.cache/pip/wheels/af/2c/9c/dfa19d1b65326c520b32850a9311f6d4eda679ac04dba26081\n",
      "Successfully built NRCLex\n",
      "Installing collected packages: NRCLex\n",
      "Successfully installed NRCLex-3.0.0\n"
     ]
    }
   ],
   "source": [
    "!pip install NRCLex"
   ]
  },
  {
   "cell_type": "code",
   "execution_count": null,
   "id": "bwuakWknEZcB",
   "metadata": {
    "id": "bwuakWknEZcB"
   },
   "outputs": [],
   "source": [
    "from nrclex import NRCLex\n",
    "str_tweet = \",\".join(Positive_Reviews.review_clean)\n",
    "text_object = NRCLex(str_tweet)\n",
    "data = text_object.raw_emotion_scores\n",
    "emotion_df = pd.DataFrame.from_dict(data, orient='index')\n",
    "emotion_df = emotion_df.reset_index()\n",
    "emotion_df = emotion_df.rename(columns={'index' : 'Emotion Classification' , 0: 'Emotion Count'})\n",
    "emotion_df = emotion_df.sort_values(by=['Emotion Count'], ascending=False)\n",
    "emotion_df.columns = ['Emotion Classification','Positive_Emotion Count']"
   ]
  },
  {
   "cell_type": "code",
   "execution_count": null,
   "id": "3ZsoOcVadoW2",
   "metadata": {
    "id": "3ZsoOcVadoW2"
   },
   "outputs": [],
   "source": [
    "str_tweet = \",\".join(Negative_Reviews.review_clean)\n",
    "text_object = NRCLex(str_tweet)\n",
    "data = text_object.raw_emotion_scores\n",
    "emotion_df['Negative_Emotion Count'] = list(data.values())"
   ]
  },
  {
   "cell_type": "code",
   "execution_count": null,
   "id": "3y67zk0fdq5g",
   "metadata": {
    "id": "3y67zk0fdq5g"
   },
   "outputs": [],
   "source": [
    "str_tweet = \",\".join(Neutral_Reviews.review_clean)\n",
    "text_object = NRCLex(str_tweet)\n",
    "data = text_object.raw_emotion_scores\n",
    "emotion_df['Neutral_Emotion Count'] = list(data.values())"
   ]
  },
  {
   "cell_type": "code",
   "execution_count": null,
   "id": "BD0BoVPkHtrS",
   "metadata": {
    "colab": {
     "base_uri": "https://localhost:8080/",
     "height": 1000
    },
    "id": "BD0BoVPkHtrS",
    "outputId": "1e53e6ea-c1d6-4fc8-81f4-aca557844c23"
   },
   "outputs": [
    {
     "data": {
      "text/plain": [
       "([<matplotlib.axis.XTick at 0x7f0102ada290>,\n",
       "  <matplotlib.axis.XTick at 0x7f0102ada050>,\n",
       "  <matplotlib.axis.XTick at 0x7f0108d63310>,\n",
       "  <matplotlib.axis.XTick at 0x7f0103dd3610>,\n",
       "  <matplotlib.axis.XTick at 0x7f0103dd3250>,\n",
       "  <matplotlib.axis.XTick at 0x7f0103dd3190>,\n",
       "  <matplotlib.axis.XTick at 0x7f010442ae50>,\n",
       "  <matplotlib.axis.XTick at 0x7f010442ad90>,\n",
       "  <matplotlib.axis.XTick at 0x7f0102ada210>,\n",
       "  <matplotlib.axis.XTick at 0x7f00fe37e1d0>],\n",
       " [Text(0, 0, 'positive'),\n",
       "  Text(0, 0, 'trust'),\n",
       "  Text(0, 0, 'joy'),\n",
       "  Text(0, 0, 'anticipation'),\n",
       "  Text(0, 0, 'surprise'),\n",
       "  Text(0, 0, 'negative'),\n",
       "  Text(0, 0, 'sadness'),\n",
       "  Text(0, 0, 'anger'),\n",
       "  Text(0, 0, 'fear'),\n",
       "  Text(0, 0, 'disgust')])"
      ]
     },
     "execution_count": 293,
     "metadata": {},
     "output_type": "execute_result"
    },
    {
     "data": {
      "image/png": "[encoded data removed]",
      "text/plain": [
       "<Figure size 3600x3600 with 1 Axes>"
      ]
     },
     "metadata": {
      "needs_background": "light"
     },
     "output_type": "display_data"
    }
   ],
   "source": [
    "import matplotlib.pyplot as plt\n",
    "\n",
    "serif_font = {'fontname':'serif'}\n",
    "r = np.arange(emotion_df.shape[0])\n",
    "width = 0.25\n",
    "\n",
    "plt.figure(figsize=(50,50))\n",
    "  \n",
    "plt.bar(r, emotion_df['Positive_Emotion Count'], color = 'g',\n",
    "        width = width, edgecolor = 'black',\n",
    "        label='Positive')\n",
    "plt.bar(r + width, emotion_df['Negative_Emotion Count'], color = 'r',\n",
    "        width = width, edgecolor = 'black',\n",
    "        label='Negative')\n",
    "plt.bar(r + 2*width, emotion_df['Neutral_Emotion Count'], color = 'grey',\n",
    "        width = width, edgecolor = 'black',\n",
    "        label='Neutral')\n",
    "\n",
    "plt.xticks(size = 50,rotation = 45)\n",
    "plt.yticks(size = 50)\n",
    "\n",
    "plt.xlabel(\"Emotion Classification\",fontsize = 70,color ='r')\n",
    "plt.ylabel(\"Emotion Count\",fontsize = 70,color ='r')\n",
    "plt.title(\"Emotions Of Review\",size =  100,**serif_font,color = 'Green')\n",
    "\n",
    "plt.legend(['Positive', 'Negative','Neutral'], loc =\"upper right\",fontsize = 50)\n",
    "  \n",
    "# plt.grid(linestyle='--')\n",
    "plt.xticks(r + width/2,list(emotion_df['Emotion Classification']))"
   ]
  },
  {
   "cell_type": "code",
   "execution_count": null,
   "id": "wnDqYsT2dwLg",
   "metadata": {
    "id": "wnDqYsT2dwLg"
   },
   "outputs": [],
   "source": []
  }
 ],
 "metadata": {
  "accelerator": "TPU",
  "colab": {
   "collapsed_sections": [],
   "name": "Big Case 2.ipynb",
   "provenance": []
  },
  "kernelspec": {
   "display_name": "Python 3",
   "language": "python",
   "name": "python3"
  },
  "language_info": {
   "codemirror_mode": {
    "name": "ipython",
    "version": 3
   },
   "file_extension": ".py",
   "mimetype": "text/x-python",
   "name": "python",
   "nbconvert_exporter": "python",
   "pygments_lexer": "ipython3",
   "version": "3.8.8"
  }
 },
 "nbformat": 4,
 "nbformat_minor": 5
}
